{
 "cells": [
  {
   "cell_type": "code",
   "execution_count": 2,
   "metadata": {},
   "outputs": [
    {
     "name": "stdout",
     "output_type": "stream",
     "text": [
      "Requirement already satisfied: plotly in c:\\users\\mwefa\\onedrive\\documents\\data_analysis_portfolio\\python\\.venv\\lib\\site-packages (5.23.0)\n",
      "Requirement already satisfied: tenacity>=6.2.0 in c:\\users\\mwefa\\onedrive\\documents\\data_analysis_portfolio\\python\\.venv\\lib\\site-packages (from plotly) (9.0.0)\n",
      "Requirement already satisfied: packaging in c:\\users\\mwefa\\onedrive\\documents\\data_analysis_portfolio\\python\\.venv\\lib\\site-packages (from plotly) (24.1)\n"
     ]
    }
   ],
   "source": [
    "!pip install plotly"
   ]
  },
  {
   "cell_type": "code",
   "execution_count": 18,
   "metadata": {},
   "outputs": [
    {
     "name": "stdout",
     "output_type": "stream",
     "text": [
      "Requirement already satisfied: nbformat in c:\\users\\mwefa\\onedrive\\documents\\data_analysis_portfolio\\python\\.venv\\lib\\site-packages (5.10.4)\n",
      "Requirement already satisfied: fastjsonschema>=2.15 in c:\\users\\mwefa\\onedrive\\documents\\data_analysis_portfolio\\python\\.venv\\lib\\site-packages (from nbformat) (2.20.0)\n",
      "Requirement already satisfied: jsonschema>=2.6 in c:\\users\\mwefa\\onedrive\\documents\\data_analysis_portfolio\\python\\.venv\\lib\\site-packages (from nbformat) (4.23.0)\n",
      "Requirement already satisfied: jupyter-core!=5.0.*,>=4.12 in c:\\users\\mwefa\\onedrive\\documents\\data_analysis_portfolio\\python\\.venv\\lib\\site-packages (from nbformat) (5.7.2)\n",
      "Requirement already satisfied: traitlets>=5.1 in c:\\users\\mwefa\\onedrive\\documents\\data_analysis_portfolio\\python\\.venv\\lib\\site-packages (from nbformat) (5.14.3)\n",
      "Requirement already satisfied: attrs>=22.2.0 in c:\\users\\mwefa\\onedrive\\documents\\data_analysis_portfolio\\python\\.venv\\lib\\site-packages (from jsonschema>=2.6->nbformat) (24.2.0)\n",
      "Requirement already satisfied: jsonschema-specifications>=2023.03.6 in c:\\users\\mwefa\\onedrive\\documents\\data_analysis_portfolio\\python\\.venv\\lib\\site-packages (from jsonschema>=2.6->nbformat) (2023.12.1)\n",
      "Requirement already satisfied: referencing>=0.28.4 in c:\\users\\mwefa\\onedrive\\documents\\data_analysis_portfolio\\python\\.venv\\lib\\site-packages (from jsonschema>=2.6->nbformat) (0.35.1)\n",
      "Requirement already satisfied: rpds-py>=0.7.1 in c:\\users\\mwefa\\onedrive\\documents\\data_analysis_portfolio\\python\\.venv\\lib\\site-packages (from jsonschema>=2.6->nbformat) (0.20.0)\n",
      "Requirement already satisfied: platformdirs>=2.5 in c:\\users\\mwefa\\onedrive\\documents\\data_analysis_portfolio\\python\\.venv\\lib\\site-packages (from jupyter-core!=5.0.*,>=4.12->nbformat) (4.2.2)\n",
      "Requirement already satisfied: pywin32>=300 in c:\\users\\mwefa\\onedrive\\documents\\data_analysis_portfolio\\python\\.venv\\lib\\site-packages (from jupyter-core!=5.0.*,>=4.12->nbformat) (306)\n"
     ]
    }
   ],
   "source": [
    "!pip install nbformat --upgrade\n"
   ]
  },
  {
   "cell_type": "code",
   "execution_count": 17,
   "metadata": {},
   "outputs": [
    {
     "name": "stdout",
     "output_type": "stream",
     "text": [
      "Requirement already satisfied: pandas in c:\\users\\mwefa\\onedrive\\documents\\data_analysis_portfolio\\python\\.venv\\lib\\site-packages (2.2.2)\n",
      "Requirement already satisfied: numpy>=1.26.0 in c:\\users\\mwefa\\onedrive\\documents\\data_analysis_portfolio\\python\\.venv\\lib\\site-packages (from pandas) (2.1.0)\n",
      "Requirement already satisfied: python-dateutil>=2.8.2 in c:\\users\\mwefa\\onedrive\\documents\\data_analysis_portfolio\\python\\.venv\\lib\\site-packages (from pandas) (2.9.0.post0)\n",
      "Requirement already satisfied: pytz>=2020.1 in c:\\users\\mwefa\\onedrive\\documents\\data_analysis_portfolio\\python\\.venv\\lib\\site-packages (from pandas) (2024.1)\n",
      "Requirement already satisfied: tzdata>=2022.7 in c:\\users\\mwefa\\onedrive\\documents\\data_analysis_portfolio\\python\\.venv\\lib\\site-packages (from pandas) (2024.1)\n",
      "Requirement already satisfied: six>=1.5 in c:\\users\\mwefa\\onedrive\\documents\\data_analysis_portfolio\\python\\.venv\\lib\\site-packages (from python-dateutil>=2.8.2->pandas) (1.16.0)\n"
     ]
    }
   ],
   "source": [
    "!pip install pandas"
   ]
  },
  {
   "cell_type": "code",
   "execution_count": 2,
   "metadata": {},
   "outputs": [],
   "source": [
    "\n",
    "#import relevant libraries\n",
    "import pandas as pd\n",
    "from datetime import datetime as dt \n",
    "from datetime import timedelta\n",
    "import plotly.express as px\n",
    "import plotly.graph_objects as go\n",
    "import plotly.colors"
   ]
  },
  {
   "cell_type": "code",
   "execution_count": 3,
   "metadata": {},
   "outputs": [
    {
     "data": {
      "text/html": [
       "<div>\n",
       "<style scoped>\n",
       "    .dataframe tbody tr th:only-of-type {\n",
       "        vertical-align: middle;\n",
       "    }\n",
       "\n",
       "    .dataframe tbody tr th {\n",
       "        vertical-align: top;\n",
       "    }\n",
       "\n",
       "    .dataframe thead th {\n",
       "        text-align: right;\n",
       "    }\n",
       "</style>\n",
       "<table border=\"1\" class=\"dataframe\">\n",
       "  <thead>\n",
       "    <tr style=\"text-align: right;\">\n",
       "      <th></th>\n",
       "      <th>InvoiceNo</th>\n",
       "      <th>StockCode</th>\n",
       "      <th>Description</th>\n",
       "      <th>Quantity</th>\n",
       "      <th>InvoiceDate</th>\n",
       "      <th>UnitPrice</th>\n",
       "      <th>CustomerID</th>\n",
       "      <th>Country</th>\n",
       "    </tr>\n",
       "  </thead>\n",
       "  <tbody>\n",
       "    <tr>\n",
       "      <th>0</th>\n",
       "      <td>536365</td>\n",
       "      <td>85123A</td>\n",
       "      <td>WHITE HANGING HEART T-LIGHT HOLDER</td>\n",
       "      <td>6</td>\n",
       "      <td>2010-12-01 08:26:00</td>\n",
       "      <td>2.55</td>\n",
       "      <td>17850.0</td>\n",
       "      <td>United Kingdom</td>\n",
       "    </tr>\n",
       "    <tr>\n",
       "      <th>1</th>\n",
       "      <td>536365</td>\n",
       "      <td>71053</td>\n",
       "      <td>WHITE METAL LANTERN</td>\n",
       "      <td>6</td>\n",
       "      <td>2010-12-01 08:26:00</td>\n",
       "      <td>3.39</td>\n",
       "      <td>17850.0</td>\n",
       "      <td>United Kingdom</td>\n",
       "    </tr>\n",
       "    <tr>\n",
       "      <th>2</th>\n",
       "      <td>536365</td>\n",
       "      <td>84406B</td>\n",
       "      <td>CREAM CUPID HEARTS COAT HANGER</td>\n",
       "      <td>8</td>\n",
       "      <td>2010-12-01 08:26:00</td>\n",
       "      <td>2.75</td>\n",
       "      <td>17850.0</td>\n",
       "      <td>United Kingdom</td>\n",
       "    </tr>\n",
       "    <tr>\n",
       "      <th>3</th>\n",
       "      <td>536365</td>\n",
       "      <td>84029G</td>\n",
       "      <td>KNITTED UNION FLAG HOT WATER BOTTLE</td>\n",
       "      <td>6</td>\n",
       "      <td>2010-12-01 08:26:00</td>\n",
       "      <td>3.39</td>\n",
       "      <td>17850.0</td>\n",
       "      <td>United Kingdom</td>\n",
       "    </tr>\n",
       "    <tr>\n",
       "      <th>4</th>\n",
       "      <td>536365</td>\n",
       "      <td>84029E</td>\n",
       "      <td>RED WOOLLY HOTTIE WHITE HEART.</td>\n",
       "      <td>6</td>\n",
       "      <td>2010-12-01 08:26:00</td>\n",
       "      <td>3.39</td>\n",
       "      <td>17850.0</td>\n",
       "      <td>United Kingdom</td>\n",
       "    </tr>\n",
       "  </tbody>\n",
       "</table>\n",
       "</div>"
      ],
      "text/plain": [
       "  InvoiceNo StockCode                          Description  Quantity  \\\n",
       "0    536365    85123A   WHITE HANGING HEART T-LIGHT HOLDER         6   \n",
       "1    536365     71053                  WHITE METAL LANTERN         6   \n",
       "2    536365    84406B       CREAM CUPID HEARTS COAT HANGER         8   \n",
       "3    536365    84029G  KNITTED UNION FLAG HOT WATER BOTTLE         6   \n",
       "4    536365    84029E       RED WOOLLY HOTTIE WHITE HEART.         6   \n",
       "\n",
       "           InvoiceDate  UnitPrice  CustomerID         Country  \n",
       "0  2010-12-01 08:26:00       2.55     17850.0  United Kingdom  \n",
       "1  2010-12-01 08:26:00       3.39     17850.0  United Kingdom  \n",
       "2  2010-12-01 08:26:00       2.75     17850.0  United Kingdom  \n",
       "3  2010-12-01 08:26:00       3.39     17850.0  United Kingdom  \n",
       "4  2010-12-01 08:26:00       3.39     17850.0  United Kingdom  "
      ]
     },
     "execution_count": 3,
     "metadata": {},
     "output_type": "execute_result"
    }
   ],
   "source": [
    "#import the csv file for the data\n",
    "data = pd.read_csv('/Users/mwefa/OneDrive/Documents/Data_analysis_Portfolio/PYTHON/Online_retail_Data/online_retail.csv')\n",
    "data.head()"
   ]
  },
  {
   "cell_type": "code",
   "execution_count": 4,
   "metadata": {},
   "outputs": [
    {
     "data": {
      "text/html": [
       "<div>\n",
       "<style scoped>\n",
       "    .dataframe tbody tr th:only-of-type {\n",
       "        vertical-align: middle;\n",
       "    }\n",
       "\n",
       "    .dataframe tbody tr th {\n",
       "        vertical-align: top;\n",
       "    }\n",
       "\n",
       "    .dataframe thead th {\n",
       "        text-align: right;\n",
       "    }\n",
       "</style>\n",
       "<table border=\"1\" class=\"dataframe\">\n",
       "  <thead>\n",
       "    <tr style=\"text-align: right;\">\n",
       "      <th></th>\n",
       "      <th>InvoiceNo</th>\n",
       "      <th>StockCode</th>\n",
       "      <th>Description</th>\n",
       "      <th>Quantity</th>\n",
       "      <th>InvoiceDate</th>\n",
       "      <th>UnitPrice</th>\n",
       "      <th>CustomerID</th>\n",
       "      <th>Country</th>\n",
       "    </tr>\n",
       "  </thead>\n",
       "  <tbody>\n",
       "    <tr>\n",
       "      <th>541904</th>\n",
       "      <td>581587</td>\n",
       "      <td>22613</td>\n",
       "      <td>PACK OF 20 SPACEBOY NAPKINS</td>\n",
       "      <td>12</td>\n",
       "      <td>2011-12-09 12:50:00</td>\n",
       "      <td>0.85</td>\n",
       "      <td>12680.0</td>\n",
       "      <td>France</td>\n",
       "    </tr>\n",
       "    <tr>\n",
       "      <th>541905</th>\n",
       "      <td>581587</td>\n",
       "      <td>22899</td>\n",
       "      <td>CHILDREN'S APRON DOLLY GIRL</td>\n",
       "      <td>6</td>\n",
       "      <td>2011-12-09 12:50:00</td>\n",
       "      <td>2.10</td>\n",
       "      <td>12680.0</td>\n",
       "      <td>France</td>\n",
       "    </tr>\n",
       "    <tr>\n",
       "      <th>541906</th>\n",
       "      <td>581587</td>\n",
       "      <td>23254</td>\n",
       "      <td>CHILDRENS CUTLERY DOLLY GIRL</td>\n",
       "      <td>4</td>\n",
       "      <td>2011-12-09 12:50:00</td>\n",
       "      <td>4.15</td>\n",
       "      <td>12680.0</td>\n",
       "      <td>France</td>\n",
       "    </tr>\n",
       "    <tr>\n",
       "      <th>541907</th>\n",
       "      <td>581587</td>\n",
       "      <td>23255</td>\n",
       "      <td>CHILDRENS CUTLERY CIRCUS PARADE</td>\n",
       "      <td>4</td>\n",
       "      <td>2011-12-09 12:50:00</td>\n",
       "      <td>4.15</td>\n",
       "      <td>12680.0</td>\n",
       "      <td>France</td>\n",
       "    </tr>\n",
       "    <tr>\n",
       "      <th>541908</th>\n",
       "      <td>581587</td>\n",
       "      <td>22138</td>\n",
       "      <td>BAKING SET 9 PIECE RETROSPOT</td>\n",
       "      <td>3</td>\n",
       "      <td>2011-12-09 12:50:00</td>\n",
       "      <td>4.95</td>\n",
       "      <td>12680.0</td>\n",
       "      <td>France</td>\n",
       "    </tr>\n",
       "  </tbody>\n",
       "</table>\n",
       "</div>"
      ],
      "text/plain": [
       "       InvoiceNo StockCode                      Description  Quantity  \\\n",
       "541904    581587     22613      PACK OF 20 SPACEBOY NAPKINS        12   \n",
       "541905    581587     22899     CHILDREN'S APRON DOLLY GIRL          6   \n",
       "541906    581587     23254    CHILDRENS CUTLERY DOLLY GIRL          4   \n",
       "541907    581587     23255  CHILDRENS CUTLERY CIRCUS PARADE         4   \n",
       "541908    581587     22138    BAKING SET 9 PIECE RETROSPOT          3   \n",
       "\n",
       "                InvoiceDate  UnitPrice  CustomerID Country  \n",
       "541904  2011-12-09 12:50:00       0.85     12680.0  France  \n",
       "541905  2011-12-09 12:50:00       2.10     12680.0  France  \n",
       "541906  2011-12-09 12:50:00       4.15     12680.0  France  \n",
       "541907  2011-12-09 12:50:00       4.15     12680.0  France  \n",
       "541908  2011-12-09 12:50:00       4.95     12680.0  France  "
      ]
     },
     "execution_count": 4,
     "metadata": {},
     "output_type": "execute_result"
    }
   ],
   "source": [
    "data.tail()"
   ]
  },
  {
   "cell_type": "code",
   "execution_count": 5,
   "metadata": {},
   "outputs": [],
   "source": [
    "#drops any blanks, by only considering the customerID column\n",
    "#inplace=True does not return a new dataframe, it updates \n",
    "#by removing missing values we ensure the anaylsis of customer segmentation in done right\n",
    "data.dropna(subset=['CustomerID'],inplace=True)"
   ]
  },
  {
   "cell_type": "code",
   "execution_count": 6,
   "metadata": {},
   "outputs": [
    {
     "name": "stdout",
     "output_type": "stream",
     "text": [
      "Number of duplicates before cleaning: 5225\n",
      "Number of duplicates after cleaning: 0\n"
     ]
    }
   ],
   "source": [
    "# Removing duplicates (Values in all columns are identical)\n",
    "print(\"Number of duplicates before cleaning:\",data.duplicated().sum())\n",
    "data = data.drop_duplicates(keep=\"first\")\n",
    "print(\"Number of duplicates after cleaning:\",data.duplicated().sum())"
   ]
  },
  {
   "cell_type": "code",
   "execution_count": 7,
   "metadata": {},
   "outputs": [],
   "source": [
    "#convert the date in data to a datetime format\n",
    "data['InvoiceDate']=pd.to_datetime(data['InvoiceDate'])\n",
    "data['TotalAmount']=data['Quantity']* data['UnitPrice']"
   ]
  },
  {
   "cell_type": "code",
   "execution_count": 8,
   "metadata": {},
   "outputs": [
    {
     "data": {
      "text/html": [
       "<div>\n",
       "<style scoped>\n",
       "    .dataframe tbody tr th:only-of-type {\n",
       "        vertical-align: middle;\n",
       "    }\n",
       "\n",
       "    .dataframe tbody tr th {\n",
       "        vertical-align: top;\n",
       "    }\n",
       "\n",
       "    .dataframe thead th {\n",
       "        text-align: right;\n",
       "    }\n",
       "</style>\n",
       "<table border=\"1\" class=\"dataframe\">\n",
       "  <thead>\n",
       "    <tr style=\"text-align: right;\">\n",
       "      <th></th>\n",
       "      <th>InvoiceNo</th>\n",
       "      <th>StockCode</th>\n",
       "      <th>Description</th>\n",
       "      <th>Quantity</th>\n",
       "      <th>InvoiceDate</th>\n",
       "      <th>UnitPrice</th>\n",
       "      <th>CustomerID</th>\n",
       "      <th>Country</th>\n",
       "      <th>TotalAmount</th>\n",
       "    </tr>\n",
       "  </thead>\n",
       "  <tbody>\n",
       "    <tr>\n",
       "      <th>0</th>\n",
       "      <td>536365</td>\n",
       "      <td>85123A</td>\n",
       "      <td>WHITE HANGING HEART T-LIGHT HOLDER</td>\n",
       "      <td>6</td>\n",
       "      <td>2010-12-01 08:26:00</td>\n",
       "      <td>2.55</td>\n",
       "      <td>17850.0</td>\n",
       "      <td>United Kingdom</td>\n",
       "      <td>15.30</td>\n",
       "    </tr>\n",
       "    <tr>\n",
       "      <th>1</th>\n",
       "      <td>536365</td>\n",
       "      <td>71053</td>\n",
       "      <td>WHITE METAL LANTERN</td>\n",
       "      <td>6</td>\n",
       "      <td>2010-12-01 08:26:00</td>\n",
       "      <td>3.39</td>\n",
       "      <td>17850.0</td>\n",
       "      <td>United Kingdom</td>\n",
       "      <td>20.34</td>\n",
       "    </tr>\n",
       "    <tr>\n",
       "      <th>2</th>\n",
       "      <td>536365</td>\n",
       "      <td>84406B</td>\n",
       "      <td>CREAM CUPID HEARTS COAT HANGER</td>\n",
       "      <td>8</td>\n",
       "      <td>2010-12-01 08:26:00</td>\n",
       "      <td>2.75</td>\n",
       "      <td>17850.0</td>\n",
       "      <td>United Kingdom</td>\n",
       "      <td>22.00</td>\n",
       "    </tr>\n",
       "    <tr>\n",
       "      <th>3</th>\n",
       "      <td>536365</td>\n",
       "      <td>84029G</td>\n",
       "      <td>KNITTED UNION FLAG HOT WATER BOTTLE</td>\n",
       "      <td>6</td>\n",
       "      <td>2010-12-01 08:26:00</td>\n",
       "      <td>3.39</td>\n",
       "      <td>17850.0</td>\n",
       "      <td>United Kingdom</td>\n",
       "      <td>20.34</td>\n",
       "    </tr>\n",
       "    <tr>\n",
       "      <th>4</th>\n",
       "      <td>536365</td>\n",
       "      <td>84029E</td>\n",
       "      <td>RED WOOLLY HOTTIE WHITE HEART.</td>\n",
       "      <td>6</td>\n",
       "      <td>2010-12-01 08:26:00</td>\n",
       "      <td>3.39</td>\n",
       "      <td>17850.0</td>\n",
       "      <td>United Kingdom</td>\n",
       "      <td>20.34</td>\n",
       "    </tr>\n",
       "  </tbody>\n",
       "</table>\n",
       "</div>"
      ],
      "text/plain": [
       "  InvoiceNo StockCode                          Description  Quantity  \\\n",
       "0    536365    85123A   WHITE HANGING HEART T-LIGHT HOLDER         6   \n",
       "1    536365     71053                  WHITE METAL LANTERN         6   \n",
       "2    536365    84406B       CREAM CUPID HEARTS COAT HANGER         8   \n",
       "3    536365    84029G  KNITTED UNION FLAG HOT WATER BOTTLE         6   \n",
       "4    536365    84029E       RED WOOLLY HOTTIE WHITE HEART.         6   \n",
       "\n",
       "          InvoiceDate  UnitPrice  CustomerID         Country  TotalAmount  \n",
       "0 2010-12-01 08:26:00       2.55     17850.0  United Kingdom        15.30  \n",
       "1 2010-12-01 08:26:00       3.39     17850.0  United Kingdom        20.34  \n",
       "2 2010-12-01 08:26:00       2.75     17850.0  United Kingdom        22.00  \n",
       "3 2010-12-01 08:26:00       3.39     17850.0  United Kingdom        20.34  \n",
       "4 2010-12-01 08:26:00       3.39     17850.0  United Kingdom        20.34  "
      ]
     },
     "execution_count": 8,
     "metadata": {},
     "output_type": "execute_result"
    }
   ],
   "source": [
    "#checks the first 5 rows\n",
    "data.head()"
   ]
  },
  {
   "cell_type": "code",
   "execution_count": 176,
   "metadata": {},
   "outputs": [],
   "source": [
    "#this is a reference date of today, if you are working with a realtime dataset\n",
    "#reference_date = pd.Timestamp(dt.now().date())"
   ]
  },
  {
   "cell_type": "code",
   "execution_count": 9,
   "metadata": {},
   "outputs": [
    {
     "data": {
      "text/plain": [
       "Timestamp('2011-12-10 12:50:00')"
      ]
     },
     "execution_count": 9,
     "metadata": {},
     "output_type": "execute_result"
    }
   ],
   "source": [
    "#reference date for a static dataset, set the ref date to the maximum date in the dataset and add one\n",
    "# adding one day can help calculate how many days have passed since the last transaction\n",
    "reference_date = data['InvoiceDate'].max() + timedelta(days=1)\n",
    "reference_date"
   ]
  },
  {
   "cell_type": "code",
   "execution_count": 24,
   "metadata": {},
   "outputs": [],
   "source": [
    "#create the rfm model. group the data my CustomerID where all transactions\n",
    "# for each CustomerID will be aggregated.\n",
    "#For Recency Metric: lambda x receives the series of InvoiceDate and gets the difference bewtween\n",
    "# last ref date and last date customer transacted. A lower number indicates a recent transaction\n",
    "#For frequency metric: measures how often Customer makes a purchase, do this by counting\n",
    "#For Monetary metric: amount of money each customer has made, sum up the TotalAmount\n",
    "RFM=data.groupby('CustomerID').agg({\n",
    "    'InvoiceDate': lambda x:(reference_date - x.max()).days,\n",
    "    'InvoiceNo': 'count',\n",
    "    'TotalAmount': 'sum'\n",
    "})"
   ]
  },
  {
   "cell_type": "code",
   "execution_count": 25,
   "metadata": {},
   "outputs": [
    {
     "data": {
      "text/html": [
       "<div>\n",
       "<style scoped>\n",
       "    .dataframe tbody tr th:only-of-type {\n",
       "        vertical-align: middle;\n",
       "    }\n",
       "\n",
       "    .dataframe tbody tr th {\n",
       "        vertical-align: top;\n",
       "    }\n",
       "\n",
       "    .dataframe thead th {\n",
       "        text-align: right;\n",
       "    }\n",
       "</style>\n",
       "<table border=\"1\" class=\"dataframe\">\n",
       "  <thead>\n",
       "    <tr style=\"text-align: right;\">\n",
       "      <th></th>\n",
       "      <th>Recency</th>\n",
       "      <th>Frequency</th>\n",
       "      <th>M_Value</th>\n",
       "    </tr>\n",
       "    <tr>\n",
       "      <th>CustomerID</th>\n",
       "      <th></th>\n",
       "      <th></th>\n",
       "      <th></th>\n",
       "    </tr>\n",
       "  </thead>\n",
       "  <tbody>\n",
       "    <tr>\n",
       "      <th>12346.0</th>\n",
       "      <td>326</td>\n",
       "      <td>2</td>\n",
       "      <td>0.00</td>\n",
       "    </tr>\n",
       "    <tr>\n",
       "      <th>12347.0</th>\n",
       "      <td>2</td>\n",
       "      <td>182</td>\n",
       "      <td>4310.00</td>\n",
       "    </tr>\n",
       "    <tr>\n",
       "      <th>12348.0</th>\n",
       "      <td>75</td>\n",
       "      <td>31</td>\n",
       "      <td>1797.24</td>\n",
       "    </tr>\n",
       "    <tr>\n",
       "      <th>12349.0</th>\n",
       "      <td>19</td>\n",
       "      <td>73</td>\n",
       "      <td>1757.55</td>\n",
       "    </tr>\n",
       "    <tr>\n",
       "      <th>12350.0</th>\n",
       "      <td>310</td>\n",
       "      <td>17</td>\n",
       "      <td>334.40</td>\n",
       "    </tr>\n",
       "  </tbody>\n",
       "</table>\n",
       "</div>"
      ],
      "text/plain": [
       "            Recency  Frequency  M_Value\n",
       "CustomerID                             \n",
       "12346.0         326          2     0.00\n",
       "12347.0           2        182  4310.00\n",
       "12348.0          75         31  1797.24\n",
       "12349.0          19         73  1757.55\n",
       "12350.0         310         17   334.40"
      ]
     },
     "execution_count": 25,
     "metadata": {},
     "output_type": "execute_result"
    }
   ],
   "source": [
    "#rename the columns to reflect RFM model\n",
    "RFM.rename(columns={'InvoiceDate':'Recency','InvoiceNo':'Frequency','TotalAmount':'M_Value'}, inplace=True)\n",
    "#RFM = RFM.sort_values(by='M_Value', ascending=False)\n",
    "#I chose to remove the sorting so it doesn't introduce an element of unbiass towards the high spending customers\n",
    "RFM.head()"
   ]
  },
  {
   "cell_type": "code",
   "execution_count": 27,
   "metadata": {},
   "outputs": [
    {
     "data": {
      "text/html": [
       "<div>\n",
       "<style scoped>\n",
       "    .dataframe tbody tr th:only-of-type {\n",
       "        vertical-align: middle;\n",
       "    }\n",
       "\n",
       "    .dataframe tbody tr th {\n",
       "        vertical-align: top;\n",
       "    }\n",
       "\n",
       "    .dataframe thead th {\n",
       "        text-align: right;\n",
       "    }\n",
       "</style>\n",
       "<table border=\"1\" class=\"dataframe\">\n",
       "  <thead>\n",
       "    <tr style=\"text-align: right;\">\n",
       "      <th></th>\n",
       "      <th>Recency</th>\n",
       "      <th>Frequency</th>\n",
       "      <th>M_Value</th>\n",
       "      <th>R</th>\n",
       "      <th>F</th>\n",
       "      <th>M</th>\n",
       "    </tr>\n",
       "    <tr>\n",
       "      <th>CustomerID</th>\n",
       "      <th></th>\n",
       "      <th></th>\n",
       "      <th></th>\n",
       "      <th></th>\n",
       "      <th></th>\n",
       "      <th></th>\n",
       "    </tr>\n",
       "  </thead>\n",
       "  <tbody>\n",
       "    <tr>\n",
       "      <th>12346.0</th>\n",
       "      <td>326</td>\n",
       "      <td>2</td>\n",
       "      <td>0.00</td>\n",
       "      <td>1</td>\n",
       "      <td>1</td>\n",
       "      <td>1</td>\n",
       "    </tr>\n",
       "    <tr>\n",
       "      <th>12347.0</th>\n",
       "      <td>2</td>\n",
       "      <td>182</td>\n",
       "      <td>4310.00</td>\n",
       "      <td>4</td>\n",
       "      <td>4</td>\n",
       "      <td>4</td>\n",
       "    </tr>\n",
       "    <tr>\n",
       "      <th>12348.0</th>\n",
       "      <td>75</td>\n",
       "      <td>31</td>\n",
       "      <td>1797.24</td>\n",
       "      <td>2</td>\n",
       "      <td>2</td>\n",
       "      <td>4</td>\n",
       "    </tr>\n",
       "    <tr>\n",
       "      <th>12349.0</th>\n",
       "      <td>19</td>\n",
       "      <td>73</td>\n",
       "      <td>1757.55</td>\n",
       "      <td>3</td>\n",
       "      <td>3</td>\n",
       "      <td>4</td>\n",
       "    </tr>\n",
       "    <tr>\n",
       "      <th>12350.0</th>\n",
       "      <td>310</td>\n",
       "      <td>17</td>\n",
       "      <td>334.40</td>\n",
       "      <td>1</td>\n",
       "      <td>1</td>\n",
       "      <td>2</td>\n",
       "    </tr>\n",
       "  </tbody>\n",
       "</table>\n",
       "</div>"
      ],
      "text/plain": [
       "            Recency  Frequency  M_Value  R  F  M\n",
       "CustomerID                                      \n",
       "12346.0         326          2     0.00  1  1  1\n",
       "12347.0           2        182  4310.00  4  4  4\n",
       "12348.0          75         31  1797.24  2  2  4\n",
       "12349.0          19         73  1757.55  3  3  4\n",
       "12350.0         310         17   334.40  1  1  2"
      ]
     },
     "execution_count": 27,
     "metadata": {},
     "output_type": "execute_result"
    }
   ],
   "source": [
    "#Define quantiles\n",
    "quantiles =RFM.quantile(q=[0.25,0.5,0.75])\n",
    "\n",
    "#Assign RFM scores\n",
    "def RScore(x,p,d):\n",
    "    if x<= d[p][0.25]:\n",
    "        return 4\n",
    "    if x<= d[p][0.50]:\n",
    "        return 3\n",
    "    if x<= d[p][0.75]:\n",
    "        return 2\n",
    "    else:\n",
    "        return 1\n",
    "def FMScore(x, p, d):\n",
    "    if x<= d[p][0.25]:\n",
    "        return 1\n",
    "    if x<= d[p][0.50]:\n",
    "        return 2\n",
    "    if x<= d[p][0.75]:\n",
    "        return 3\n",
    "    else:\n",
    "        return 4\n",
    "    \n",
    "RFM['R']=RFM['Recency'].apply(RScore, args=('Recency',quantiles))\n",
    "RFM['F']=RFM['Frequency'].apply(FMScore, args=('Frequency',quantiles))\n",
    "RFM['M']=RFM['M_Value'].apply(FMScore, args=('M_Value',quantiles))\n",
    "\n",
    "RFM.head()\n",
    "\n",
    "#best customer is the one with a score of 4,4,4 hence can be target for marketing strategies"
   ]
  },
  {
   "cell_type": "code",
   "execution_count": 31,
   "metadata": {},
   "outputs": [
    {
     "data": {
      "text/html": [
       "<div>\n",
       "<style scoped>\n",
       "    .dataframe tbody tr th:only-of-type {\n",
       "        vertical-align: middle;\n",
       "    }\n",
       "\n",
       "    .dataframe tbody tr th {\n",
       "        vertical-align: top;\n",
       "    }\n",
       "\n",
       "    .dataframe thead th {\n",
       "        text-align: right;\n",
       "    }\n",
       "</style>\n",
       "<table border=\"1\" class=\"dataframe\">\n",
       "  <thead>\n",
       "    <tr style=\"text-align: right;\">\n",
       "      <th></th>\n",
       "      <th>Recency</th>\n",
       "      <th>Frequency</th>\n",
       "      <th>M_Value</th>\n",
       "      <th>R</th>\n",
       "      <th>F</th>\n",
       "      <th>M</th>\n",
       "      <th>RFM_Segment</th>\n",
       "      <th>RFM_Score</th>\n",
       "      <th>RFM_Segment_Label</th>\n",
       "    </tr>\n",
       "    <tr>\n",
       "      <th>CustomerID</th>\n",
       "      <th></th>\n",
       "      <th></th>\n",
       "      <th></th>\n",
       "      <th></th>\n",
       "      <th></th>\n",
       "      <th></th>\n",
       "      <th></th>\n",
       "      <th></th>\n",
       "      <th></th>\n",
       "    </tr>\n",
       "  </thead>\n",
       "  <tbody>\n",
       "    <tr>\n",
       "      <th>12346.0</th>\n",
       "      <td>326</td>\n",
       "      <td>2</td>\n",
       "      <td>0.00</td>\n",
       "      <td>1</td>\n",
       "      <td>1</td>\n",
       "      <td>1</td>\n",
       "      <td>111</td>\n",
       "      <td>3</td>\n",
       "      <td>Bronze</td>\n",
       "    </tr>\n",
       "    <tr>\n",
       "      <th>12347.0</th>\n",
       "      <td>2</td>\n",
       "      <td>182</td>\n",
       "      <td>4310.00</td>\n",
       "      <td>4</td>\n",
       "      <td>4</td>\n",
       "      <td>4</td>\n",
       "      <td>444</td>\n",
       "      <td>12</td>\n",
       "      <td>Platinum</td>\n",
       "    </tr>\n",
       "    <tr>\n",
       "      <th>12348.0</th>\n",
       "      <td>75</td>\n",
       "      <td>31</td>\n",
       "      <td>1797.24</td>\n",
       "      <td>2</td>\n",
       "      <td>2</td>\n",
       "      <td>4</td>\n",
       "      <td>224</td>\n",
       "      <td>8</td>\n",
       "      <td>Silver</td>\n",
       "    </tr>\n",
       "    <tr>\n",
       "      <th>12349.0</th>\n",
       "      <td>19</td>\n",
       "      <td>73</td>\n",
       "      <td>1757.55</td>\n",
       "      <td>3</td>\n",
       "      <td>3</td>\n",
       "      <td>4</td>\n",
       "      <td>334</td>\n",
       "      <td>10</td>\n",
       "      <td>Platinum</td>\n",
       "    </tr>\n",
       "    <tr>\n",
       "      <th>12350.0</th>\n",
       "      <td>310</td>\n",
       "      <td>17</td>\n",
       "      <td>334.40</td>\n",
       "      <td>1</td>\n",
       "      <td>1</td>\n",
       "      <td>2</td>\n",
       "      <td>112</td>\n",
       "      <td>4</td>\n",
       "      <td>Bronze</td>\n",
       "    </tr>\n",
       "  </tbody>\n",
       "</table>\n",
       "</div>"
      ],
      "text/plain": [
       "            Recency  Frequency  M_Value  R  F  M RFM_Segment  RFM_Score  \\\n",
       "CustomerID                                                                \n",
       "12346.0         326          2     0.00  1  1  1         111          3   \n",
       "12347.0           2        182  4310.00  4  4  4         444         12   \n",
       "12348.0          75         31  1797.24  2  2  4         224          8   \n",
       "12349.0          19         73  1757.55  3  3  4         334         10   \n",
       "12350.0         310         17   334.40  1  1  2         112          4   \n",
       "\n",
       "           RFM_Segment_Label  \n",
       "CustomerID                    \n",
       "12346.0               Bronze  \n",
       "12347.0             Platinum  \n",
       "12348.0               Silver  \n",
       "12349.0             Platinum  \n",
       "12350.0               Bronze  "
      ]
     },
     "execution_count": 31,
     "metadata": {},
     "output_type": "execute_result"
    }
   ],
   "source": [
    "#first we want to create a column RFM_Segment that displays the three values as a string\n",
    "#get the sum of the the scores \n",
    "RFM['RFM_Segment']=RFM['R'].astype(str) + RFM['F'].astype(str) + RFM['M'].astype(str)\n",
    "RFM['RFM_Score'] =RFM[['R','F', 'M']].sum(axis=1)\n",
    "RFM.head()"
   ]
  },
  {
   "cell_type": "code",
   "execution_count": 32,
   "metadata": {},
   "outputs": [
    {
     "data": {
      "text/html": [
       "<div>\n",
       "<style scoped>\n",
       "    .dataframe tbody tr th:only-of-type {\n",
       "        vertical-align: middle;\n",
       "    }\n",
       "\n",
       "    .dataframe tbody tr th {\n",
       "        vertical-align: top;\n",
       "    }\n",
       "\n",
       "    .dataframe thead th {\n",
       "        text-align: right;\n",
       "    }\n",
       "</style>\n",
       "<table border=\"1\" class=\"dataframe\">\n",
       "  <thead>\n",
       "    <tr style=\"text-align: right;\">\n",
       "      <th></th>\n",
       "      <th>Recency</th>\n",
       "      <th>Frequency</th>\n",
       "      <th>M_Value</th>\n",
       "      <th>R</th>\n",
       "      <th>F</th>\n",
       "      <th>M</th>\n",
       "      <th>RFM_Segment</th>\n",
       "      <th>RFM_Score</th>\n",
       "      <th>RFM_Segment_Label</th>\n",
       "    </tr>\n",
       "    <tr>\n",
       "      <th>CustomerID</th>\n",
       "      <th></th>\n",
       "      <th></th>\n",
       "      <th></th>\n",
       "      <th></th>\n",
       "      <th></th>\n",
       "      <th></th>\n",
       "      <th></th>\n",
       "      <th></th>\n",
       "      <th></th>\n",
       "    </tr>\n",
       "  </thead>\n",
       "  <tbody>\n",
       "    <tr>\n",
       "      <th>12346.0</th>\n",
       "      <td>326</td>\n",
       "      <td>2</td>\n",
       "      <td>0.00</td>\n",
       "      <td>1</td>\n",
       "      <td>1</td>\n",
       "      <td>1</td>\n",
       "      <td>111</td>\n",
       "      <td>3</td>\n",
       "      <td>Bronze</td>\n",
       "    </tr>\n",
       "    <tr>\n",
       "      <th>12347.0</th>\n",
       "      <td>2</td>\n",
       "      <td>182</td>\n",
       "      <td>4310.00</td>\n",
       "      <td>4</td>\n",
       "      <td>4</td>\n",
       "      <td>4</td>\n",
       "      <td>444</td>\n",
       "      <td>12</td>\n",
       "      <td>Platinum</td>\n",
       "    </tr>\n",
       "    <tr>\n",
       "      <th>12348.0</th>\n",
       "      <td>75</td>\n",
       "      <td>31</td>\n",
       "      <td>1797.24</td>\n",
       "      <td>2</td>\n",
       "      <td>2</td>\n",
       "      <td>4</td>\n",
       "      <td>224</td>\n",
       "      <td>8</td>\n",
       "      <td>Silver</td>\n",
       "    </tr>\n",
       "    <tr>\n",
       "      <th>12349.0</th>\n",
       "      <td>19</td>\n",
       "      <td>73</td>\n",
       "      <td>1757.55</td>\n",
       "      <td>3</td>\n",
       "      <td>3</td>\n",
       "      <td>4</td>\n",
       "      <td>334</td>\n",
       "      <td>10</td>\n",
       "      <td>Platinum</td>\n",
       "    </tr>\n",
       "    <tr>\n",
       "      <th>12350.0</th>\n",
       "      <td>310</td>\n",
       "      <td>17</td>\n",
       "      <td>334.40</td>\n",
       "      <td>1</td>\n",
       "      <td>1</td>\n",
       "      <td>2</td>\n",
       "      <td>112</td>\n",
       "      <td>4</td>\n",
       "      <td>Bronze</td>\n",
       "    </tr>\n",
       "  </tbody>\n",
       "</table>\n",
       "</div>"
      ],
      "text/plain": [
       "            Recency  Frequency  M_Value  R  F  M RFM_Segment  RFM_Score  \\\n",
       "CustomerID                                                                \n",
       "12346.0         326          2     0.00  1  1  1         111          3   \n",
       "12347.0           2        182  4310.00  4  4  4         444         12   \n",
       "12348.0          75         31  1797.24  2  2  4         224          8   \n",
       "12349.0          19         73  1757.55  3  3  4         334         10   \n",
       "12350.0         310         17   334.40  1  1  2         112          4   \n",
       "\n",
       "           RFM_Segment_Label  \n",
       "CustomerID                    \n",
       "12346.0               Bronze  \n",
       "12347.0             Platinum  \n",
       "12348.0               Silver  \n",
       "12349.0             Platinum  \n",
       "12350.0               Bronze  "
      ]
     },
     "execution_count": 32,
     "metadata": {},
     "output_type": "execute_result"
    }
   ],
   "source": [
    "#assign labels depending on the RFM_scores \n",
    "segment_labels =['Bronze', 'Silver','Platinum']\n",
    "def assign_segment(score):\n",
    "    if score <5:\n",
    "        return 'Bronze'\n",
    "    elif score <9:\n",
    "        return 'Silver'\n",
    "    else:\n",
    "        return 'Platinum'\n",
    "\n",
    "RFM['RFM_Segment_Label']= RFM['RFM_Score'].apply(assign_segment)\n",
    "RFM.head()"
   ]
  },
  {
   "cell_type": "code",
   "execution_count": 33,
   "metadata": {},
   "outputs": [
    {
     "data": {
      "text/html": [
       "<div>\n",
       "<style scoped>\n",
       "    .dataframe tbody tr th:only-of-type {\n",
       "        vertical-align: middle;\n",
       "    }\n",
       "\n",
       "    .dataframe tbody tr th {\n",
       "        vertical-align: top;\n",
       "    }\n",
       "\n",
       "    .dataframe thead th {\n",
       "        text-align: right;\n",
       "    }\n",
       "</style>\n",
       "<table border=\"1\" class=\"dataframe\">\n",
       "  <thead>\n",
       "    <tr style=\"text-align: right;\">\n",
       "      <th></th>\n",
       "      <th>RFM_Segment</th>\n",
       "      <th>Count</th>\n",
       "    </tr>\n",
       "  </thead>\n",
       "  <tbody>\n",
       "    <tr>\n",
       "      <th>2</th>\n",
       "      <td>Bronze</td>\n",
       "      <td>783</td>\n",
       "    </tr>\n",
       "    <tr>\n",
       "      <th>1</th>\n",
       "      <td>Platinum</td>\n",
       "      <td>1699</td>\n",
       "    </tr>\n",
       "    <tr>\n",
       "      <th>0</th>\n",
       "      <td>Silver</td>\n",
       "      <td>1890</td>\n",
       "    </tr>\n",
       "  </tbody>\n",
       "</table>\n",
       "</div>"
      ],
      "text/plain": [
       "  RFM_Segment  Count\n",
       "2      Bronze    783\n",
       "1    Platinum   1699\n",
       "0      Silver   1890"
      ]
     },
     "execution_count": 33,
     "metadata": {},
     "output_type": "execute_result"
    }
   ],
   "source": [
    "#count how many customers are in each segment\n",
    "segment_counts =RFM['RFM_Segment_Label'].value_counts().reset_index()\n",
    "segment_counts.columns= ['RFM_Segment', 'Count']\n",
    "segment_counts =segment_counts.sort_values('RFM_Segment')\n",
    "\n",
    "#prints the number of count in each segment\n",
    "segment_counts"
   ]
  },
  {
   "cell_type": "code",
   "execution_count": 34,
   "metadata": {},
   "outputs": [
    {
     "data": {
      "application/vnd.plotly.v1+json": {
       "config": {
        "plotlyServerURL": "https://plot.ly"
       },
       "data": [
        {
         "alignmentgroup": "True",
         "hovertemplate": "RFM Segment=%{x}<br>Number of Customers=%{y}<extra></extra>",
         "legendgroup": "Bronze",
         "marker": {
          "color": "rgb(102,194,165)",
          "pattern": {
           "shape": ""
          }
         },
         "name": "Bronze",
         "offsetgroup": "Bronze",
         "orientation": "v",
         "showlegend": true,
         "textposition": "auto",
         "type": "bar",
         "x": [
          "Bronze"
         ],
         "xaxis": "x",
         "y": [
          783
         ],
         "yaxis": "y"
        },
        {
         "alignmentgroup": "True",
         "hovertemplate": "RFM Segment=%{x}<br>Number of Customers=%{y}<extra></extra>",
         "legendgroup": "Platinum",
         "marker": {
          "color": "rgb(252,141,98)",
          "pattern": {
           "shape": ""
          }
         },
         "name": "Platinum",
         "offsetgroup": "Platinum",
         "orientation": "v",
         "showlegend": true,
         "textposition": "auto",
         "type": "bar",
         "x": [
          "Platinum"
         ],
         "xaxis": "x",
         "y": [
          1699
         ],
         "yaxis": "y"
        },
        {
         "alignmentgroup": "True",
         "hovertemplate": "RFM Segment=%{x}<br>Number of Customers=%{y}<extra></extra>",
         "legendgroup": "Silver",
         "marker": {
          "color": "rgb(141,160,203)",
          "pattern": {
           "shape": ""
          }
         },
         "name": "Silver",
         "offsetgroup": "Silver",
         "orientation": "v",
         "showlegend": true,
         "textposition": "auto",
         "type": "bar",
         "x": [
          "Silver"
         ],
         "xaxis": "x",
         "y": [
          1890
         ],
         "yaxis": "y"
        }
       ],
       "layout": {
        "barmode": "relative",
        "legend": {
         "title": {
          "text": "RFM Segment"
         },
         "tracegroupgap": 0
        },
        "template": {
         "data": {
          "bar": [
           {
            "error_x": {
             "color": "#2a3f5f"
            },
            "error_y": {
             "color": "#2a3f5f"
            },
            "marker": {
             "line": {
              "color": "#E5ECF6",
              "width": 0.5
             },
             "pattern": {
              "fillmode": "overlay",
              "size": 10,
              "solidity": 0.2
             }
            },
            "type": "bar"
           }
          ],
          "barpolar": [
           {
            "marker": {
             "line": {
              "color": "#E5ECF6",
              "width": 0.5
             },
             "pattern": {
              "fillmode": "overlay",
              "size": 10,
              "solidity": 0.2
             }
            },
            "type": "barpolar"
           }
          ],
          "carpet": [
           {
            "aaxis": {
             "endlinecolor": "#2a3f5f",
             "gridcolor": "white",
             "linecolor": "white",
             "minorgridcolor": "white",
             "startlinecolor": "#2a3f5f"
            },
            "baxis": {
             "endlinecolor": "#2a3f5f",
             "gridcolor": "white",
             "linecolor": "white",
             "minorgridcolor": "white",
             "startlinecolor": "#2a3f5f"
            },
            "type": "carpet"
           }
          ],
          "choropleth": [
           {
            "colorbar": {
             "outlinewidth": 0,
             "ticks": ""
            },
            "type": "choropleth"
           }
          ],
          "contour": [
           {
            "colorbar": {
             "outlinewidth": 0,
             "ticks": ""
            },
            "colorscale": [
             [
              0,
              "#0d0887"
             ],
             [
              0.1111111111111111,
              "#46039f"
             ],
             [
              0.2222222222222222,
              "#7201a8"
             ],
             [
              0.3333333333333333,
              "#9c179e"
             ],
             [
              0.4444444444444444,
              "#bd3786"
             ],
             [
              0.5555555555555556,
              "#d8576b"
             ],
             [
              0.6666666666666666,
              "#ed7953"
             ],
             [
              0.7777777777777778,
              "#fb9f3a"
             ],
             [
              0.8888888888888888,
              "#fdca26"
             ],
             [
              1,
              "#f0f921"
             ]
            ],
            "type": "contour"
           }
          ],
          "contourcarpet": [
           {
            "colorbar": {
             "outlinewidth": 0,
             "ticks": ""
            },
            "type": "contourcarpet"
           }
          ],
          "heatmap": [
           {
            "colorbar": {
             "outlinewidth": 0,
             "ticks": ""
            },
            "colorscale": [
             [
              0,
              "#0d0887"
             ],
             [
              0.1111111111111111,
              "#46039f"
             ],
             [
              0.2222222222222222,
              "#7201a8"
             ],
             [
              0.3333333333333333,
              "#9c179e"
             ],
             [
              0.4444444444444444,
              "#bd3786"
             ],
             [
              0.5555555555555556,
              "#d8576b"
             ],
             [
              0.6666666666666666,
              "#ed7953"
             ],
             [
              0.7777777777777778,
              "#fb9f3a"
             ],
             [
              0.8888888888888888,
              "#fdca26"
             ],
             [
              1,
              "#f0f921"
             ]
            ],
            "type": "heatmap"
           }
          ],
          "heatmapgl": [
           {
            "colorbar": {
             "outlinewidth": 0,
             "ticks": ""
            },
            "colorscale": [
             [
              0,
              "#0d0887"
             ],
             [
              0.1111111111111111,
              "#46039f"
             ],
             [
              0.2222222222222222,
              "#7201a8"
             ],
             [
              0.3333333333333333,
              "#9c179e"
             ],
             [
              0.4444444444444444,
              "#bd3786"
             ],
             [
              0.5555555555555556,
              "#d8576b"
             ],
             [
              0.6666666666666666,
              "#ed7953"
             ],
             [
              0.7777777777777778,
              "#fb9f3a"
             ],
             [
              0.8888888888888888,
              "#fdca26"
             ],
             [
              1,
              "#f0f921"
             ]
            ],
            "type": "heatmapgl"
           }
          ],
          "histogram": [
           {
            "marker": {
             "pattern": {
              "fillmode": "overlay",
              "size": 10,
              "solidity": 0.2
             }
            },
            "type": "histogram"
           }
          ],
          "histogram2d": [
           {
            "colorbar": {
             "outlinewidth": 0,
             "ticks": ""
            },
            "colorscale": [
             [
              0,
              "#0d0887"
             ],
             [
              0.1111111111111111,
              "#46039f"
             ],
             [
              0.2222222222222222,
              "#7201a8"
             ],
             [
              0.3333333333333333,
              "#9c179e"
             ],
             [
              0.4444444444444444,
              "#bd3786"
             ],
             [
              0.5555555555555556,
              "#d8576b"
             ],
             [
              0.6666666666666666,
              "#ed7953"
             ],
             [
              0.7777777777777778,
              "#fb9f3a"
             ],
             [
              0.8888888888888888,
              "#fdca26"
             ],
             [
              1,
              "#f0f921"
             ]
            ],
            "type": "histogram2d"
           }
          ],
          "histogram2dcontour": [
           {
            "colorbar": {
             "outlinewidth": 0,
             "ticks": ""
            },
            "colorscale": [
             [
              0,
              "#0d0887"
             ],
             [
              0.1111111111111111,
              "#46039f"
             ],
             [
              0.2222222222222222,
              "#7201a8"
             ],
             [
              0.3333333333333333,
              "#9c179e"
             ],
             [
              0.4444444444444444,
              "#bd3786"
             ],
             [
              0.5555555555555556,
              "#d8576b"
             ],
             [
              0.6666666666666666,
              "#ed7953"
             ],
             [
              0.7777777777777778,
              "#fb9f3a"
             ],
             [
              0.8888888888888888,
              "#fdca26"
             ],
             [
              1,
              "#f0f921"
             ]
            ],
            "type": "histogram2dcontour"
           }
          ],
          "mesh3d": [
           {
            "colorbar": {
             "outlinewidth": 0,
             "ticks": ""
            },
            "type": "mesh3d"
           }
          ],
          "parcoords": [
           {
            "line": {
             "colorbar": {
              "outlinewidth": 0,
              "ticks": ""
             }
            },
            "type": "parcoords"
           }
          ],
          "pie": [
           {
            "automargin": true,
            "type": "pie"
           }
          ],
          "scatter": [
           {
            "fillpattern": {
             "fillmode": "overlay",
             "size": 10,
             "solidity": 0.2
            },
            "type": "scatter"
           }
          ],
          "scatter3d": [
           {
            "line": {
             "colorbar": {
              "outlinewidth": 0,
              "ticks": ""
             }
            },
            "marker": {
             "colorbar": {
              "outlinewidth": 0,
              "ticks": ""
             }
            },
            "type": "scatter3d"
           }
          ],
          "scattercarpet": [
           {
            "marker": {
             "colorbar": {
              "outlinewidth": 0,
              "ticks": ""
             }
            },
            "type": "scattercarpet"
           }
          ],
          "scattergeo": [
           {
            "marker": {
             "colorbar": {
              "outlinewidth": 0,
              "ticks": ""
             }
            },
            "type": "scattergeo"
           }
          ],
          "scattergl": [
           {
            "marker": {
             "colorbar": {
              "outlinewidth": 0,
              "ticks": ""
             }
            },
            "type": "scattergl"
           }
          ],
          "scattermapbox": [
           {
            "marker": {
             "colorbar": {
              "outlinewidth": 0,
              "ticks": ""
             }
            },
            "type": "scattermapbox"
           }
          ],
          "scatterpolar": [
           {
            "marker": {
             "colorbar": {
              "outlinewidth": 0,
              "ticks": ""
             }
            },
            "type": "scatterpolar"
           }
          ],
          "scatterpolargl": [
           {
            "marker": {
             "colorbar": {
              "outlinewidth": 0,
              "ticks": ""
             }
            },
            "type": "scatterpolargl"
           }
          ],
          "scatterternary": [
           {
            "marker": {
             "colorbar": {
              "outlinewidth": 0,
              "ticks": ""
             }
            },
            "type": "scatterternary"
           }
          ],
          "surface": [
           {
            "colorbar": {
             "outlinewidth": 0,
             "ticks": ""
            },
            "colorscale": [
             [
              0,
              "#0d0887"
             ],
             [
              0.1111111111111111,
              "#46039f"
             ],
             [
              0.2222222222222222,
              "#7201a8"
             ],
             [
              0.3333333333333333,
              "#9c179e"
             ],
             [
              0.4444444444444444,
              "#bd3786"
             ],
             [
              0.5555555555555556,
              "#d8576b"
             ],
             [
              0.6666666666666666,
              "#ed7953"
             ],
             [
              0.7777777777777778,
              "#fb9f3a"
             ],
             [
              0.8888888888888888,
              "#fdca26"
             ],
             [
              1,
              "#f0f921"
             ]
            ],
            "type": "surface"
           }
          ],
          "table": [
           {
            "cells": {
             "fill": {
              "color": "#EBF0F8"
             },
             "line": {
              "color": "white"
             }
            },
            "header": {
             "fill": {
              "color": "#C8D4E3"
             },
             "line": {
              "color": "white"
             }
            },
            "type": "table"
           }
          ]
         },
         "layout": {
          "annotationdefaults": {
           "arrowcolor": "#2a3f5f",
           "arrowhead": 0,
           "arrowwidth": 1
          },
          "autotypenumbers": "strict",
          "coloraxis": {
           "colorbar": {
            "outlinewidth": 0,
            "ticks": ""
           }
          },
          "colorscale": {
           "diverging": [
            [
             0,
             "#8e0152"
            ],
            [
             0.1,
             "#c51b7d"
            ],
            [
             0.2,
             "#de77ae"
            ],
            [
             0.3,
             "#f1b6da"
            ],
            [
             0.4,
             "#fde0ef"
            ],
            [
             0.5,
             "#f7f7f7"
            ],
            [
             0.6,
             "#e6f5d0"
            ],
            [
             0.7,
             "#b8e186"
            ],
            [
             0.8,
             "#7fbc41"
            ],
            [
             0.9,
             "#4d9221"
            ],
            [
             1,
             "#276419"
            ]
           ],
           "sequential": [
            [
             0,
             "#0d0887"
            ],
            [
             0.1111111111111111,
             "#46039f"
            ],
            [
             0.2222222222222222,
             "#7201a8"
            ],
            [
             0.3333333333333333,
             "#9c179e"
            ],
            [
             0.4444444444444444,
             "#bd3786"
            ],
            [
             0.5555555555555556,
             "#d8576b"
            ],
            [
             0.6666666666666666,
             "#ed7953"
            ],
            [
             0.7777777777777778,
             "#fb9f3a"
            ],
            [
             0.8888888888888888,
             "#fdca26"
            ],
            [
             1,
             "#f0f921"
            ]
           ],
           "sequentialminus": [
            [
             0,
             "#0d0887"
            ],
            [
             0.1111111111111111,
             "#46039f"
            ],
            [
             0.2222222222222222,
             "#7201a8"
            ],
            [
             0.3333333333333333,
             "#9c179e"
            ],
            [
             0.4444444444444444,
             "#bd3786"
            ],
            [
             0.5555555555555556,
             "#d8576b"
            ],
            [
             0.6666666666666666,
             "#ed7953"
            ],
            [
             0.7777777777777778,
             "#fb9f3a"
            ],
            [
             0.8888888888888888,
             "#fdca26"
            ],
            [
             1,
             "#f0f921"
            ]
           ]
          },
          "colorway": [
           "#636efa",
           "#EF553B",
           "#00cc96",
           "#ab63fa",
           "#FFA15A",
           "#19d3f3",
           "#FF6692",
           "#B6E880",
           "#FF97FF",
           "#FECB52"
          ],
          "font": {
           "color": "#2a3f5f"
          },
          "geo": {
           "bgcolor": "white",
           "lakecolor": "white",
           "landcolor": "#E5ECF6",
           "showlakes": true,
           "showland": true,
           "subunitcolor": "white"
          },
          "hoverlabel": {
           "align": "left"
          },
          "hovermode": "closest",
          "mapbox": {
           "style": "light"
          },
          "paper_bgcolor": "white",
          "plot_bgcolor": "#E5ECF6",
          "polar": {
           "angularaxis": {
            "gridcolor": "white",
            "linecolor": "white",
            "ticks": ""
           },
           "bgcolor": "#E5ECF6",
           "radialaxis": {
            "gridcolor": "white",
            "linecolor": "white",
            "ticks": ""
           }
          },
          "scene": {
           "xaxis": {
            "backgroundcolor": "#E5ECF6",
            "gridcolor": "white",
            "gridwidth": 2,
            "linecolor": "white",
            "showbackground": true,
            "ticks": "",
            "zerolinecolor": "white"
           },
           "yaxis": {
            "backgroundcolor": "#E5ECF6",
            "gridcolor": "white",
            "gridwidth": 2,
            "linecolor": "white",
            "showbackground": true,
            "ticks": "",
            "zerolinecolor": "white"
           },
           "zaxis": {
            "backgroundcolor": "#E5ECF6",
            "gridcolor": "white",
            "gridwidth": 2,
            "linecolor": "white",
            "showbackground": true,
            "ticks": "",
            "zerolinecolor": "white"
           }
          },
          "shapedefaults": {
           "line": {
            "color": "#2a3f5f"
           }
          },
          "ternary": {
           "aaxis": {
            "gridcolor": "white",
            "linecolor": "white",
            "ticks": ""
           },
           "baxis": {
            "gridcolor": "white",
            "linecolor": "white",
            "ticks": ""
           },
           "bgcolor": "#E5ECF6",
           "caxis": {
            "gridcolor": "white",
            "linecolor": "white",
            "ticks": ""
           }
          },
          "title": {
           "x": 0.05
          },
          "xaxis": {
           "automargin": true,
           "gridcolor": "white",
           "linecolor": "white",
           "ticks": "",
           "title": {
            "standoff": 15
           },
           "zerolinecolor": "white",
           "zerolinewidth": 2
          },
          "yaxis": {
           "automargin": true,
           "gridcolor": "white",
           "linecolor": "white",
           "ticks": "",
           "title": {
            "standoff": 15
           },
           "zerolinecolor": "white",
           "zerolinewidth": 2
          }
         }
        },
        "title": {
         "text": "Customer Distribution by RFM Segment"
        },
        "xaxis": {
         "anchor": "y",
         "categoryarray": [
          "Bronze",
          "Platinum",
          "Silver"
         ],
         "categoryorder": "array",
         "domain": [
          0,
          1
         ],
         "title": {
          "text": "RFM Segment"
         }
        },
        "yaxis": {
         "anchor": "x",
         "domain": [
          0,
          1
         ],
         "title": {
          "text": "Number of Customers"
         }
        }
       }
      }
     },
     "metadata": {},
     "output_type": "display_data"
    }
   ],
   "source": [
    "#create the bar chart using Plotly\n",
    "#each column to be given a different colour\n",
    "fig =px.bar(segment_counts,\n",
    "            x='RFM_Segment',\n",
    "            y= 'Count',\n",
    "            title ='Customer Distribution by RFM Segment',\n",
    "            labels ={'RFM_Segment':'RFM Segment','Count':'Number of Customers'},\n",
    "            color='RFM_Segment',\n",
    "            #color_discrete_sequence=px.colors.qualitative.Pastel)\n",
    "            color_discrete_sequence=px.colors.qualitative.Set2)\n",
    "\n",
    "fig.show()"
   ]
  },
  {
   "cell_type": "code",
   "execution_count": 40,
   "metadata": {},
   "outputs": [
    {
     "data": {
      "text/plain": [
       "RFM_Customer_Segments\n",
       "Critical            390\n",
       "Dormant             515\n",
       "Inactive            393\n",
       "Loyal              1699\n",
       "Potential Loyal    1375\n",
       "Name: count, dtype: int64"
      ]
     },
     "execution_count": 40,
     "metadata": {},
     "output_type": "execute_result"
    }
   ],
   "source": [
    "#create different customer segments based on their scores, RFM_Customer_Segments to be a place holder\n",
    "#.loc accesses a group or rows and columns  by labels or a boolean array then assign the labels as per conditions set\n",
    "# count the number of customers in each segment and assign to segment_counts, by counting occurences of unique Customer value in RFM_Customer_Segments\n",
    "\n",
    "RFM['RFM_Customer_Segments']=''\n",
    "\n",
    "RFM.loc[RFM['RFM_Score'] >=9, 'RFM_Customer_Segments'] ='Loyal'\n",
    "RFM.loc[(RFM['RFM_Score'] >=6)& (RFM['RFM_Score'] <9), 'RFM_Customer_Segments'] ='Potential Loyal'\n",
    "RFM.loc[(RFM['RFM_Score'] >=5)& (RFM['RFM_Score'] <6), 'RFM_Customer_Segments'] ='Dormant'\n",
    "RFM.loc[(RFM['RFM_Score'] >=4)& (RFM['RFM_Score'] <5), 'RFM_Customer_Segments'] ='Critical'\n",
    "RFM.loc[(RFM['RFM_Score'] >=3)& (RFM['RFM_Score'] <4), 'RFM_Customer_Segments'] ='Inactive'\n",
    "segment_counts = RFM ['RFM_Customer_Segments'].value_counts().sort_index()\n",
    "segment_counts"
   ]
  },
  {
   "cell_type": "code",
   "execution_count": 41,
   "metadata": {},
   "outputs": [
    {
     "data": {
      "text/html": [
       "<div>\n",
       "<style scoped>\n",
       "    .dataframe tbody tr th:only-of-type {\n",
       "        vertical-align: middle;\n",
       "    }\n",
       "\n",
       "    .dataframe tbody tr th {\n",
       "        vertical-align: top;\n",
       "    }\n",
       "\n",
       "    .dataframe thead th {\n",
       "        text-align: right;\n",
       "    }\n",
       "</style>\n",
       "<table border=\"1\" class=\"dataframe\">\n",
       "  <thead>\n",
       "    <tr style=\"text-align: right;\">\n",
       "      <th></th>\n",
       "      <th>RFM_Score</th>\n",
       "      <th>RFM_Segment_Label</th>\n",
       "      <th>RFM_Customer_Segments</th>\n",
       "      <th>Count</th>\n",
       "    </tr>\n",
       "  </thead>\n",
       "  <tbody>\n",
       "    <tr>\n",
       "      <th>2</th>\n",
       "      <td>5</td>\n",
       "      <td>Silver</td>\n",
       "      <td>Dormant</td>\n",
       "      <td>515</td>\n",
       "    </tr>\n",
       "    <tr>\n",
       "      <th>9</th>\n",
       "      <td>12</td>\n",
       "      <td>Platinum</td>\n",
       "      <td>Loyal</td>\n",
       "      <td>470</td>\n",
       "    </tr>\n",
       "    <tr>\n",
       "      <th>3</th>\n",
       "      <td>6</td>\n",
       "      <td>Silver</td>\n",
       "      <td>Potential Loyal</td>\n",
       "      <td>469</td>\n",
       "    </tr>\n",
       "    <tr>\n",
       "      <th>5</th>\n",
       "      <td>8</td>\n",
       "      <td>Silver</td>\n",
       "      <td>Potential Loyal</td>\n",
       "      <td>467</td>\n",
       "    </tr>\n",
       "    <tr>\n",
       "      <th>7</th>\n",
       "      <td>10</td>\n",
       "      <td>Platinum</td>\n",
       "      <td>Loyal</td>\n",
       "      <td>442</td>\n",
       "    </tr>\n",
       "    <tr>\n",
       "      <th>4</th>\n",
       "      <td>7</td>\n",
       "      <td>Silver</td>\n",
       "      <td>Potential Loyal</td>\n",
       "      <td>439</td>\n",
       "    </tr>\n",
       "    <tr>\n",
       "      <th>6</th>\n",
       "      <td>9</td>\n",
       "      <td>Platinum</td>\n",
       "      <td>Loyal</td>\n",
       "      <td>413</td>\n",
       "    </tr>\n",
       "    <tr>\n",
       "      <th>0</th>\n",
       "      <td>3</td>\n",
       "      <td>Bronze</td>\n",
       "      <td>Inactive</td>\n",
       "      <td>393</td>\n",
       "    </tr>\n",
       "    <tr>\n",
       "      <th>1</th>\n",
       "      <td>4</td>\n",
       "      <td>Bronze</td>\n",
       "      <td>Critical</td>\n",
       "      <td>390</td>\n",
       "    </tr>\n",
       "    <tr>\n",
       "      <th>8</th>\n",
       "      <td>11</td>\n",
       "      <td>Platinum</td>\n",
       "      <td>Loyal</td>\n",
       "      <td>374</td>\n",
       "    </tr>\n",
       "  </tbody>\n",
       "</table>\n",
       "</div>"
      ],
      "text/plain": [
       "   RFM_Score RFM_Segment_Label RFM_Customer_Segments  Count\n",
       "2          5            Silver               Dormant    515\n",
       "9         12          Platinum                 Loyal    470\n",
       "3          6            Silver       Potential Loyal    469\n",
       "5          8            Silver       Potential Loyal    467\n",
       "7         10          Platinum                 Loyal    442\n",
       "4          7            Silver       Potential Loyal    439\n",
       "6          9          Platinum                 Loyal    413\n",
       "0          3            Bronze              Inactive    393\n",
       "1          4            Bronze              Critical    390\n",
       "8         11          Platinum                 Loyal    374"
      ]
     },
     "execution_count": 41,
     "metadata": {},
     "output_type": "execute_result"
    }
   ],
   "source": [
    "\n",
    "segment_counts2 = RFM.groupby(['RFM_Score','RFM_Segment_Label','RFM_Customer_Segments']).size().reset_index(name='Count')\n",
    "\n",
    "segment_counts2= segment_counts2.sort_values('Count', ascending=False)\n",
    "segment_counts2"
   ]
  },
  {
   "cell_type": "code",
   "execution_count": 42,
   "metadata": {},
   "outputs": [
    {
     "data": {
      "application/vnd.plotly.v1+json": {
       "config": {
        "plotlyServerURL": "https://plot.ly"
       },
       "data": [
        {
         "branchvalues": "total",
         "customdata": [
          [
           "Silver"
          ],
          [
           "Silver"
          ],
          [
           "Silver"
          ],
          [
           "Platinum"
          ],
          [
           "Bronze"
          ],
          [
           "Bronze"
          ],
          [
           "Platinum"
          ],
          [
           "Bronze"
          ]
         ],
         "domain": {
          "x": [
           0,
           1
          ],
          "y": [
           0,
           1
          ]
         },
         "hovertemplate": "labels=%{label}<br>Count=%{value}<br>parent=%{parent}<br>id=%{id}<br>RFM_Segment_Label=%{customdata[0]}<extra></extra>",
         "ids": [
          "Silver",
          "Silver/Dormant",
          "Silver/Potential Loyal",
          "Platinum",
          "Bronze/Critical",
          "Bronze/Inactive",
          "Platinum/Loyal",
          "Bronze"
         ],
         "labels": [
          "Silver",
          "Dormant",
          "Potential Loyal",
          "Platinum",
          "Critical",
          "Inactive",
          "Loyal",
          "Bronze"
         ],
         "marker": {
          "colors": [
           "rgb(102,194,165)",
           "rgb(102,194,165)",
           "rgb(102,194,165)",
           "rgb(252,141,98)",
           "rgb(141,160,203)",
           "rgb(141,160,203)",
           "rgb(252,141,98)",
           "rgb(141,160,203)"
          ]
         },
         "name": "",
         "parents": [
          "",
          "Silver",
          "Silver",
          "",
          "Bronze",
          "Bronze",
          "Platinum",
          ""
         ],
         "type": "treemap",
         "values": [
          1890,
          515,
          1375,
          1699,
          390,
          393,
          1699,
          783
         ]
        }
       ],
       "layout": {
        "legend": {
         "tracegroupgap": 0
        },
        "template": {
         "data": {
          "bar": [
           {
            "error_x": {
             "color": "#2a3f5f"
            },
            "error_y": {
             "color": "#2a3f5f"
            },
            "marker": {
             "line": {
              "color": "#E5ECF6",
              "width": 0.5
             },
             "pattern": {
              "fillmode": "overlay",
              "size": 10,
              "solidity": 0.2
             }
            },
            "type": "bar"
           }
          ],
          "barpolar": [
           {
            "marker": {
             "line": {
              "color": "#E5ECF6",
              "width": 0.5
             },
             "pattern": {
              "fillmode": "overlay",
              "size": 10,
              "solidity": 0.2
             }
            },
            "type": "barpolar"
           }
          ],
          "carpet": [
           {
            "aaxis": {
             "endlinecolor": "#2a3f5f",
             "gridcolor": "white",
             "linecolor": "white",
             "minorgridcolor": "white",
             "startlinecolor": "#2a3f5f"
            },
            "baxis": {
             "endlinecolor": "#2a3f5f",
             "gridcolor": "white",
             "linecolor": "white",
             "minorgridcolor": "white",
             "startlinecolor": "#2a3f5f"
            },
            "type": "carpet"
           }
          ],
          "choropleth": [
           {
            "colorbar": {
             "outlinewidth": 0,
             "ticks": ""
            },
            "type": "choropleth"
           }
          ],
          "contour": [
           {
            "colorbar": {
             "outlinewidth": 0,
             "ticks": ""
            },
            "colorscale": [
             [
              0,
              "#0d0887"
             ],
             [
              0.1111111111111111,
              "#46039f"
             ],
             [
              0.2222222222222222,
              "#7201a8"
             ],
             [
              0.3333333333333333,
              "#9c179e"
             ],
             [
              0.4444444444444444,
              "#bd3786"
             ],
             [
              0.5555555555555556,
              "#d8576b"
             ],
             [
              0.6666666666666666,
              "#ed7953"
             ],
             [
              0.7777777777777778,
              "#fb9f3a"
             ],
             [
              0.8888888888888888,
              "#fdca26"
             ],
             [
              1,
              "#f0f921"
             ]
            ],
            "type": "contour"
           }
          ],
          "contourcarpet": [
           {
            "colorbar": {
             "outlinewidth": 0,
             "ticks": ""
            },
            "type": "contourcarpet"
           }
          ],
          "heatmap": [
           {
            "colorbar": {
             "outlinewidth": 0,
             "ticks": ""
            },
            "colorscale": [
             [
              0,
              "#0d0887"
             ],
             [
              0.1111111111111111,
              "#46039f"
             ],
             [
              0.2222222222222222,
              "#7201a8"
             ],
             [
              0.3333333333333333,
              "#9c179e"
             ],
             [
              0.4444444444444444,
              "#bd3786"
             ],
             [
              0.5555555555555556,
              "#d8576b"
             ],
             [
              0.6666666666666666,
              "#ed7953"
             ],
             [
              0.7777777777777778,
              "#fb9f3a"
             ],
             [
              0.8888888888888888,
              "#fdca26"
             ],
             [
              1,
              "#f0f921"
             ]
            ],
            "type": "heatmap"
           }
          ],
          "heatmapgl": [
           {
            "colorbar": {
             "outlinewidth": 0,
             "ticks": ""
            },
            "colorscale": [
             [
              0,
              "#0d0887"
             ],
             [
              0.1111111111111111,
              "#46039f"
             ],
             [
              0.2222222222222222,
              "#7201a8"
             ],
             [
              0.3333333333333333,
              "#9c179e"
             ],
             [
              0.4444444444444444,
              "#bd3786"
             ],
             [
              0.5555555555555556,
              "#d8576b"
             ],
             [
              0.6666666666666666,
              "#ed7953"
             ],
             [
              0.7777777777777778,
              "#fb9f3a"
             ],
             [
              0.8888888888888888,
              "#fdca26"
             ],
             [
              1,
              "#f0f921"
             ]
            ],
            "type": "heatmapgl"
           }
          ],
          "histogram": [
           {
            "marker": {
             "pattern": {
              "fillmode": "overlay",
              "size": 10,
              "solidity": 0.2
             }
            },
            "type": "histogram"
           }
          ],
          "histogram2d": [
           {
            "colorbar": {
             "outlinewidth": 0,
             "ticks": ""
            },
            "colorscale": [
             [
              0,
              "#0d0887"
             ],
             [
              0.1111111111111111,
              "#46039f"
             ],
             [
              0.2222222222222222,
              "#7201a8"
             ],
             [
              0.3333333333333333,
              "#9c179e"
             ],
             [
              0.4444444444444444,
              "#bd3786"
             ],
             [
              0.5555555555555556,
              "#d8576b"
             ],
             [
              0.6666666666666666,
              "#ed7953"
             ],
             [
              0.7777777777777778,
              "#fb9f3a"
             ],
             [
              0.8888888888888888,
              "#fdca26"
             ],
             [
              1,
              "#f0f921"
             ]
            ],
            "type": "histogram2d"
           }
          ],
          "histogram2dcontour": [
           {
            "colorbar": {
             "outlinewidth": 0,
             "ticks": ""
            },
            "colorscale": [
             [
              0,
              "#0d0887"
             ],
             [
              0.1111111111111111,
              "#46039f"
             ],
             [
              0.2222222222222222,
              "#7201a8"
             ],
             [
              0.3333333333333333,
              "#9c179e"
             ],
             [
              0.4444444444444444,
              "#bd3786"
             ],
             [
              0.5555555555555556,
              "#d8576b"
             ],
             [
              0.6666666666666666,
              "#ed7953"
             ],
             [
              0.7777777777777778,
              "#fb9f3a"
             ],
             [
              0.8888888888888888,
              "#fdca26"
             ],
             [
              1,
              "#f0f921"
             ]
            ],
            "type": "histogram2dcontour"
           }
          ],
          "mesh3d": [
           {
            "colorbar": {
             "outlinewidth": 0,
             "ticks": ""
            },
            "type": "mesh3d"
           }
          ],
          "parcoords": [
           {
            "line": {
             "colorbar": {
              "outlinewidth": 0,
              "ticks": ""
             }
            },
            "type": "parcoords"
           }
          ],
          "pie": [
           {
            "automargin": true,
            "type": "pie"
           }
          ],
          "scatter": [
           {
            "fillpattern": {
             "fillmode": "overlay",
             "size": 10,
             "solidity": 0.2
            },
            "type": "scatter"
           }
          ],
          "scatter3d": [
           {
            "line": {
             "colorbar": {
              "outlinewidth": 0,
              "ticks": ""
             }
            },
            "marker": {
             "colorbar": {
              "outlinewidth": 0,
              "ticks": ""
             }
            },
            "type": "scatter3d"
           }
          ],
          "scattercarpet": [
           {
            "marker": {
             "colorbar": {
              "outlinewidth": 0,
              "ticks": ""
             }
            },
            "type": "scattercarpet"
           }
          ],
          "scattergeo": [
           {
            "marker": {
             "colorbar": {
              "outlinewidth": 0,
              "ticks": ""
             }
            },
            "type": "scattergeo"
           }
          ],
          "scattergl": [
           {
            "marker": {
             "colorbar": {
              "outlinewidth": 0,
              "ticks": ""
             }
            },
            "type": "scattergl"
           }
          ],
          "scattermapbox": [
           {
            "marker": {
             "colorbar": {
              "outlinewidth": 0,
              "ticks": ""
             }
            },
            "type": "scattermapbox"
           }
          ],
          "scatterpolar": [
           {
            "marker": {
             "colorbar": {
              "outlinewidth": 0,
              "ticks": ""
             }
            },
            "type": "scatterpolar"
           }
          ],
          "scatterpolargl": [
           {
            "marker": {
             "colorbar": {
              "outlinewidth": 0,
              "ticks": ""
             }
            },
            "type": "scatterpolargl"
           }
          ],
          "scatterternary": [
           {
            "marker": {
             "colorbar": {
              "outlinewidth": 0,
              "ticks": ""
             }
            },
            "type": "scatterternary"
           }
          ],
          "surface": [
           {
            "colorbar": {
             "outlinewidth": 0,
             "ticks": ""
            },
            "colorscale": [
             [
              0,
              "#0d0887"
             ],
             [
              0.1111111111111111,
              "#46039f"
             ],
             [
              0.2222222222222222,
              "#7201a8"
             ],
             [
              0.3333333333333333,
              "#9c179e"
             ],
             [
              0.4444444444444444,
              "#bd3786"
             ],
             [
              0.5555555555555556,
              "#d8576b"
             ],
             [
              0.6666666666666666,
              "#ed7953"
             ],
             [
              0.7777777777777778,
              "#fb9f3a"
             ],
             [
              0.8888888888888888,
              "#fdca26"
             ],
             [
              1,
              "#f0f921"
             ]
            ],
            "type": "surface"
           }
          ],
          "table": [
           {
            "cells": {
             "fill": {
              "color": "#EBF0F8"
             },
             "line": {
              "color": "white"
             }
            },
            "header": {
             "fill": {
              "color": "#C8D4E3"
             },
             "line": {
              "color": "white"
             }
            },
            "type": "table"
           }
          ]
         },
         "layout": {
          "annotationdefaults": {
           "arrowcolor": "#2a3f5f",
           "arrowhead": 0,
           "arrowwidth": 1
          },
          "autotypenumbers": "strict",
          "coloraxis": {
           "colorbar": {
            "outlinewidth": 0,
            "ticks": ""
           }
          },
          "colorscale": {
           "diverging": [
            [
             0,
             "#8e0152"
            ],
            [
             0.1,
             "#c51b7d"
            ],
            [
             0.2,
             "#de77ae"
            ],
            [
             0.3,
             "#f1b6da"
            ],
            [
             0.4,
             "#fde0ef"
            ],
            [
             0.5,
             "#f7f7f7"
            ],
            [
             0.6,
             "#e6f5d0"
            ],
            [
             0.7,
             "#b8e186"
            ],
            [
             0.8,
             "#7fbc41"
            ],
            [
             0.9,
             "#4d9221"
            ],
            [
             1,
             "#276419"
            ]
           ],
           "sequential": [
            [
             0,
             "#0d0887"
            ],
            [
             0.1111111111111111,
             "#46039f"
            ],
            [
             0.2222222222222222,
             "#7201a8"
            ],
            [
             0.3333333333333333,
             "#9c179e"
            ],
            [
             0.4444444444444444,
             "#bd3786"
            ],
            [
             0.5555555555555556,
             "#d8576b"
            ],
            [
             0.6666666666666666,
             "#ed7953"
            ],
            [
             0.7777777777777778,
             "#fb9f3a"
            ],
            [
             0.8888888888888888,
             "#fdca26"
            ],
            [
             1,
             "#f0f921"
            ]
           ],
           "sequentialminus": [
            [
             0,
             "#0d0887"
            ],
            [
             0.1111111111111111,
             "#46039f"
            ],
            [
             0.2222222222222222,
             "#7201a8"
            ],
            [
             0.3333333333333333,
             "#9c179e"
            ],
            [
             0.4444444444444444,
             "#bd3786"
            ],
            [
             0.5555555555555556,
             "#d8576b"
            ],
            [
             0.6666666666666666,
             "#ed7953"
            ],
            [
             0.7777777777777778,
             "#fb9f3a"
            ],
            [
             0.8888888888888888,
             "#fdca26"
            ],
            [
             1,
             "#f0f921"
            ]
           ]
          },
          "colorway": [
           "#636efa",
           "#EF553B",
           "#00cc96",
           "#ab63fa",
           "#FFA15A",
           "#19d3f3",
           "#FF6692",
           "#B6E880",
           "#FF97FF",
           "#FECB52"
          ],
          "font": {
           "color": "#2a3f5f"
          },
          "geo": {
           "bgcolor": "white",
           "lakecolor": "white",
           "landcolor": "#E5ECF6",
           "showlakes": true,
           "showland": true,
           "subunitcolor": "white"
          },
          "hoverlabel": {
           "align": "left"
          },
          "hovermode": "closest",
          "mapbox": {
           "style": "light"
          },
          "paper_bgcolor": "white",
          "plot_bgcolor": "#E5ECF6",
          "polar": {
           "angularaxis": {
            "gridcolor": "white",
            "linecolor": "white",
            "ticks": ""
           },
           "bgcolor": "#E5ECF6",
           "radialaxis": {
            "gridcolor": "white",
            "linecolor": "white",
            "ticks": ""
           }
          },
          "scene": {
           "xaxis": {
            "backgroundcolor": "#E5ECF6",
            "gridcolor": "white",
            "gridwidth": 2,
            "linecolor": "white",
            "showbackground": true,
            "ticks": "",
            "zerolinecolor": "white"
           },
           "yaxis": {
            "backgroundcolor": "#E5ECF6",
            "gridcolor": "white",
            "gridwidth": 2,
            "linecolor": "white",
            "showbackground": true,
            "ticks": "",
            "zerolinecolor": "white"
           },
           "zaxis": {
            "backgroundcolor": "#E5ECF6",
            "gridcolor": "white",
            "gridwidth": 2,
            "linecolor": "white",
            "showbackground": true,
            "ticks": "",
            "zerolinecolor": "white"
           }
          },
          "shapedefaults": {
           "line": {
            "color": "#2a3f5f"
           }
          },
          "ternary": {
           "aaxis": {
            "gridcolor": "white",
            "linecolor": "white",
            "ticks": ""
           },
           "baxis": {
            "gridcolor": "white",
            "linecolor": "white",
            "ticks": ""
           },
           "bgcolor": "#E5ECF6",
           "caxis": {
            "gridcolor": "white",
            "linecolor": "white",
            "ticks": ""
           }
          },
          "title": {
           "x": 0.05
          },
          "xaxis": {
           "automargin": true,
           "gridcolor": "white",
           "linecolor": "white",
           "ticks": "",
           "title": {
            "standoff": 15
           },
           "zerolinecolor": "white",
           "zerolinewidth": 2
          },
          "yaxis": {
           "automargin": true,
           "gridcolor": "white",
           "linecolor": "white",
           "ticks": "",
           "title": {
            "standoff": 15
           },
           "zerolinecolor": "white",
           "zerolinewidth": 2
          }
         }
        },
        "title": {
         "text": "RFM Customer Segments by Value"
        },
        "treemapcolorway": [
         "rgb(102,194,165)",
         "rgb(252,141,98)",
         "rgb(141,160,203)",
         "rgb(231,138,195)",
         "rgb(166,216,84)",
         "rgb(255,217,47)",
         "rgb(229,196,148)",
         "rgb(179,179,179)"
        ]
       }
      }
     },
     "metadata": {},
     "output_type": "display_data"
    }
   ],
   "source": [
    "#Create a treemap\n",
    "#the treemap will first be divided according to Segment_type i.e silver, platinum, bronze and each segment divided into loyal etc.\n",
    "#size of each rectangle is proportional to the count\n",
    "#\n",
    "fig_treemap_segment_product=px.treemap(segment_counts2,\n",
    "                                       path=['RFM_Segment_Label','RFM_Customer_Segments'],\n",
    "                                       values ='Count',\n",
    "                                       color= 'RFM_Segment_Label',\n",
    "                                       color_discrete_sequence=px.colors.qualitative.Set2,\n",
    "                                       title='RFM Customer Segments by Value')\n",
    "                                       \n",
    "#Display the treemap\n",
    "fig_treemap_segment_product.show()"
   ]
  },
  {
   "cell_type": "code",
   "execution_count": 43,
   "metadata": {},
   "outputs": [],
   "source": [
    "# Filter the DataFrame for 'Loyal' customers\n",
    "Loyal_segment =RFM[RFM['RFM_Customer_Segments']=='Loyal']"
   ]
  },
  {
   "cell_type": "code",
   "execution_count": 46,
   "metadata": {},
   "outputs": [
    {
     "data": {
      "application/vnd.plotly.v1+json": {
       "config": {
        "plotlyServerURL": "https://plot.ly"
       },
       "data": [
        {
         "name": "Recency",
         "type": "box",
         "y": [
          2,
          19,
          36,
          23,
          33,
          2,
          8,
          52,
          3,
          8,
          51,
          45,
          130,
          22,
          5,
          185,
          16,
          16,
          36,
          46,
          22,
          50,
          33,
          79,
          24,
          3,
          16,
          1,
          12,
          26,
          9,
          36,
          43,
          1,
          2,
          14,
          21,
          22,
          11,
          73,
          44,
          58,
          2,
          46,
          10,
          8,
          2,
          31,
          29,
          17,
          1,
          23,
          4,
          28,
          23,
          17,
          33,
          10,
          5,
          10,
          23,
          315,
          96,
          28,
          1,
          79,
          2,
          9,
          1,
          9,
          60,
          8,
          22,
          20,
          30,
          47,
          8,
          50,
          16,
          5,
          8,
          23,
          2,
          9,
          36,
          35,
          21,
          3,
          4,
          38,
          19,
          10,
          29,
          29,
          23,
          31,
          2,
          16,
          15,
          2,
          23,
          11,
          4,
          10,
          59,
          90,
          67,
          24,
          25,
          34,
          5,
          22,
          17,
          11,
          1,
          8,
          7,
          10,
          5,
          12,
          25,
          42,
          1,
          15,
          4,
          4,
          8,
          28,
          114,
          26,
          21,
          8,
          7,
          15,
          30,
          3,
          23,
          1,
          9,
          4,
          5,
          3,
          32,
          4,
          5,
          28,
          11,
          24,
          52,
          2,
          1,
          4,
          81,
          4,
          16,
          117,
          8,
          4,
          17,
          20,
          21,
          5,
          2,
          9,
          10,
          3,
          3,
          3,
          38,
          59,
          34,
          3,
          144,
          5,
          66,
          22,
          31,
          108,
          79,
          8,
          26,
          26,
          58,
          4,
          18,
          25,
          9,
          12,
          40,
          23,
          3,
          5,
          139,
          8,
          4,
          5,
          35,
          22,
          24,
          2,
          17,
          15,
          64,
          46,
          16,
          31,
          2,
          9,
          6,
          1,
          4,
          8,
          89,
          3,
          7,
          4,
          1,
          3,
          4,
          22,
          4,
          12,
          9,
          1,
          3,
          53,
          16,
          4,
          1,
          23,
          11,
          39,
          9,
          32,
          14,
          9,
          13,
          1,
          1,
          1,
          1,
          126,
          3,
          9,
          267,
          21,
          33,
          1,
          1,
          3,
          44,
          3,
          31,
          1,
          9,
          22,
          20,
          90,
          5,
          23,
          73,
          50,
          11,
          22,
          16,
          85,
          29,
          14,
          33,
          49,
          9,
          122,
          46,
          19,
          36,
          8,
          4,
          16,
          26,
          8,
          15,
          40,
          11,
          10,
          4,
          19,
          10,
          59,
          30,
          10,
          9,
          60,
          3,
          4,
          13,
          11,
          18,
          12,
          1,
          53,
          11,
          3,
          18,
          1,
          23,
          8,
          4,
          23,
          7,
          9,
          22,
          2,
          37,
          64,
          5,
          70,
          3,
          32,
          39,
          82,
          45,
          68,
          16,
          3,
          18,
          9,
          61,
          21,
          31,
          11,
          2,
          22,
          2,
          9,
          12,
          40,
          51,
          108,
          1,
          11,
          19,
          5,
          14,
          23,
          17,
          27,
          26,
          25,
          18,
          7,
          11,
          2,
          1,
          38,
          46,
          17,
          8,
          18,
          23,
          68,
          3,
          9,
          1,
          21,
          60,
          59,
          1,
          33,
          34,
          2,
          1,
          12,
          96,
          26,
          66,
          74,
          6,
          82,
          41,
          17,
          13,
          23,
          10,
          25,
          16,
          11,
          108,
          6,
          1,
          45,
          40,
          12,
          24,
          31,
          59,
          23,
          5,
          25,
          33,
          37,
          9,
          10,
          17,
          46,
          43,
          10,
          3,
          1,
          18,
          3,
          25,
          4,
          31,
          26,
          5,
          8,
          4,
          32,
          15,
          120,
          50,
          39,
          37,
          25,
          5,
          17,
          3,
          4,
          2,
          12,
          50,
          71,
          2,
          2,
          64,
          34,
          1,
          7,
          13,
          10,
          4,
          1,
          138,
          31,
          6,
          40,
          22,
          6,
          33,
          16,
          25,
          6,
          59,
          25,
          52,
          96,
          9,
          9,
          1,
          18,
          31,
          7,
          123,
          2,
          23,
          54,
          21,
          4,
          3,
          1,
          7,
          1,
          21,
          72,
          80,
          57,
          2,
          17,
          22,
          3,
          11,
          211,
          7,
          5,
          7,
          9,
          31,
          39,
          30,
          4,
          20,
          12,
          32,
          4,
          15,
          10,
          46,
          43,
          10,
          154,
          47,
          18,
          7,
          2,
          29,
          41,
          27,
          9,
          17,
          32,
          1,
          1,
          24,
          5,
          10,
          29,
          4,
          5,
          4,
          2,
          10,
          8,
          12,
          4,
          16,
          5,
          52,
          4,
          23,
          4,
          20,
          4,
          11,
          2,
          2,
          2,
          2,
          4,
          3,
          9,
          10,
          20,
          87,
          51,
          9,
          41,
          11,
          9,
          2,
          2,
          5,
          4,
          11,
          91,
          53,
          31,
          12,
          3,
          2,
          42,
          110,
          29,
          26,
          32,
          22,
          10,
          43,
          30,
          9,
          176,
          7,
          2,
          51,
          9,
          8,
          15,
          3,
          21,
          24,
          9,
          11,
          2,
          8,
          3,
          18,
          3,
          8,
          71,
          89,
          8,
          47,
          21,
          11,
          9,
          17,
          16,
          17,
          45,
          19,
          32,
          109,
          8,
          26,
          38,
          33,
          9,
          9,
          10,
          2,
          1,
          4,
          34,
          107,
          11,
          71,
          16,
          35,
          1,
          4,
          11,
          1,
          19,
          7,
          10,
          8,
          1,
          2,
          1,
          19,
          19,
          5,
          148,
          64,
          29,
          12,
          104,
          18,
          27,
          7,
          43,
          26,
          20,
          3,
          47,
          17,
          17,
          24,
          11,
          18,
          32,
          9,
          3,
          26,
          25,
          3,
          59,
          10,
          59,
          4,
          24,
          4,
          4,
          11,
          19,
          10,
          7,
          4,
          96,
          3,
          13,
          6,
          19,
          15,
          35,
          22,
          7,
          20,
          11,
          1,
          16,
          4,
          1,
          32,
          9,
          4,
          52,
          16,
          9,
          2,
          5,
          67,
          1,
          4,
          18,
          9,
          29,
          61,
          11,
          3,
          16,
          31,
          25,
          26,
          8,
          31,
          4,
          2,
          32,
          11,
          1,
          11,
          3,
          15,
          14,
          10,
          9,
          25,
          2,
          6,
          10,
          25,
          1,
          8,
          9,
          4,
          39,
          2,
          12,
          16,
          29,
          10,
          15,
          5,
          8,
          3,
          51,
          7,
          17,
          3,
          1,
          48,
          15,
          40,
          41,
          37,
          10,
          4,
          29,
          18,
          90,
          53,
          35,
          64,
          22,
          58,
          78,
          36,
          13,
          26,
          11,
          3,
          4,
          3,
          9,
          13,
          19,
          10,
          8,
          8,
          23,
          11,
          21,
          2,
          3,
          1,
          17,
          36,
          116,
          30,
          109,
          5,
          73,
          9,
          30,
          23,
          46,
          12,
          11,
          10,
          35,
          72,
          116,
          16,
          12,
          9,
          12,
          3,
          10,
          8,
          4,
          5,
          16,
          43,
          10,
          19,
          9,
          25,
          23,
          5,
          12,
          25,
          41,
          8,
          4,
          38,
          32,
          78,
          46,
          10,
          7,
          21,
          10,
          18,
          18,
          18,
          29,
          10,
          30,
          18,
          15,
          85,
          7,
          25,
          60,
          50,
          18,
          15,
          3,
          52,
          8,
          4,
          17,
          10,
          1,
          4,
          2,
          69,
          9,
          18,
          2,
          1,
          3,
          3,
          9,
          26,
          1,
          2,
          11,
          52,
          37,
          66,
          218,
          2,
          29,
          10,
          45,
          67,
          134,
          32,
          9,
          36,
          16,
          100,
          16,
          7,
          4,
          59,
          43,
          29,
          5,
          26,
          44,
          2,
          51,
          1,
          49,
          35,
          12,
          31,
          5,
          26,
          57,
          41,
          8,
          40,
          169,
          9,
          15,
          5,
          10,
          16,
          1,
          34,
          84,
          26,
          10,
          65,
          19,
          33,
          8,
          12,
          2,
          9,
          26,
          2,
          20,
          9,
          2,
          40,
          16,
          1,
          30,
          23,
          95,
          33,
          21,
          1,
          8,
          16,
          53,
          23,
          12,
          31,
          12,
          64,
          36,
          2,
          19,
          23,
          22,
          8,
          25,
          19,
          9,
          7,
          77,
          4,
          12,
          12,
          9,
          3,
          7,
          12,
          5,
          38,
          121,
          25,
          24,
          16,
          27,
          11,
          8,
          36,
          57,
          28,
          10,
          10,
          33,
          50,
          4,
          3,
          5,
          45,
          16,
          4,
          105,
          9,
          45,
          25,
          168,
          19,
          88,
          73,
          9,
          24,
          9,
          18,
          9,
          1,
          33,
          2,
          140,
          35,
          41,
          9,
          33,
          24,
          12,
          36,
          17,
          15,
          19,
          16,
          9,
          13,
          3,
          40,
          1,
          32,
          81,
          7,
          10,
          30,
          44,
          26,
          44,
          1,
          107,
          46,
          1,
          23,
          50,
          306,
          79,
          17,
          3,
          64,
          49,
          3,
          51,
          73,
          70,
          44,
          11,
          25,
          18,
          4,
          4,
          16,
          41,
          12,
          8,
          22,
          5,
          15,
          63,
          2,
          2,
          1,
          17,
          10,
          20,
          4,
          1,
          16,
          20,
          4,
          21,
          90,
          8,
          2,
          1,
          34,
          15,
          24,
          17,
          18,
          39,
          17,
          89,
          25,
          22,
          3,
          12,
          44,
          9,
          88,
          37,
          3,
          30,
          12,
          48,
          22,
          8,
          35,
          4,
          36,
          4,
          3,
          2,
          17,
          46,
          39,
          6,
          22,
          40,
          33,
          45,
          4,
          66,
          10,
          17,
          3,
          17,
          56,
          23,
          12,
          88,
          9,
          42,
          7,
          18,
          45,
          10,
          57,
          29,
          18,
          52,
          4,
          3,
          9,
          39,
          50,
          9,
          16,
          2,
          17,
          11,
          8,
          51,
          16,
          100,
          23,
          32,
          45,
          3,
          4,
          3,
          31,
          45,
          89,
          2,
          19,
          30,
          37,
          45,
          41,
          8,
          10,
          8,
          24,
          53,
          32,
          17,
          45,
          17,
          9,
          3,
          21,
          6,
          31,
          9,
          10,
          26,
          64,
          6,
          14,
          28,
          8,
          25,
          16,
          11,
          32,
          21,
          4,
          1,
          7,
          5,
          10,
          12,
          18,
          37,
          2,
          18,
          82,
          9,
          4,
          2,
          50,
          61,
          1,
          13,
          36,
          27,
          17,
          2,
          29,
          6,
          8,
          2,
          64,
          99,
          3,
          28,
          21,
          20,
          34,
          24,
          52,
          7,
          64,
          3,
          9,
          50,
          22,
          5,
          52,
          2,
          2,
          22,
          19,
          3,
          10,
          109,
          3,
          67,
          1,
          21,
          9,
          3,
          4,
          4,
          18,
          15,
          33,
          31,
          1,
          30,
          17,
          32,
          23,
          25,
          5,
          54,
          16,
          18,
          22,
          10,
          24,
          17,
          2,
          34,
          3,
          73,
          5,
          4,
          47,
          1,
          9,
          9,
          1,
          37,
          85,
          19,
          3,
          9,
          19,
          9,
          15,
          17,
          26,
          46,
          36,
          79,
          29,
          11,
          87,
          5,
          25,
          18,
          31,
          114,
          8,
          20,
          4,
          31,
          58,
          33,
          10,
          2,
          10,
          4,
          29,
          1,
          11,
          23,
          8,
          14,
          3,
          11,
          1,
          31,
          9,
          37,
          43,
          23,
          22,
          5,
          64,
          12,
          31,
          15,
          2,
          1,
          26,
          8,
          116,
          4,
          5,
          29,
          4,
          23,
          9,
          24,
          50,
          156,
          12,
          21,
          80,
          4,
          5,
          1,
          9,
          52,
          13,
          22,
          4,
          1,
          39,
          8,
          39,
          4,
          13,
          78,
          17,
          3,
          11,
          1,
          46,
          5,
          8,
          29,
          3,
          11,
          79,
          16,
          27,
          3,
          32,
          3,
          96,
          28,
          30,
          74,
          9,
          12,
          28,
          9,
          18,
          18,
          33,
          35,
          123,
          7,
          28,
          4,
          3,
          50,
          22,
          9,
          2,
          18,
          10,
          33,
          29,
          6,
          8,
          5,
          16,
          16,
          16,
          1,
          23,
          32,
          22,
          31,
          29,
          33,
          50,
          5,
          44,
          56,
          8,
          11,
          28,
          36,
          24,
          36,
          27,
          40,
          60,
          4,
          24,
          7,
          19,
          16,
          12,
          13,
          3,
          1,
          4,
          5,
          2,
          42,
          130,
          60,
          26,
          9,
          32,
          4,
          8,
          12,
          15,
          11,
          18,
          25,
          1,
          8,
          15,
          18,
          151,
          17,
          9,
          15,
          4,
          15,
          8,
          17,
          1,
          13,
          23,
          17,
          41,
          40,
          24,
          11,
          9,
          8,
          20,
          1,
          39,
          22,
          126,
          5,
          4,
          1,
          330,
          16,
          12,
          3,
          30,
          11,
          16,
          19,
          4,
          1,
          2,
          29,
          148,
          2,
          8,
          1,
          15,
          43,
          23,
          16,
          10,
          16,
          45,
          4,
          1,
          1,
          9,
          206,
          58,
          3,
          29,
          15,
          17,
          24,
          2,
          11,
          1,
          1,
          1,
          30,
          43,
          43,
          1,
          20,
          14,
          8,
          7,
          50,
          8,
          5,
          1,
          7,
          109,
          60,
          2,
          73,
          4,
          12,
          23,
          2,
          41,
          4,
          53,
          23,
          6,
          15,
          18,
          6,
          31,
          36,
          1,
          61,
          12,
          25,
          29,
          11,
          73,
          4,
          26,
          4,
          66,
          43,
          16,
          44,
          1,
          1,
          4,
          2,
          10,
          17,
          7,
          30,
          38,
          17,
          30,
          35,
          3,
          4,
          23,
          38,
          26,
          96,
          16,
          9,
          4,
          3,
          2,
          19,
          12,
          4,
          5,
          1,
          1,
          19,
          17,
          8,
          13,
          97,
          25,
          153,
          27,
          40,
          22,
          22,
          37,
          82,
          11,
          16,
          4,
          13,
          14,
          72,
          5,
          9,
          3,
          42,
          27,
          2,
          302,
          3,
          6,
          3,
          59,
          13,
          31,
          2,
          80,
          3,
          4,
          32,
          72,
          4,
          4,
          64,
          1,
          36,
          29,
          5,
          9,
          49,
          1,
          5,
          21,
          38,
          38,
          25,
          15,
          36,
          74,
          12,
          32,
          36,
          22,
          36,
          12,
          25,
          4,
          7,
          22,
          6,
          26,
          114,
          23,
          8,
          45,
          26,
          2,
          82,
          12,
          8,
          1,
          2,
          68,
          11,
          8,
          30,
          9,
          17,
          8,
          13,
          13,
          10,
          4,
          15,
          31,
          9,
          5,
          15,
          95,
          4,
          71,
          2,
          3,
          22,
          2,
          3,
          39,
          12,
          9,
          192,
          72,
          30,
          3,
          10,
          72,
          7,
          39,
          25,
          173,
          23,
          3,
          4,
          43
         ]
        },
        {
         "name": "Frequency",
         "type": "box",
         "y": [
          182,
          73,
          95,
          59,
          131,
          19,
          251,
          129,
          274,
          85,
          166,
          63,
          219,
          105,
          91,
          100,
          100,
          159,
          126,
          85,
          108,
          77,
          113,
          114,
          778,
          198,
          46,
          126,
          35,
          300,
          97,
          239,
          108,
          420,
          201,
          98,
          177,
          191,
          355,
          90,
          129,
          68,
          72,
          88,
          29,
          51,
          530,
          391,
          178,
          455,
          264,
          308,
          36,
          154,
          217,
          81,
          347,
          55,
          245,
          84,
          65,
          160,
          147,
          281,
          124,
          155,
          110,
          144,
          71,
          95,
          68,
          273,
          274,
          481,
          52,
          70,
          196,
          119,
          33,
          111,
          168,
          463,
          191,
          62,
          89,
          147,
          120,
          251,
          126,
          119,
          214,
          133,
          62,
          65,
          111,
          163,
          105,
          95,
          92,
          474,
          307,
          230,
          43,
          64,
          103,
          101,
          386,
          53,
          47,
          74,
          45,
          128,
          130,
          56,
          232,
          38,
          168,
          94,
          42,
          90,
          45,
          167,
          52,
          646,
          524,
          362,
          105,
          157,
          171,
          72,
          43,
          270,
          90,
          348,
          174,
          256,
          142,
          38,
          259,
          69,
          42,
          359,
          164,
          69,
          53,
          124,
          141,
          277,
          229,
          103,
          4459,
          231,
          53,
          230,
          370,
          97,
          69,
          310,
          67,
          51,
          159,
          107,
          86,
          57,
          8,
          59,
          94,
          56,
          39,
          174,
          120,
          316,
          116,
          433,
          108,
          84,
          48,
          84,
          114,
          314,
          96,
          547,
          85,
          154,
          49,
          42,
          125,
          63,
          96,
          75,
          24,
          50,
          105,
          52,
          741,
          45,
          84,
          102,
          107,
          130,
          63,
          120,
          47,
          100,
          118,
          219,
          23,
          65,
          80,
          183,
          244,
          96,
          108,
          33,
          129,
          308,
          78,
          68,
          73,
          67,
          340,
          409,
          106,
          222,
          124,
          175,
          459,
          134,
          43,
          47,
          92,
          75,
          43,
          196,
          136,
          422,
          68,
          469,
          111,
          380,
          1061,
          75,
          1853,
          161,
          170,
          30,
          435,
          605,
          310,
          20,
          60,
          50,
          146,
          280,
          132,
          76,
          82,
          222,
          142,
          46,
          105,
          139,
          688,
          63,
          174,
          136,
          340,
          86,
          85,
          89,
          121,
          82,
          42,
          65,
          128,
          48,
          43,
          293,
          265,
          94,
          181,
          84,
          110,
          229,
          120,
          46,
          57,
          149,
          329,
          55,
          142,
          109,
          34,
          588,
          202,
          32,
          138,
          36,
          1667,
          90,
          202,
          224,
          440,
          319,
          187,
          59,
          81,
          57,
          107,
          77,
          78,
          74,
          87,
          135,
          500,
          109,
          21,
          77,
          109,
          265,
          134,
          116,
          43,
          169,
          60,
          132,
          158,
          173,
          155,
          51,
          164,
          47,
          501,
          30,
          314,
          103,
          128,
          78,
          159,
          67,
          54,
          103,
          167,
          62,
          198,
          71,
          434,
          53,
          65,
          394,
          98,
          306,
          254,
          81,
          112,
          427,
          52,
          45,
          67,
          227,
          162,
          44,
          117,
          44,
          143,
          95,
          418,
          177,
          218,
          342,
          178,
          97,
          123,
          52,
          121,
          135,
          169,
          82,
          169,
          79,
          340,
          46,
          130,
          85,
          180,
          89,
          128,
          146,
          263,
          99,
          97,
          217,
          195,
          83,
          94,
          59,
          80,
          146,
          186,
          64,
          148,
          79,
          98,
          63,
          166,
          112,
          494,
          215,
          57,
          39,
          55,
          584,
          90,
          194,
          135,
          28,
          345,
          103,
          60,
          86,
          118,
          42,
          63,
          207,
          193,
          315,
          42,
          322,
          143,
          117,
          70,
          207,
          399,
          143,
          120,
          173,
          219,
          57,
          113,
          31,
          45,
          438,
          66,
          135,
          76,
          71,
          177,
          96,
          46,
          72,
          55,
          165,
          206,
          58,
          101,
          81,
          24,
          114,
          77,
          142,
          60,
          33,
          304,
          118,
          338,
          104,
          165,
          180,
          66,
          155,
          60,
          114,
          119,
          149,
          126,
          148,
          137,
          49,
          47,
          160,
          36,
          138,
          20,
          147,
          626,
          158,
          331,
          115,
          112,
          353,
          239,
          84,
          125,
          148,
          87,
          212,
          40,
          171,
          84,
          162,
          68,
          242,
          258,
          152,
          66,
          235,
          206,
          34,
          495,
          54,
          215,
          1110,
          290,
          203,
          111,
          79,
          332,
          43,
          177,
          449,
          590,
          217,
          100,
          5128,
          252,
          63,
          124,
          157,
          173,
          40,
          72,
          161,
          166,
          52,
          201,
          134,
          46,
          67,
          46,
          245,
          1415,
          1183,
          52,
          164,
          318,
          157,
          248,
          71,
          277,
          263,
          604,
          44,
          88,
          103,
          118,
          70,
          109,
          59,
          107,
          194,
          113,
          72,
          183,
          118,
          147,
          80,
          116,
          42,
          148,
          112,
          111,
          78,
          107,
          112,
          143,
          225,
          154,
          27,
          285,
          47,
          103,
          238,
          108,
          61,
          64,
          1640,
          162,
          110,
          180,
          123,
          87,
          104,
          123,
          268,
          163,
          60,
          90,
          129,
          58,
          117,
          69,
          530,
          126,
          59,
          139,
          191,
          62,
          289,
          351,
          95,
          183,
          101,
          76,
          106,
          55,
          282,
          45,
          601,
          124,
          202,
          222,
          264,
          141,
          377,
          55,
          59,
          68,
          277,
          70,
          250,
          954,
          180,
          239,
          72,
          43,
          265,
          137,
          141,
          123,
          193,
          190,
          615,
          164,
          107,
          789,
          295,
          97,
          71,
          98,
          197,
          289,
          1010,
          213,
          65,
          547,
          331,
          71,
          105,
          105,
          111,
          415,
          356,
          47,
          113,
          203,
          76,
          441,
          129,
          265,
          123,
          302,
          372,
          176,
          158,
          151,
          52,
          102,
          47,
          2759,
          109,
          20,
          96,
          134,
          126,
          151,
          175,
          112,
          29,
          2085,
          186,
          101,
          234,
          50,
          127,
          259,
          157,
          117,
          570,
          74,
          97,
          44,
          320,
          390,
          356,
          71,
          133,
          200,
          112,
          342,
          343,
          393,
          29,
          197,
          136,
          347,
          340,
          71,
          236,
          37,
          259,
          47,
          462,
          149,
          216,
          205,
          56,
          61,
          59,
          28,
          92,
          237,
          38,
          102,
          137,
          1066,
          134,
          30,
          46,
          82,
          1156,
          390,
          46,
          252,
          254,
          53,
          29,
          120,
          45,
          70,
          110,
          138,
          158,
          130,
          392,
          143,
          130,
          65,
          59,
          48,
          103,
          147,
          71,
          93,
          50,
          122,
          54,
          73,
          506,
          55,
          112,
          98,
          359,
          69,
          168,
          5898,
          28,
          87,
          45,
          78,
          127,
          42,
          88,
          366,
          172,
          64,
          149,
          77,
          317,
          192,
          155,
          214,
          115,
          1152,
          180,
          451,
          121,
          554,
          152,
          48,
          110,
          504,
          396,
          128,
          1483,
          452,
          202,
          78,
          142,
          69,
          114,
          266,
          239,
          115,
          410,
          158,
          53,
          82,
          104,
          76,
          451,
          60,
          145,
          112,
          101,
          102,
          84,
          98,
          197,
          45,
          80,
          87,
          106,
          140,
          111,
          84,
          52,
          73,
          69,
          81,
          218,
          67,
          342,
          278,
          55,
          133,
          720,
          101,
          110,
          95,
          93,
          232,
          326,
          1,
          36,
          142,
          43,
          110,
          166,
          119,
          58,
          126,
          143,
          99,
          52,
          52,
          83,
          111,
          89,
          358,
          121,
          44,
          55,
          78,
          48,
          265,
          47,
          150,
          88,
          59,
          212,
          109,
          200,
          194,
          246,
          2478,
          105,
          62,
          227,
          499,
          560,
          151,
          96,
          95,
          137,
          116,
          196,
          37,
          306,
          85,
          85,
          74,
          50,
          148,
          122,
          99,
          39,
          193,
          283,
          292,
          59,
          291,
          375,
          214,
          62,
          279,
          104,
          53,
          73,
          44,
          126,
          188,
          85,
          55,
          155,
          291,
          122,
          523,
          68,
          252,
          99,
          161,
          158,
          314,
          197,
          216,
          200,
          158,
          165,
          664,
          107,
          219,
          258,
          86,
          261,
          695,
          115,
          61,
          913,
          31,
          117,
          53,
          326,
          57,
          212,
          43,
          148,
          44,
          124,
          104,
          52,
          414,
          54,
          67,
          91,
          60,
          45,
          429,
          49,
          104,
          18,
          214,
          157,
          61,
          177,
          486,
          119,
          21,
          47,
          94,
          115,
          81,
          138,
          135,
          216,
          110,
          78,
          67,
          168,
          79,
          174,
          230,
          117,
          205,
          282,
          53,
          932,
          128,
          84,
          70,
          301,
          79,
          176,
          86,
          65,
          90,
          293,
          406,
          149,
          63,
          188,
          147,
          44,
          87,
          279,
          200,
          76,
          134,
          117,
          69,
          274,
          305,
          48,
          197,
          112,
          139,
          74,
          49,
          123,
          33,
          69,
          134,
          272,
          50,
          169,
          65,
          140,
          138,
          636,
          188,
          139,
          541,
          147,
          24,
          461,
          108,
          137,
          128,
          49,
          85,
          111,
          75,
          151,
          226,
          266,
          156,
          122,
          119,
          74,
          77,
          60,
          102,
          43,
          84,
          102,
          185,
          111,
          35,
          177,
          65,
          43,
          97,
          112,
          263,
          128,
          52,
          551,
          128,
          507,
          9,
          103,
          201,
          381,
          82,
          210,
          94,
          151,
          141,
          183,
          226,
          165,
          46,
          101,
          270,
          1143,
          74,
          299,
          84,
          66,
          134,
          178,
          64,
          101,
          131,
          21,
          223,
          167,
          67,
          67,
          83,
          57,
          48,
          31,
          342,
          279,
          204,
          117,
          89,
          78,
          365,
          118,
          237,
          136,
          89,
          137,
          19,
          499,
          35,
          99,
          85,
          127,
          87,
          176,
          219,
          297,
          67,
          151,
          172,
          115,
          97,
          66,
          46,
          123,
          43,
          90,
          95,
          134,
          48,
          142,
          655,
          293,
          93,
          69,
          124,
          274,
          135,
          119,
          260,
          131,
          108,
          168,
          103,
          120,
          79,
          167,
          156,
          301,
          317,
          152,
          45,
          84,
          43,
          85,
          222,
          60,
          94,
          110,
          70,
          645,
          104,
          52,
          51,
          127,
          69,
          117,
          221,
          125,
          109,
          355,
          100,
          206,
          198,
          168,
          231,
          73,
          399,
          353,
          107,
          132,
          282,
          171,
          99,
          110,
          202,
          132,
          85,
          230,
          146,
          171,
          165,
          345,
          146,
          88,
          97,
          136,
          159,
          35,
          111,
          298,
          200,
          77,
          180,
          45,
          925,
          261,
          74,
          207,
          474,
          58,
          133,
          106,
          222,
          62,
          174,
          280,
          66,
          97,
          184,
          119,
          153,
          72,
          95,
          52,
          35,
          123,
          76,
          258,
          80,
          192,
          157,
          262,
          117,
          92,
          170,
          44,
          30,
          281,
          547,
          62,
          312,
          154,
          284,
          123,
          79,
          394,
          22,
          438,
          627,
          235,
          198,
          228,
          178,
          263,
          664,
          119,
          192,
          236,
          356,
          447,
          45,
          69,
          25,
          171,
          43,
          63,
          712,
          221,
          141,
          254,
          157,
          342,
          190,
          95,
          316,
          280,
          156,
          150,
          426,
          320,
          95,
          191,
          47,
          166,
          298,
          117,
          379,
          128,
          139,
          289,
          123,
          156,
          174,
          96,
          186,
          99,
          158,
          123,
          44,
          665,
          200,
          140,
          545,
          104,
          57,
          136,
          130,
          326,
          650,
          87,
          208,
          77,
          886,
          49,
          236,
          305,
          279,
          249,
          61,
          54,
          101,
          31,
          42,
          91,
          144,
          411,
          121,
          128,
          95,
          169,
          43,
          44,
          73,
          214,
          268,
          228,
          150,
          32,
          70,
          97,
          102,
          321,
          308,
          84,
          514,
          101,
          82,
          297,
          154,
          148,
          174,
          80,
          81,
          149,
          188,
          96,
          115,
          62,
          198,
          124,
          77,
          52,
          213,
          65,
          42,
          419,
          120,
          131,
          43,
          134,
          27,
          52,
          486,
          48,
          85,
          67,
          102,
          229,
          105,
          145,
          60,
          87,
          64,
          128,
          76,
          89,
          236,
          35,
          96,
          148,
          213,
          164,
          102,
          271,
          467,
          62,
          47,
          208,
          536,
          105,
          555,
          394,
          56,
          111,
          73,
          116,
          89,
          293,
          122,
          140,
          105,
          96,
          132,
          55,
          81,
          69,
          28,
          136,
          485,
          99,
          199,
          49,
          526,
          725,
          424,
          83,
          486,
          213,
          71,
          125,
          409,
          465,
          124,
          86,
          251,
          57,
          405,
          78,
          110,
          28,
          76,
          224,
          27,
          89,
          206,
          59,
          201,
          94,
          114,
          64,
          43,
          66,
          271,
          208,
          135,
          43,
          272,
          343,
          138,
          140,
          135,
          278,
          350,
          107,
          54,
          111,
          106,
          212,
          41,
          90,
          78,
          83,
          86,
          110,
          28,
          140,
          367,
          1076,
          106,
          135,
          83,
          46,
          73,
          33,
          23,
          260,
          390,
          74,
          141,
          51,
          88,
          105,
          64,
          142,
          177,
          271,
          408,
          52,
          451,
          36,
          208,
          253,
          196,
          158,
          214,
          82,
          265,
          556,
          234,
          573,
          142,
          313,
          67,
          50,
          306,
          124,
          72,
          296,
          169,
          92,
          239,
          270,
          50,
          93,
          82,
          161,
          90,
          18,
          117,
          68,
          61,
          115,
          219,
          721,
          78,
          320,
          119,
          127,
          286,
          254,
          126,
          146,
          80,
          55,
          108,
          395,
          254,
          278,
          50,
          120,
          198,
          67,
          169,
          220,
          690,
          99,
          48,
          137,
          184,
          90,
          741,
          404,
          90,
          98,
          307,
          154,
          190,
          128,
          189,
          81,
          111,
          406,
          103,
          147,
          43,
          64,
          849,
          133,
          355,
          49,
          215,
          82,
          59,
          165,
          132,
          7812,
          309,
          56,
          197,
          220,
          148,
          90,
          389,
          271,
          45,
          142,
          113,
          102,
          192,
          75,
          665,
          142,
          38,
          39,
          90,
          72,
          43,
          22,
          79,
          481,
          249,
          325,
          68,
          165,
          294,
          139,
          178,
          57,
          122,
          164,
          110,
          49,
          460,
          115,
          128,
          361,
          46,
          138,
          459,
          75,
          153,
          223,
          123,
          70,
          90,
          70,
          196,
          107,
          433,
          451,
          371,
          1268,
          357,
          193,
          71,
          162,
          43,
          221,
          122,
          81,
          43,
          197,
          74,
          90,
          119,
          72,
          139,
          166,
          194,
          134,
          115,
          65,
          299,
          284,
          245,
          164,
          89,
          125,
          104,
          49,
          61,
          105,
          78,
          177,
          123,
          42,
          139,
          62,
          170,
          721,
          70
         ]
        },
        {
         "name": "M_Value",
         "type": "box",
         "y": [
          4310,
          1757.55,
          1545.41,
          2811.43,
          6207.67,
          1168.06,
          6182.9800000000005,
          2662.06,
          5154.58,
          1313.1,
          3541.94,
          1887.96,
          4008.62,
          2720.56,
          1803.96,
          1839.31,
          2780.66,
          2998.28,
          2409.9,
          1635.6599999999999,
          3280.75,
          1708.1200000000001,
          2842.57,
          11056.93,
          123725.45,
          3578.8,
          806.27,
          1849.11,
          708.37,
          7877.2,
          3750.4,
          6348.89,
          5059.32,
          13375.87,
          4896.66,
          2906.85,
          5005.46,
          4067.29,
          8933.52,
          2466.86,
          3153.89,
          1917.78,
          1124.01,
          1303.63,
          1212.05,
          733.89,
          18705.52,
          6229.48,
          2837.73,
          7064.7699999999995,
          6546.58,
          13117.01,
          680.99,
          3281.63,
          5574.36,
          2327.13,
          4480.87,
          1298.66,
          5417.93,
          1139.3500000000001,
          4206.27,
          2089.68,
          3723.87,
          2443.65,
          2056.89,
          2582.51,
          1745.57,
          4485.72,
          1316.66,
          1922.28,
          1623.63,
          4106.82,
          3852.5,
          13309.039999999999,
          981.18,
          1141.5,
          3652.25,
          599.56,
          11990.960000000001,
          2101.39,
          3781.7400000000002,
          9114.94,
          4064.9900000000002,
          1004.72,
          1306.98,
          564.2,
          2753.36,
          7187.34,
          1893.95,
          3320.2200000000003,
          3683.13,
          3002.68,
          1032.58,
          2581.04,
          2057.99,
          3218.98,
          2291.19,
          3214.81,
          1339.41,
          13612.07,
          6388.35,
          4478.53,
          769.61,
          1270.88,
          2140.63,
          1689.18,
          5934.25,
          1174.58,
          1013.26,
          1755.38,
          1346.97,
          3669.92,
          3982.72,
          1152.06,
          3817.08,
          4863.88,
          3743.18,
          2986.15,
          610.52,
          1922.26,
          1331.39,
          17588.26,
          862.81,
          13677.59,
          12279.82,
          8221.09,
          2283.63,
          2863.08,
          4873.8099999999995,
          1247.61,
          939.02,
          4867.99,
          2220.84,
          6814.24,
          2616.32,
          9264.1,
          4241.63,
          848.55,
          4708.86,
          1053.49,
          608.1,
          5713.28,
          2628.98,
          725.07,
          1031.41,
          2609.1,
          3947.7,
          18793.41,
          9120.39,
          4196.01,
          28405.56,
          3868.2,
          4366.78,
          21024.01,
          4205.25,
          2791.59,
          1898.52,
          6989.63,
          1351.24,
          804.23,
          3868.7,
          2273.32,
          1603.87,
          532.8199999999999,
          6977.04,
          942.34,
          1468.1200000000001,
          1018.71,
          6748.4,
          2610.36,
          671.95,
          5583.62,
          2714.27,
          3845.63,
          1680.76,
          843.64,
          1010.29,
          1881.7,
          1280.9,
          2153.53,
          1548.07,
          3958.74,
          2218.02,
          1535.77,
          841.64,
          703.47,
          16293.1,
          2919.81,
          2128.83,
          3075.04,
          1662.3,
          2483.63,
          2921.15,
          1301.44,
          16389.74,
          694.05,
          2062.7000000000003,
          33462.81,
          606.28,
          2156.45,
          1012.9,
          1504.27,
          11581.8,
          862.44,
          2053.7,
          4143.02,
          1843,
          1042.07,
          1382.8400000000001,
          4734.26,
          3979.04,
          1841.03,
          769.8100000000001,
          1194.75,
          405.47,
          10930.26,
          1215.6200000000001,
          6854.51,
          902.22,
          1197.94,
          9765.07,
          5613.43,
          1296.6200000000001,
          4786.99,
          3365.43,
          3339.64,
          7272.75,
          2584.4,
          936.15,
          659.68,
          752.4399999999999,
          996.52,
          676.99,
          3079.1,
          1789.41,
          5684.61,
          1105.59,
          3713.14,
          728.02,
          12432.28,
          27964.48,
          3595.48,
          57322.13,
          8689.39,
          7741.47,
          1708.8600000000001,
          5886.12,
          28658.88,
          6336.29,
          1098.48,
          1524.07,
          766.84,
          1452.8700000000001,
          10510,
          2205.63,
          984.91,
          1125,
          3756.33,
          2056.29,
          1039.3,
          1740.63,
          2545.38,
          3557.96,
          962.39,
          5055.79,
          2385.8,
          3324.62,
          1676.06,
          971.76,
          1721.57,
          1371.25,
          1644.99,
          1021.48,
          791.33,
          1290.54,
          426.81,
          353.65,
          2742.82,
          5725.47,
          3957.78,
          1616.45,
          1539.69,
          1797.78,
          3384.09,
          9803.96,
          870.09,
          869.46,
          1199.65,
          5820.16,
          1095.42,
          779.33,
          2150.85,
          6083.04,
          2712.07,
          1328.35,
          680.83,
          1896.32,
          672.83,
          7436.93,
          2092.66,
          3717.67,
          4404.44,
          3127.7,
          5312.97,
          2709.12,
          2089.85,
          2000.86,
          1367.6100000000001,
          1456.79,
          1083.63,
          1555.32,
          593.51,
          5570.6900000000005,
          2140.07,
          10664.34,
          1475.2,
          787.85,
          7072.8,
          3617.57,
          3502.32,
          10736.48,
          2511.69,
          910.72,
          3085.4900000000002,
          992.5,
          2191.22,
          3312.25,
          3626.81,
          4122.28,
          797.96,
          2312.8,
          1325.29,
          27487.41,
          988.91,
          5845.44,
          1831.61,
          2601.55,
          1624.21,
          3550.7000000000003,
          1006.8,
          648.6899999999999,
          3794.4900000000002,
          3408.06,
          1104.23,
          3460.9900000000002,
          2043.7199999999998,
          2838.56,
          1007.35,
          1737.8200000000002,
          9537.92,
          1071.91,
          5656.75,
          2501.84,
          1441.53,
          1776.81,
          8910.61,
          1990.1200000000001,
          1146.96,
          1136.77,
          4282.88,
          2479.16,
          979.72,
          1785.16,
          1389.41,
          2109.07,
          3487.75,
          1071.73,
          3755.38,
          2218.61,
          5613.08,
          3444.39,
          621.09,
          678.16,
          916.12,
          3539.53,
          4098.88,
          594.52,
          1799.33,
          856.84,
          338.62,
          2088.94,
          732.0699999999999,
          6703.3,
          1658.3,
          2445.12,
          1976.12,
          1965.0800000000002,
          664.11,
          5026.85,
          693.32,
          675.51,
          1065.88,
          1585.46,
          652.4,
          1624.02,
          7792.36,
          1995.68,
          2114.68,
          1547.3600000000001,
          941.62,
          2597.52,
          1640.22,
          1809.34,
          1095.08,
          2707.33,
          2421.47,
          6162.31,
          2199.01,
          827.83,
          3119.44,
          1466.8700000000001,
          62690.54,
          2504.13,
          2248.63,
          2295.31,
          711.86,
          6228.71,
          1432.26,
          1041.68,
          2369.16,
          1809.81,
          1079.6599999999999,
          1016.14,
          2764.48,
          721.9,
          3079.27,
          1340.1499999999999,
          2101.39,
          5145.12,
          3190.55,
          1070.65,
          1519.42,
          16945.71,
          2771.87,
          2631.7,
          1122.63,
          25748.350000000002,
          360.01,
          908.86,
          2462.79,
          348.8,
          36352.87,
          3906.27,
          2588.39,
          1747.66,
          1353.41,
          4014.91,
          632,
          1698.94,
          2198.45,
          834.57,
          674.82,
          3385.62,
          847.61,
          1537.95,
          2651.46,
          1056.94,
          8025.0199999999995,
          1240,
          2187.31,
          1005.09,
          3192.54,
          3083.65,
          2751.25,
          6389.8,
          1786.79,
          3219.77,
          16989.52,
          1131.28,
          2538.75,
          781.3000000000001,
          1860.8600000000001,
          2588.12,
          2867.2,
          2347.05,
          2580.91,
          1682.08,
          839.14,
          4912.41,
          2427.32,
          728.56,
          3246.091,
          3515.68,
          1019.27,
          8956.92,
          2702.2200000000003,
          2438.19,
          1861.11,
          2590.46,
          7024.53,
          4098.8,
          847.54,
          3409.66,
          2274.14,
          1383.49,
          3865.26,
          2030.3300000000002,
          4582.64,
          2874.72,
          4328.46,
          1398.96,
          2358.84,
          14634.640000000001,
          2929.84,
          1428.02,
          3487.59,
          646.42,
          1290.01,
          5536.15,
          746.36,
          15477.34,
          8062.46,
          6141.099999999999,
          6135.38,
          10464.85,
          1168.92,
          1306.16,
          942.26,
          1002.9,
          4408.54,
          50415.49,
          4063.1,
          433.86,
          57120.909999999996,
          3092.9700000000003,
          1060.33,
          2688.48,
          5669.65,
          2774.17,
          1377.92,
          1382.74,
          2740.3,
          2720.63,
          1123.8600000000001,
          3580.13,
          4690.31,
          965.8800000000001,
          920.05,
          879.0300000000001,
          2949.57,
          113214.59,
          4615.64,
          2445.91,
          3108.06,
          1600.26,
          701.57,
          4640.77,
          2018.91,
          4604.31,
          4660.01,
          11216.75,
          663.5,
          2067.13,
          1900.89,
          2208.3,
          1000.23,
          1777.92,
          1839.3,
          1925.3600000000001,
          3427.85,
          1009.73,
          2184.2400000000002,
          3315.71,
          2043.93,
          754.12,
          3093.86,
          2323.5,
          890.34,
          2535.88,
          1677.48,
          1904.05,
          2879.7000000000003,
          3087.27,
          12650.08,
          2618.23,
          3928.8,
          3701.44,
          1910.01,
          4595.81,
          911.26,
          2307.4500000000003,
          3873.3,
          4819.33,
          1046.56,
          1284.06,
          50862.44,
          2855.35,
          1803.76,
          2995.72,
          2319.68,
          1611.59,
          2456.98,
          1530.75,
          4889.14,
          2539.46,
          454.86,
          1614.91,
          2151.08,
          882.58,
          2118.03,
          3717.35,
          9134.12,
          615.49,
          1247.69,
          1727.6,
          3172.04,
          999.72,
          4582.22,
          3444.11,
          2556.68,
          4039.98,
          1409.72,
          2111.08,
          2599.03,
          1908.25,
          573.45,
          761.3299999999999,
          5766.85,
          1937.25,
          1051.79,
          4263.64,
          3918.9,
          1209.3700000000001,
          2248.5,
          2357.6800000000003,
          1545.14,
          1544.62,
          1010.35,
          1163.23,
          885.8,
          3002.5099999999998,
          2103.06,
          1942.45,
          2272.4,
          461.19,
          1852.67,
          2022.81,
          1152.73,
          2362.84,
          1957.32,
          808.44,
          2310.18,
          3543.26,
          673.26,
          5772.49,
          1960.65,
          1352.88,
          1267.4099999999999,
          2076.89,
          1843.83,
          4105.07,
          7709.69,
          2862.11,
          1812.6200000000001,
          4025.6,
          2831.7400000000002,
          952.66,
          1453.35,
          2916.17,
          2004.3,
          2482.86,
          3953.9500000000003,
          757.37,
          859.27,
          2279.4900000000002,
          2174.18,
          4676.62,
          3073.77,
          2775.39,
          859.71,
          986.96,
          1577.39,
          1320.21,
          557.94,
          617.15,
          363.33,
          1740.6,
          866.24,
          11633.35,
          10981.1,
          1785.15,
          1765.76,
          866.8000000000001,
          2757.07,
          935.46,
          2952.34,
          2024.45,
          780.46,
          279489.02,
          1402.59,
          653.75,
          1926.65,
          1930.15,
          838.27,
          2456.53,
          741.37,
          1258.38,
          9165.04,
          1736.4,
          596.36,
          2543.2400000000002,
          26932.34,
          1201.51,
          5055.61,
          2114.33,
          2070.97,
          1217.27,
          2195.1,
          2462.94,
          3210.29,
          1493.96,
          1096.67,
          4911.14,
          599.48,
          2809.02,
          2660.1,
          867.38,
          1571.89,
          663.81,
          1122.3600000000001,
          655.58,
          1897.57,
          2686.34,
          9451.54,
          5807.6900000000005,
          1289.94,
          3899.1,
          1400.34,
          1088.53,
          1311.79,
          4965.38,
          738.96,
          1625.97,
          2423.07,
          10383.83,
          2195.58,
          679.4399999999999,
          745.06,
          1272.11,
          7792.51,
          4228.39,
          546.4,
          2152.8,
          2085.33,
          778.5,
          1127.71,
          2221.01,
          644.65,
          1698.35,
          1641.2,
          3295.76,
          2456.8,
          3189.81,
          7904.28,
          2836.69,
          2730.09,
          1290.53,
          1352.04,
          841.1999999999999,
          14197.45,
          2939.64,
          717.7,
          501.28000000000003,
          1448.72,
          1476.09,
          756.64,
          1237.8500000000001,
          11020.26,
          1366.38,
          1194.11,
          1414.99,
          2729.18,
          1025.44,
          3478.85,
          132458.73,
          841.52,
          1227.43,
          1610.15,
          1316.07,
          2362.96,
          964.6800000000001,
          1888.84,
          8117.42,
          5842.95,
          1066.57,
          7912.79,
          294.85,
          7006.58,
          1472.34,
          1097.98,
          1921.3700000000001,
          1641.76,
          6160.54,
          1259.43,
          1829.23,
          852.39,
          6680.81,
          1636.43,
          627.13,
          653.19,
          2541.53,
          4243.21,
          645.84,
          19638.59,
          7563.88,
          4940.66,
          1682.77,
          1383.3600000000001,
          693.95,
          302.1,
          2102.54,
          1325.82,
          294.25,
          54228.74,
          3135.98,
          760.59,
          1744.76,
          553.36,
          612.43,
          9623.35,
          1140.27,
          2420.84,
          4410.14,
          2298.93,
          1407.73,
          1567.48,
          3339.5099999999998,
          2760.56,
          1352.75,
          1550.13,
          1612.13,
          2199.31,
          11117.05,
          1419.54,
          3447.4,
          977.9300000000001,
          1387.99,
          1282.45,
          2350,
          6530.04,
          1194.73,
          5280.83,
          4684.24,
          961.49,
          1869.5,
          18573.68,
          824.58,
          1624.05,
          2186.2,
          4670.08,
          15802.14,
          7521.17,
          3861,
          656.44,
          1827.8,
          867.62,
          1661.44,
          5756.89,
          1758.92,
          1219.4,
          3376.96,
          2247.51,
          1412.32,
          1056.54,
          764.34,
          1685.57,
          1738.59,
          2515.84,
          6657.36,
          10327.11,
          740.78,
          915.3,
          1780.77,
          2298.2,
          2472.09,
          716.57,
          2239.9500000000003,
          2306.52,
          935.1,
          7803.7699999999995,
          4596.51,
          3610.31,
          3774.1,
          5007.72,
          59284.19,
          2663.48,
          1005.5,
          1836.69,
          2718.03,
          8235.65,
          1330.45,
          1867.69,
          2360.55,
          2213.11,
          1221.56,
          3631.8900000000003,
          1682.3600000000001,
          5927.86,
          1515.73,
          2183.54,
          1339.63,
          815.77,
          1046.74,
          3450.84,
          1336.43,
          774.9000000000001,
          3974.37,
          1386.58,
          1430.54,
          997.48,
          1067.75,
          3188.84,
          1411.21,
          971.22,
          1371.77,
          6945.0199999999995,
          511.88,
          454.48,
          1399.92,
          6393.52,
          3559.21,
          2564.5,
          1090.03,
          3090.85,
          1918.86,
          1280.58,
          12396.46,
          1131.56,
          5541.46,
          3497.14,
          972.08,
          900.53,
          14520.08,
          2907.45,
          1890.99,
          2574.65,
          719.47,
          2347.57,
          3935.15,
          1497.31,
          1972.39,
          1500.88,
          746.92,
          3542.51,
          4910.6,
          1643.96,
          575.63,
          4747.89,
          722.74,
          1319.69,
          758.29,
          4093.27,
          650.4300000000001,
          2533.42,
          921.37,
          3425.77,
          682.9100000000001,
          718.36,
          1767.53,
          761.74,
          6745.36,
          1083.63,
          1198.23,
          2422.64,
          1093.68,
          1568.39,
          10360.04,
          747.031,
          1524.4,
          1158.77,
          3224.53,
          2865.64,
          1180.4,
          3147.31,
          12336.74,
          1887.2,
          922.53,
          748.5,
          1552.01,
          2222.21,
          2635.4900000000002,
          2726.23,
          1744.02,
          3324.09,
          781.28,
          1333.68,
          946.36,
          2981.5,
          6423.6,
          2619.11,
          1529,
          2293.62,
          916.98,
          3200.73,
          1072.3600000000001,
          5028.42,
          598.73,
          471.40000000000003,
          2169.86,
          5159.06,
          1121.21,
          4788.77,
          775.96,
          1071.24,
          946.64,
          2448.8,
          2618.15,
          2318.88,
          1048.67,
          3245.47,
          51823.72,
          2593.94,
          2303.75,
          4821,
          933.26,
          1604.44,
          2663.6600000000003,
          696.89,
          1042.19,
          3848.55,
          5411.87,
          903.9,
          3641.07,
          1145.43,
          2171.32,
          1842.73,
          2100.6,
          1905.45,
          885.47,
          1649.3600000000001,
          1641.48,
          2076.3,
          954.09,
          33350.76,
          1020.74,
          3650.87,
          2969.12,
          15929.74,
          1427.57,
          965.16,
          2981.92,
          832.88,
          1769.7800000000002,
          3795.29,
          316.25,
          4330.67,
          437.83,
          396.48,
          1379.63,
          351.73,
          5126.34,
          1521.79,
          882.72,
          1228.88,
          1466.01,
          525.69,
          2461.85,
          1107.46,
          6102.26,
          955.24,
          1684.46,
          669.57,
          781.91,
          1632.4299999999998,
          4389.81,
          808.87,
          4199.85,
          3429.55,
          1054.73,
          2398.86,
          3408.48,
          1465.12,
          2759.93,
          1432.77,
          792.11,
          2736.92,
          1016.6800000000001,
          3074.42,
          12393.7,
          2735.37,
          578.71,
          1693.81,
          972.11,
          3352.96,
          1415.29,
          33366.25,
          637.58,
          689.6999999999999,
          1440.06,
          3450.2400000000002,
          851.01,
          719.81,
          53168.69,
          8690.03,
          1127.57,
          1074.81,
          1511.95,
          650.75,
          2140.2200000000003,
          1453.16,
          1153.62,
          1521.04,
          2173.53,
          1352,
          2799.42,
          981.51,
          1041.83,
          2005.63,
          1245.96,
          1842.14,
          1429.64,
          3204.1600000000003,
          1320.95,
          1660.8799999999999,
          854.66,
          6287.77,
          1880.22,
          3506.54,
          14305.66,
          2419.84,
          3741.98,
          1906.07,
          1824.23,
          2994.62,
          644.24,
          5311.08,
          802.53,
          3770.6,
          1822.97,
          1880.4199999999998,
          1406.57,
          10217.48,
          3991.94,
          6841.24,
          981.86,
          4913.32,
          1068.8700000000001,
          1821.52,
          757.63,
          664.26,
          2262.62,
          21086.3,
          681.19,
          3054.87,
          860.86,
          1096.32,
          858.41,
          3693.81,
          2590.31,
          3574.91,
          1352.3600000000001,
          1800.07,
          3665.62,
          2609.3,
          5203.51,
          728.54,
          5423.15,
          1398.69,
          1489.88,
          1531.51,
          812.68,
          2236.7400000000002,
          1328.55,
          5305.83,
          2755.56,
          3014.2200000000003,
          3820.27,
          1572.8,
          26626.8,
          1959.38,
          328.58,
          847.45,
          1415.65,
          1100.47,
          6675.71,
          2024.95,
          1460.3700000000001,
          3349.57,
          891.21,
          705.79,
          1540.42,
          800.67,
          479.91,
          1545.41,
          1301.91,
          965.47,
          2131.9,
          2935.8,
          1412.06,
          1482.06,
          4061.24,
          2079.68,
          2022.98,
          1026.99,
          33805.69,
          1863.76,
          1511.8,
          798.35,
          3640.67,
          609.3,
          1841.18,
          2158.18,
          3482.7400000000002,
          811.23,
          1383.7,
          1298.66,
          1595.96,
          625.42,
          747.82,
          1750.6200000000001,
          2494.46,
          648.26,
          1562.22,
          2965.69,
          918.33,
          874.59,
          1624.14,
          9295.67,
          11895.57,
          1244.59,
          1014.19,
          1388.81,
          4034.9,
          2266.25,
          641.55,
          3313.79,
          8257.04,
          816.51,
          3622.95,
          1285.22,
          4073.28,
          813.52,
          3038.67,
          5450.96,
          1187.66,
          2630.64,
          4379.65,
          2183.04,
          2878.15,
          1124.59,
          1676.47,
          1169.38,
          679.83,
          6654.26,
          1166.92,
          3789.52,
          8568.24,
          874.43,
          1344.88,
          4022.46,
          8093.59,
          1558.72,
          3013.83,
          1770.34,
          1028,
          65892.08,
          2940.53,
          1260.86,
          5040,
          5150.2699999999995,
          13946.130000000001,
          531.35,
          3029.87,
          2467.99,
          1651.03,
          3611.31,
          6827.88,
          3263.06,
          1753.72,
          4711.21,
          1358.74,
          1048.28,
          7041.69,
          2216.06,
          2166.88,
          1291.91,
          7157.1,
          6676.76,
          826.96,
          1515.9,
          1764.72,
          1463.23,
          772.84,
          1207.24,
          2749.9500000000003,
          5575.56,
          731.9,
          2242.61,
          1691.51,
          10436.05,
          2230.3,
          1520.1200000000001,
          1690.28,
          1175.3,
          1162.65,
          912.74,
          1652.18,
          6408.2,
          1446.95,
          3317.97,
          1106.53,
          3167.73,
          15357.78,
          1774.62,
          10183.82,
          797.3199999999999,
          2761.4900000000002,
          7066.31,
          2023.47,
          846.62,
          1491.43,
          450.41,
          742.43,
          489.49,
          436.68,
          1271.06,
          1706.88,
          3653.75,
          3020.65,
          928.76,
          1508.96,
          2508.87,
          621.6800000000001,
          562.41,
          1043.34,
          2592.25,
          6488.3,
          722.64,
          2748.6,
          1295.39,
          4554.87,
          530.08,
          1878.43,
          3049.88,
          1878.51,
          4345.5,
          1161.27,
          2085.08,
          507.05,
          2148.47,
          650.41,
          1809.05,
          1894.82,
          4370.59,
          5461.62,
          1616.8,
          1601.8600000000001,
          3989.57,
          1312.1399999999999,
          781.78,
          562.6800000000001,
          1838.6100000000001,
          8574.11,
          1258.08,
          835.86,
          734.5699999999999,
          1055.69,
          1036.58,
          1735.18,
          5589.83,
          3185.64,
          1353.83,
          3080.39,
          5116.13,
          1421.59,
          4531.34,
          2655.2200000000003,
          2385.48,
          1446.09,
          813.77,
          2003.85,
          2747.9900000000002,
          1550.8,
          2050.08,
          1991.01,
          1972.55,
          3802.81,
          1774.03,
          1088.2,
          992.6800000000001,
          937.92,
          971.74,
          1621.73,
          10362.48,
          865.9300000000001,
          739.72,
          806.9000000000001,
          2463.17,
          4892.240000000001,
          1139.73,
          10567.87,
          984.57,
          1679.64,
          1266.97,
          1534.73,
          3518.03,
          1707.21,
          2466.4,
          816.88,
          3755.65,
          1430.94,
          768.32,
          3286.9100000000003,
          2275.58,
          2093.68,
          1674.46,
          692.22,
          3560.08,
          2299.67,
          2741.08,
          974.12,
          1951.97,
          3187.55,
          334.48,
          939.32,
          1906.09,
          3078.22,
          916.13,
          3719.1,
          8491.75,
          381.97,
          271.19,
          296.58,
          2144.53,
          1685.46,
          1636.58,
          1049.06,
          1417.63,
          922.77,
          513.01,
          1854.06,
          656.61,
          1119.93,
          8600.73,
          2288.13,
          2514.76,
          6193.43,
          657.16,
          894.44,
          986.48,
          1897.51,
          6461.79,
          11891.18,
          519.6899999999999,
          2557.9,
          1156.6,
          1251.44,
          568.24,
          4437.23,
          4767.36,
          1315.72,
          418.4,
          1337.18,
          646.92,
          3883.32,
          389.71999999999997,
          20272.43,
          2686.42,
          746.81,
          31300.079999999998,
          7330.8,
          681.41,
          2097.84,
          2633.85,
          30300.82,
          967.22,
          1912.72,
          1214.72,
          748.94,
          1258.06,
          6838.34,
          4200.97,
          1853.1299999999999,
          759.17,
          5022.26,
          17078.45,
          2333.42,
          2210.2599999999998,
          2940.04,
          2503.21,
          187322.17,
          1648.95,
          316.5,
          657.3,
          735.82,
          1860.81,
          763.28,
          1843.06,
          1125.07,
          1249.34,
          1926.8799999999999,
          3541.92,
          689.1,
          2745.2799999999997,
          6069.24,
          88125.38,
          2920.04,
          764.88,
          1839.07,
          721.9599999999999,
          1070.71,
          652.74,
          706.7,
          3540.1,
          2367.12,
          887.67,
          642.32,
          909.96,
          1952.45,
          480.31,
          1107.38,
          869.77,
          4012.56,
          1425.67,
          3399.93,
          440.2,
          10716.31,
          1227.3,
          1116.68,
          2404.17,
          1468.02,
          2192.7200000000003,
          3908.08,
          386.69,
          2806.69,
          5002.22,
          1097.48,
          3924.77,
          1992.76,
          4494.77,
          930.28,
          843.48,
          2020.4,
          1784.12,
          1242.34,
          2358.59,
          2768.98,
          1789.55,
          3886.67,
          4737.13,
          1175.88,
          2571.7400000000002,
          1674.69,
          2954.75,
          1788.27,
          728.16,
          2055.51,
          3406.7200000000003,
          1284.08,
          3106.62,
          1588.07,
          20098.1,
          1366.77,
          16201.37,
          2459.33,
          3155.83,
          5739.46,
          4717.3,
          2201.05,
          2508.89,
          1719.72,
          798.74,
          1781.12,
          10097.37,
          5505.79,
          5367.8,
          1195.94,
          2380.64,
          3371.13,
          1042.55,
          2515.68,
          5288.83,
          13110.02,
          1863.35,
          2786.05,
          2291.08,
          1710.45,
          1632.31,
          5573.59,
          3408.2000000000003,
          819.96,
          2081.9,
          3920.08,
          1203.78,
          647.56,
          1817.54,
          1964.3,
          690,
          780.43,
          3009.32,
          1187.21,
          1251.84,
          546.04,
          4627.62,
          7601.8,
          699.81,
          1641.79,
          3661.0699999999997,
          1987.33,
          1599.97,
          342.24,
          1508.38,
          2267.4,
          39869.05,
          5303.4800000000005,
          26763.34,
          5140.66,
          2056.28,
          3160,
          554.85,
          10158.54,
          1860.94,
          1754.16,
          664.34,
          695.0699999999999,
          869.28,
          1118.96,
          329.36,
          4119.5,
          820.23,
          2894.33,
          1740.48,
          1331.57,
          380.13,
          4301.22,
          1897.18,
          52750.84,
          2276.78,
          1296.44,
          2599.19,
          1098.43,
          703.99,
          4388.06,
          712.51,
          1503.09,
          415.13,
          1477.66,
          612.72,
          418.68,
          713.89,
          4075.12,
          529.29,
          2085.65,
          6729.29,
          2119.41,
          2380.08,
          1994.39,
          3846.7400000000002,
          2538.7200000000003,
          2584.41,
          3613.15,
          680.84,
          9065.76,
          3017.3,
          849.06,
          2657.45,
          256438.49,
          7877.27,
          1403.1100000000001,
          5567.03,
          1793.06,
          1130.1,
          1045.74,
          8393.22,
          2888.75,
          2861.55,
          675.64,
          1612.79,
          1355.51,
          7490.17,
          1313.6200000000001,
          1793.17,
          1843.75,
          1998.49,
          686.63,
          5083.06,
          1960.95,
          2621.38,
          2019.77,
          1033.31,
          6315.2300000000005,
          5356.86,
          5192.1,
          7276.900000000001,
          2716.6000000000004,
          2054.67,
          1796.48,
          882.24,
          987.1,
          2058.09,
          2232.4900000000002,
          2507.56,
          2265.38,
          2338.6000000000004,
          2580.15,
          1211.08,
          3064.78,
          2045.53,
          1837.28
         ]
        }
       ],
       "layout": {
        "template": {
         "data": {
          "bar": [
           {
            "error_x": {
             "color": "#2a3f5f"
            },
            "error_y": {
             "color": "#2a3f5f"
            },
            "marker": {
             "line": {
              "color": "#E5ECF6",
              "width": 0.5
             },
             "pattern": {
              "fillmode": "overlay",
              "size": 10,
              "solidity": 0.2
             }
            },
            "type": "bar"
           }
          ],
          "barpolar": [
           {
            "marker": {
             "line": {
              "color": "#E5ECF6",
              "width": 0.5
             },
             "pattern": {
              "fillmode": "overlay",
              "size": 10,
              "solidity": 0.2
             }
            },
            "type": "barpolar"
           }
          ],
          "carpet": [
           {
            "aaxis": {
             "endlinecolor": "#2a3f5f",
             "gridcolor": "white",
             "linecolor": "white",
             "minorgridcolor": "white",
             "startlinecolor": "#2a3f5f"
            },
            "baxis": {
             "endlinecolor": "#2a3f5f",
             "gridcolor": "white",
             "linecolor": "white",
             "minorgridcolor": "white",
             "startlinecolor": "#2a3f5f"
            },
            "type": "carpet"
           }
          ],
          "choropleth": [
           {
            "colorbar": {
             "outlinewidth": 0,
             "ticks": ""
            },
            "type": "choropleth"
           }
          ],
          "contour": [
           {
            "colorbar": {
             "outlinewidth": 0,
             "ticks": ""
            },
            "colorscale": [
             [
              0,
              "#0d0887"
             ],
             [
              0.1111111111111111,
              "#46039f"
             ],
             [
              0.2222222222222222,
              "#7201a8"
             ],
             [
              0.3333333333333333,
              "#9c179e"
             ],
             [
              0.4444444444444444,
              "#bd3786"
             ],
             [
              0.5555555555555556,
              "#d8576b"
             ],
             [
              0.6666666666666666,
              "#ed7953"
             ],
             [
              0.7777777777777778,
              "#fb9f3a"
             ],
             [
              0.8888888888888888,
              "#fdca26"
             ],
             [
              1,
              "#f0f921"
             ]
            ],
            "type": "contour"
           }
          ],
          "contourcarpet": [
           {
            "colorbar": {
             "outlinewidth": 0,
             "ticks": ""
            },
            "type": "contourcarpet"
           }
          ],
          "heatmap": [
           {
            "colorbar": {
             "outlinewidth": 0,
             "ticks": ""
            },
            "colorscale": [
             [
              0,
              "#0d0887"
             ],
             [
              0.1111111111111111,
              "#46039f"
             ],
             [
              0.2222222222222222,
              "#7201a8"
             ],
             [
              0.3333333333333333,
              "#9c179e"
             ],
             [
              0.4444444444444444,
              "#bd3786"
             ],
             [
              0.5555555555555556,
              "#d8576b"
             ],
             [
              0.6666666666666666,
              "#ed7953"
             ],
             [
              0.7777777777777778,
              "#fb9f3a"
             ],
             [
              0.8888888888888888,
              "#fdca26"
             ],
             [
              1,
              "#f0f921"
             ]
            ],
            "type": "heatmap"
           }
          ],
          "heatmapgl": [
           {
            "colorbar": {
             "outlinewidth": 0,
             "ticks": ""
            },
            "colorscale": [
             [
              0,
              "#0d0887"
             ],
             [
              0.1111111111111111,
              "#46039f"
             ],
             [
              0.2222222222222222,
              "#7201a8"
             ],
             [
              0.3333333333333333,
              "#9c179e"
             ],
             [
              0.4444444444444444,
              "#bd3786"
             ],
             [
              0.5555555555555556,
              "#d8576b"
             ],
             [
              0.6666666666666666,
              "#ed7953"
             ],
             [
              0.7777777777777778,
              "#fb9f3a"
             ],
             [
              0.8888888888888888,
              "#fdca26"
             ],
             [
              1,
              "#f0f921"
             ]
            ],
            "type": "heatmapgl"
           }
          ],
          "histogram": [
           {
            "marker": {
             "pattern": {
              "fillmode": "overlay",
              "size": 10,
              "solidity": 0.2
             }
            },
            "type": "histogram"
           }
          ],
          "histogram2d": [
           {
            "colorbar": {
             "outlinewidth": 0,
             "ticks": ""
            },
            "colorscale": [
             [
              0,
              "#0d0887"
             ],
             [
              0.1111111111111111,
              "#46039f"
             ],
             [
              0.2222222222222222,
              "#7201a8"
             ],
             [
              0.3333333333333333,
              "#9c179e"
             ],
             [
              0.4444444444444444,
              "#bd3786"
             ],
             [
              0.5555555555555556,
              "#d8576b"
             ],
             [
              0.6666666666666666,
              "#ed7953"
             ],
             [
              0.7777777777777778,
              "#fb9f3a"
             ],
             [
              0.8888888888888888,
              "#fdca26"
             ],
             [
              1,
              "#f0f921"
             ]
            ],
            "type": "histogram2d"
           }
          ],
          "histogram2dcontour": [
           {
            "colorbar": {
             "outlinewidth": 0,
             "ticks": ""
            },
            "colorscale": [
             [
              0,
              "#0d0887"
             ],
             [
              0.1111111111111111,
              "#46039f"
             ],
             [
              0.2222222222222222,
              "#7201a8"
             ],
             [
              0.3333333333333333,
              "#9c179e"
             ],
             [
              0.4444444444444444,
              "#bd3786"
             ],
             [
              0.5555555555555556,
              "#d8576b"
             ],
             [
              0.6666666666666666,
              "#ed7953"
             ],
             [
              0.7777777777777778,
              "#fb9f3a"
             ],
             [
              0.8888888888888888,
              "#fdca26"
             ],
             [
              1,
              "#f0f921"
             ]
            ],
            "type": "histogram2dcontour"
           }
          ],
          "mesh3d": [
           {
            "colorbar": {
             "outlinewidth": 0,
             "ticks": ""
            },
            "type": "mesh3d"
           }
          ],
          "parcoords": [
           {
            "line": {
             "colorbar": {
              "outlinewidth": 0,
              "ticks": ""
             }
            },
            "type": "parcoords"
           }
          ],
          "pie": [
           {
            "automargin": true,
            "type": "pie"
           }
          ],
          "scatter": [
           {
            "fillpattern": {
             "fillmode": "overlay",
             "size": 10,
             "solidity": 0.2
            },
            "type": "scatter"
           }
          ],
          "scatter3d": [
           {
            "line": {
             "colorbar": {
              "outlinewidth": 0,
              "ticks": ""
             }
            },
            "marker": {
             "colorbar": {
              "outlinewidth": 0,
              "ticks": ""
             }
            },
            "type": "scatter3d"
           }
          ],
          "scattercarpet": [
           {
            "marker": {
             "colorbar": {
              "outlinewidth": 0,
              "ticks": ""
             }
            },
            "type": "scattercarpet"
           }
          ],
          "scattergeo": [
           {
            "marker": {
             "colorbar": {
              "outlinewidth": 0,
              "ticks": ""
             }
            },
            "type": "scattergeo"
           }
          ],
          "scattergl": [
           {
            "marker": {
             "colorbar": {
              "outlinewidth": 0,
              "ticks": ""
             }
            },
            "type": "scattergl"
           }
          ],
          "scattermapbox": [
           {
            "marker": {
             "colorbar": {
              "outlinewidth": 0,
              "ticks": ""
             }
            },
            "type": "scattermapbox"
           }
          ],
          "scatterpolar": [
           {
            "marker": {
             "colorbar": {
              "outlinewidth": 0,
              "ticks": ""
             }
            },
            "type": "scatterpolar"
           }
          ],
          "scatterpolargl": [
           {
            "marker": {
             "colorbar": {
              "outlinewidth": 0,
              "ticks": ""
             }
            },
            "type": "scatterpolargl"
           }
          ],
          "scatterternary": [
           {
            "marker": {
             "colorbar": {
              "outlinewidth": 0,
              "ticks": ""
             }
            },
            "type": "scatterternary"
           }
          ],
          "surface": [
           {
            "colorbar": {
             "outlinewidth": 0,
             "ticks": ""
            },
            "colorscale": [
             [
              0,
              "#0d0887"
             ],
             [
              0.1111111111111111,
              "#46039f"
             ],
             [
              0.2222222222222222,
              "#7201a8"
             ],
             [
              0.3333333333333333,
              "#9c179e"
             ],
             [
              0.4444444444444444,
              "#bd3786"
             ],
             [
              0.5555555555555556,
              "#d8576b"
             ],
             [
              0.6666666666666666,
              "#ed7953"
             ],
             [
              0.7777777777777778,
              "#fb9f3a"
             ],
             [
              0.8888888888888888,
              "#fdca26"
             ],
             [
              1,
              "#f0f921"
             ]
            ],
            "type": "surface"
           }
          ],
          "table": [
           {
            "cells": {
             "fill": {
              "color": "#EBF0F8"
             },
             "line": {
              "color": "white"
             }
            },
            "header": {
             "fill": {
              "color": "#C8D4E3"
             },
             "line": {
              "color": "white"
             }
            },
            "type": "table"
           }
          ]
         },
         "layout": {
          "annotationdefaults": {
           "arrowcolor": "#2a3f5f",
           "arrowhead": 0,
           "arrowwidth": 1
          },
          "autotypenumbers": "strict",
          "coloraxis": {
           "colorbar": {
            "outlinewidth": 0,
            "ticks": ""
           }
          },
          "colorscale": {
           "diverging": [
            [
             0,
             "#8e0152"
            ],
            [
             0.1,
             "#c51b7d"
            ],
            [
             0.2,
             "#de77ae"
            ],
            [
             0.3,
             "#f1b6da"
            ],
            [
             0.4,
             "#fde0ef"
            ],
            [
             0.5,
             "#f7f7f7"
            ],
            [
             0.6,
             "#e6f5d0"
            ],
            [
             0.7,
             "#b8e186"
            ],
            [
             0.8,
             "#7fbc41"
            ],
            [
             0.9,
             "#4d9221"
            ],
            [
             1,
             "#276419"
            ]
           ],
           "sequential": [
            [
             0,
             "#0d0887"
            ],
            [
             0.1111111111111111,
             "#46039f"
            ],
            [
             0.2222222222222222,
             "#7201a8"
            ],
            [
             0.3333333333333333,
             "#9c179e"
            ],
            [
             0.4444444444444444,
             "#bd3786"
            ],
            [
             0.5555555555555556,
             "#d8576b"
            ],
            [
             0.6666666666666666,
             "#ed7953"
            ],
            [
             0.7777777777777778,
             "#fb9f3a"
            ],
            [
             0.8888888888888888,
             "#fdca26"
            ],
            [
             1,
             "#f0f921"
            ]
           ],
           "sequentialminus": [
            [
             0,
             "#0d0887"
            ],
            [
             0.1111111111111111,
             "#46039f"
            ],
            [
             0.2222222222222222,
             "#7201a8"
            ],
            [
             0.3333333333333333,
             "#9c179e"
            ],
            [
             0.4444444444444444,
             "#bd3786"
            ],
            [
             0.5555555555555556,
             "#d8576b"
            ],
            [
             0.6666666666666666,
             "#ed7953"
            ],
            [
             0.7777777777777778,
             "#fb9f3a"
            ],
            [
             0.8888888888888888,
             "#fdca26"
            ],
            [
             1,
             "#f0f921"
            ]
           ]
          },
          "colorway": [
           "#636efa",
           "#EF553B",
           "#00cc96",
           "#ab63fa",
           "#FFA15A",
           "#19d3f3",
           "#FF6692",
           "#B6E880",
           "#FF97FF",
           "#FECB52"
          ],
          "font": {
           "color": "#2a3f5f"
          },
          "geo": {
           "bgcolor": "white",
           "lakecolor": "white",
           "landcolor": "#E5ECF6",
           "showlakes": true,
           "showland": true,
           "subunitcolor": "white"
          },
          "hoverlabel": {
           "align": "left"
          },
          "hovermode": "closest",
          "mapbox": {
           "style": "light"
          },
          "paper_bgcolor": "white",
          "plot_bgcolor": "#E5ECF6",
          "polar": {
           "angularaxis": {
            "gridcolor": "white",
            "linecolor": "white",
            "ticks": ""
           },
           "bgcolor": "#E5ECF6",
           "radialaxis": {
            "gridcolor": "white",
            "linecolor": "white",
            "ticks": ""
           }
          },
          "scene": {
           "xaxis": {
            "backgroundcolor": "#E5ECF6",
            "gridcolor": "white",
            "gridwidth": 2,
            "linecolor": "white",
            "showbackground": true,
            "ticks": "",
            "zerolinecolor": "white"
           },
           "yaxis": {
            "backgroundcolor": "#E5ECF6",
            "gridcolor": "white",
            "gridwidth": 2,
            "linecolor": "white",
            "showbackground": true,
            "ticks": "",
            "zerolinecolor": "white"
           },
           "zaxis": {
            "backgroundcolor": "#E5ECF6",
            "gridcolor": "white",
            "gridwidth": 2,
            "linecolor": "white",
            "showbackground": true,
            "ticks": "",
            "zerolinecolor": "white"
           }
          },
          "shapedefaults": {
           "line": {
            "color": "#2a3f5f"
           }
          },
          "ternary": {
           "aaxis": {
            "gridcolor": "white",
            "linecolor": "white",
            "ticks": ""
           },
           "baxis": {
            "gridcolor": "white",
            "linecolor": "white",
            "ticks": ""
           },
           "bgcolor": "#E5ECF6",
           "caxis": {
            "gridcolor": "white",
            "linecolor": "white",
            "ticks": ""
           }
          },
          "title": {
           "x": 0.05
          },
          "xaxis": {
           "automargin": true,
           "gridcolor": "white",
           "linecolor": "white",
           "ticks": "",
           "title": {
            "standoff": 15
           },
           "zerolinecolor": "white",
           "zerolinewidth": 2
          },
          "yaxis": {
           "automargin": true,
           "gridcolor": "white",
           "linecolor": "white",
           "ticks": "",
           "title": {
            "standoff": 15
           },
           "zerolinecolor": "white",
           "zerolinewidth": 2
          }
         }
        }
       }
      }
     },
     "metadata": {},
     "output_type": "display_data"
    }
   ],
   "source": [
    "fig=go.Figure()\n",
    "# Add box plots for Recency, Frequency, and Monetary Value\n",
    "fig.add_trace(go.Box(y=Loyal_segment['Recency'],name='Recency'))\n",
    "fig.add_trace(go.Box(y=Loyal_segment['Frequency'],name='Frequency'))\n",
    "fig.add_trace(go.Box(y=Loyal_segment['M_Value'],name='M_Value'))\n",
    "\n",
    "#might want to remove the outliers in the data and continue with the analysis"
   ]
  },
  {
   "cell_type": "code",
   "execution_count": 49,
   "metadata": {},
   "outputs": [],
   "source": [
    "#check correlation using a heatmap\n",
    "Correlation_matrix =Loyal_segment[['R','F','M']].corr()"
   ]
  },
  {
   "cell_type": "code",
   "execution_count": 50,
   "metadata": {},
   "outputs": [
    {
     "data": {
      "application/vnd.plotly.v1+json": {
       "config": {
        "plotlyServerURL": "https://plot.ly"
       },
       "data": [
        {
         "colorbar": {
          "title": {
           "text": "Correlation"
          }
         },
         "colorscale": [
          [
           0,
           "rgb(255,245,235)"
          ],
          [
           0.125,
           "rgb(254,230,206)"
          ],
          [
           0.25,
           "rgb(253,208,162)"
          ],
          [
           0.375,
           "rgb(253,174,107)"
          ],
          [
           0.5,
           "rgb(253,141,60)"
          ],
          [
           0.625,
           "rgb(241,105,19)"
          ],
          [
           0.75,
           "rgb(217,72,1)"
          ],
          [
           0.875,
           "rgb(166,54,3)"
          ],
          [
           1,
           "rgb(127,39,4)"
          ]
         ],
         "type": "heatmap",
         "x": [
          "R",
          "F",
          "M"
         ],
         "y": [
          "R",
          "F",
          "M"
         ],
         "z": [
          [
           1,
           -0.09605117888569022,
           -0.10012332020940667
          ],
          [
           -0.09605117888569022,
           1,
           0.3348682393973265
          ],
          [
           -0.10012332020940667,
           0.3348682393973265,
           1
          ]
         ]
        }
       ],
       "layout": {
        "template": {
         "data": {
          "bar": [
           {
            "error_x": {
             "color": "#2a3f5f"
            },
            "error_y": {
             "color": "#2a3f5f"
            },
            "marker": {
             "line": {
              "color": "#E5ECF6",
              "width": 0.5
             },
             "pattern": {
              "fillmode": "overlay",
              "size": 10,
              "solidity": 0.2
             }
            },
            "type": "bar"
           }
          ],
          "barpolar": [
           {
            "marker": {
             "line": {
              "color": "#E5ECF6",
              "width": 0.5
             },
             "pattern": {
              "fillmode": "overlay",
              "size": 10,
              "solidity": 0.2
             }
            },
            "type": "barpolar"
           }
          ],
          "carpet": [
           {
            "aaxis": {
             "endlinecolor": "#2a3f5f",
             "gridcolor": "white",
             "linecolor": "white",
             "minorgridcolor": "white",
             "startlinecolor": "#2a3f5f"
            },
            "baxis": {
             "endlinecolor": "#2a3f5f",
             "gridcolor": "white",
             "linecolor": "white",
             "minorgridcolor": "white",
             "startlinecolor": "#2a3f5f"
            },
            "type": "carpet"
           }
          ],
          "choropleth": [
           {
            "colorbar": {
             "outlinewidth": 0,
             "ticks": ""
            },
            "type": "choropleth"
           }
          ],
          "contour": [
           {
            "colorbar": {
             "outlinewidth": 0,
             "ticks": ""
            },
            "colorscale": [
             [
              0,
              "#0d0887"
             ],
             [
              0.1111111111111111,
              "#46039f"
             ],
             [
              0.2222222222222222,
              "#7201a8"
             ],
             [
              0.3333333333333333,
              "#9c179e"
             ],
             [
              0.4444444444444444,
              "#bd3786"
             ],
             [
              0.5555555555555556,
              "#d8576b"
             ],
             [
              0.6666666666666666,
              "#ed7953"
             ],
             [
              0.7777777777777778,
              "#fb9f3a"
             ],
             [
              0.8888888888888888,
              "#fdca26"
             ],
             [
              1,
              "#f0f921"
             ]
            ],
            "type": "contour"
           }
          ],
          "contourcarpet": [
           {
            "colorbar": {
             "outlinewidth": 0,
             "ticks": ""
            },
            "type": "contourcarpet"
           }
          ],
          "heatmap": [
           {
            "colorbar": {
             "outlinewidth": 0,
             "ticks": ""
            },
            "colorscale": [
             [
              0,
              "#0d0887"
             ],
             [
              0.1111111111111111,
              "#46039f"
             ],
             [
              0.2222222222222222,
              "#7201a8"
             ],
             [
              0.3333333333333333,
              "#9c179e"
             ],
             [
              0.4444444444444444,
              "#bd3786"
             ],
             [
              0.5555555555555556,
              "#d8576b"
             ],
             [
              0.6666666666666666,
              "#ed7953"
             ],
             [
              0.7777777777777778,
              "#fb9f3a"
             ],
             [
              0.8888888888888888,
              "#fdca26"
             ],
             [
              1,
              "#f0f921"
             ]
            ],
            "type": "heatmap"
           }
          ],
          "heatmapgl": [
           {
            "colorbar": {
             "outlinewidth": 0,
             "ticks": ""
            },
            "colorscale": [
             [
              0,
              "#0d0887"
             ],
             [
              0.1111111111111111,
              "#46039f"
             ],
             [
              0.2222222222222222,
              "#7201a8"
             ],
             [
              0.3333333333333333,
              "#9c179e"
             ],
             [
              0.4444444444444444,
              "#bd3786"
             ],
             [
              0.5555555555555556,
              "#d8576b"
             ],
             [
              0.6666666666666666,
              "#ed7953"
             ],
             [
              0.7777777777777778,
              "#fb9f3a"
             ],
             [
              0.8888888888888888,
              "#fdca26"
             ],
             [
              1,
              "#f0f921"
             ]
            ],
            "type": "heatmapgl"
           }
          ],
          "histogram": [
           {
            "marker": {
             "pattern": {
              "fillmode": "overlay",
              "size": 10,
              "solidity": 0.2
             }
            },
            "type": "histogram"
           }
          ],
          "histogram2d": [
           {
            "colorbar": {
             "outlinewidth": 0,
             "ticks": ""
            },
            "colorscale": [
             [
              0,
              "#0d0887"
             ],
             [
              0.1111111111111111,
              "#46039f"
             ],
             [
              0.2222222222222222,
              "#7201a8"
             ],
             [
              0.3333333333333333,
              "#9c179e"
             ],
             [
              0.4444444444444444,
              "#bd3786"
             ],
             [
              0.5555555555555556,
              "#d8576b"
             ],
             [
              0.6666666666666666,
              "#ed7953"
             ],
             [
              0.7777777777777778,
              "#fb9f3a"
             ],
             [
              0.8888888888888888,
              "#fdca26"
             ],
             [
              1,
              "#f0f921"
             ]
            ],
            "type": "histogram2d"
           }
          ],
          "histogram2dcontour": [
           {
            "colorbar": {
             "outlinewidth": 0,
             "ticks": ""
            },
            "colorscale": [
             [
              0,
              "#0d0887"
             ],
             [
              0.1111111111111111,
              "#46039f"
             ],
             [
              0.2222222222222222,
              "#7201a8"
             ],
             [
              0.3333333333333333,
              "#9c179e"
             ],
             [
              0.4444444444444444,
              "#bd3786"
             ],
             [
              0.5555555555555556,
              "#d8576b"
             ],
             [
              0.6666666666666666,
              "#ed7953"
             ],
             [
              0.7777777777777778,
              "#fb9f3a"
             ],
             [
              0.8888888888888888,
              "#fdca26"
             ],
             [
              1,
              "#f0f921"
             ]
            ],
            "type": "histogram2dcontour"
           }
          ],
          "mesh3d": [
           {
            "colorbar": {
             "outlinewidth": 0,
             "ticks": ""
            },
            "type": "mesh3d"
           }
          ],
          "parcoords": [
           {
            "line": {
             "colorbar": {
              "outlinewidth": 0,
              "ticks": ""
             }
            },
            "type": "parcoords"
           }
          ],
          "pie": [
           {
            "automargin": true,
            "type": "pie"
           }
          ],
          "scatter": [
           {
            "fillpattern": {
             "fillmode": "overlay",
             "size": 10,
             "solidity": 0.2
            },
            "type": "scatter"
           }
          ],
          "scatter3d": [
           {
            "line": {
             "colorbar": {
              "outlinewidth": 0,
              "ticks": ""
             }
            },
            "marker": {
             "colorbar": {
              "outlinewidth": 0,
              "ticks": ""
             }
            },
            "type": "scatter3d"
           }
          ],
          "scattercarpet": [
           {
            "marker": {
             "colorbar": {
              "outlinewidth": 0,
              "ticks": ""
             }
            },
            "type": "scattercarpet"
           }
          ],
          "scattergeo": [
           {
            "marker": {
             "colorbar": {
              "outlinewidth": 0,
              "ticks": ""
             }
            },
            "type": "scattergeo"
           }
          ],
          "scattergl": [
           {
            "marker": {
             "colorbar": {
              "outlinewidth": 0,
              "ticks": ""
             }
            },
            "type": "scattergl"
           }
          ],
          "scattermapbox": [
           {
            "marker": {
             "colorbar": {
              "outlinewidth": 0,
              "ticks": ""
             }
            },
            "type": "scattermapbox"
           }
          ],
          "scatterpolar": [
           {
            "marker": {
             "colorbar": {
              "outlinewidth": 0,
              "ticks": ""
             }
            },
            "type": "scatterpolar"
           }
          ],
          "scatterpolargl": [
           {
            "marker": {
             "colorbar": {
              "outlinewidth": 0,
              "ticks": ""
             }
            },
            "type": "scatterpolargl"
           }
          ],
          "scatterternary": [
           {
            "marker": {
             "colorbar": {
              "outlinewidth": 0,
              "ticks": ""
             }
            },
            "type": "scatterternary"
           }
          ],
          "surface": [
           {
            "colorbar": {
             "outlinewidth": 0,
             "ticks": ""
            },
            "colorscale": [
             [
              0,
              "#0d0887"
             ],
             [
              0.1111111111111111,
              "#46039f"
             ],
             [
              0.2222222222222222,
              "#7201a8"
             ],
             [
              0.3333333333333333,
              "#9c179e"
             ],
             [
              0.4444444444444444,
              "#bd3786"
             ],
             [
              0.5555555555555556,
              "#d8576b"
             ],
             [
              0.6666666666666666,
              "#ed7953"
             ],
             [
              0.7777777777777778,
              "#fb9f3a"
             ],
             [
              0.8888888888888888,
              "#fdca26"
             ],
             [
              1,
              "#f0f921"
             ]
            ],
            "type": "surface"
           }
          ],
          "table": [
           {
            "cells": {
             "fill": {
              "color": "#EBF0F8"
             },
             "line": {
              "color": "white"
             }
            },
            "header": {
             "fill": {
              "color": "#C8D4E3"
             },
             "line": {
              "color": "white"
             }
            },
            "type": "table"
           }
          ]
         },
         "layout": {
          "annotationdefaults": {
           "arrowcolor": "#2a3f5f",
           "arrowhead": 0,
           "arrowwidth": 1
          },
          "autotypenumbers": "strict",
          "coloraxis": {
           "colorbar": {
            "outlinewidth": 0,
            "ticks": ""
           }
          },
          "colorscale": {
           "diverging": [
            [
             0,
             "#8e0152"
            ],
            [
             0.1,
             "#c51b7d"
            ],
            [
             0.2,
             "#de77ae"
            ],
            [
             0.3,
             "#f1b6da"
            ],
            [
             0.4,
             "#fde0ef"
            ],
            [
             0.5,
             "#f7f7f7"
            ],
            [
             0.6,
             "#e6f5d0"
            ],
            [
             0.7,
             "#b8e186"
            ],
            [
             0.8,
             "#7fbc41"
            ],
            [
             0.9,
             "#4d9221"
            ],
            [
             1,
             "#276419"
            ]
           ],
           "sequential": [
            [
             0,
             "#0d0887"
            ],
            [
             0.1111111111111111,
             "#46039f"
            ],
            [
             0.2222222222222222,
             "#7201a8"
            ],
            [
             0.3333333333333333,
             "#9c179e"
            ],
            [
             0.4444444444444444,
             "#bd3786"
            ],
            [
             0.5555555555555556,
             "#d8576b"
            ],
            [
             0.6666666666666666,
             "#ed7953"
            ],
            [
             0.7777777777777778,
             "#fb9f3a"
            ],
            [
             0.8888888888888888,
             "#fdca26"
            ],
            [
             1,
             "#f0f921"
            ]
           ],
           "sequentialminus": [
            [
             0,
             "#0d0887"
            ],
            [
             0.1111111111111111,
             "#46039f"
            ],
            [
             0.2222222222222222,
             "#7201a8"
            ],
            [
             0.3333333333333333,
             "#9c179e"
            ],
            [
             0.4444444444444444,
             "#bd3786"
            ],
            [
             0.5555555555555556,
             "#d8576b"
            ],
            [
             0.6666666666666666,
             "#ed7953"
            ],
            [
             0.7777777777777778,
             "#fb9f3a"
            ],
            [
             0.8888888888888888,
             "#fdca26"
            ],
            [
             1,
             "#f0f921"
            ]
           ]
          },
          "colorway": [
           "#636efa",
           "#EF553B",
           "#00cc96",
           "#ab63fa",
           "#FFA15A",
           "#19d3f3",
           "#FF6692",
           "#B6E880",
           "#FF97FF",
           "#FECB52"
          ],
          "font": {
           "color": "#2a3f5f"
          },
          "geo": {
           "bgcolor": "white",
           "lakecolor": "white",
           "landcolor": "#E5ECF6",
           "showlakes": true,
           "showland": true,
           "subunitcolor": "white"
          },
          "hoverlabel": {
           "align": "left"
          },
          "hovermode": "closest",
          "mapbox": {
           "style": "light"
          },
          "paper_bgcolor": "white",
          "plot_bgcolor": "#E5ECF6",
          "polar": {
           "angularaxis": {
            "gridcolor": "white",
            "linecolor": "white",
            "ticks": ""
           },
           "bgcolor": "#E5ECF6",
           "radialaxis": {
            "gridcolor": "white",
            "linecolor": "white",
            "ticks": ""
           }
          },
          "scene": {
           "xaxis": {
            "backgroundcolor": "#E5ECF6",
            "gridcolor": "white",
            "gridwidth": 2,
            "linecolor": "white",
            "showbackground": true,
            "ticks": "",
            "zerolinecolor": "white"
           },
           "yaxis": {
            "backgroundcolor": "#E5ECF6",
            "gridcolor": "white",
            "gridwidth": 2,
            "linecolor": "white",
            "showbackground": true,
            "ticks": "",
            "zerolinecolor": "white"
           },
           "zaxis": {
            "backgroundcolor": "#E5ECF6",
            "gridcolor": "white",
            "gridwidth": 2,
            "linecolor": "white",
            "showbackground": true,
            "ticks": "",
            "zerolinecolor": "white"
           }
          },
          "shapedefaults": {
           "line": {
            "color": "#2a3f5f"
           }
          },
          "ternary": {
           "aaxis": {
            "gridcolor": "white",
            "linecolor": "white",
            "ticks": ""
           },
           "baxis": {
            "gridcolor": "white",
            "linecolor": "white",
            "ticks": ""
           },
           "bgcolor": "#E5ECF6",
           "caxis": {
            "gridcolor": "white",
            "linecolor": "white",
            "ticks": ""
           }
          },
          "title": {
           "x": 0.05
          },
          "xaxis": {
           "automargin": true,
           "gridcolor": "white",
           "linecolor": "white",
           "ticks": "",
           "title": {
            "standoff": 15
           },
           "zerolinecolor": "white",
           "zerolinewidth": 2
          },
          "yaxis": {
           "automargin": true,
           "gridcolor": "white",
           "linecolor": "white",
           "ticks": "",
           "title": {
            "standoff": 15
           },
           "zerolinecolor": "white",
           "zerolinewidth": 2
          }
         }
        },
        "title": {
         "text": "Correlation Matrix of RFM Values within Platinum Segment"
        }
       }
      }
     },
     "metadata": {},
     "output_type": "display_data"
    }
   ],
   "source": [
    "# Create the heatmap\n",
    "fig_heatmap=go.Figure(data=go.Heatmap(\n",
    "                z=Correlation_matrix.values,\n",
    "                x=Correlation_matrix.columns,\n",
    "                y=Correlation_matrix.columns,\n",
    "                colorscale='Oranges',\n",
    "                colorbar=dict(title='Correlation')\n",
    "))\n",
    "# Update layout with a title\n",
    "fig_heatmap.update_layout(title='Correlation Matrix of RFM Values within Platinum Segment')\n",
    "\n",
    "#Display the heatmap\n",
    "fig_heatmap.show()"
   ]
  },
  {
   "cell_type": "code",
   "execution_count": 51,
   "metadata": {},
   "outputs": [
    {
     "data": {
      "application/vnd.plotly.v1+json": {
       "config": {
        "plotlyServerURL": "https://plot.ly"
       },
       "data": [
        {
         "marker": {
          "color": [
           "rgb(102,194,165)",
           "rgb(252,141,98)",
           "rgb(141,160,203)",
           "rgb(150,200,215)",
           "rgb(166,216,84)"
          ],
          "line": {
           "color": "rgb(8,48,90)",
           "width": 1
          }
         },
         "opacity": 0.5,
         "type": "bar",
         "x": [
          "Critical",
          "Dormant",
          "Inactive",
          "Loyal",
          "Potential Loyal"
         ],
         "y": [
          390,
          515,
          393,
          1699,
          1375
         ]
        }
       ],
       "layout": {
        "showlegend": false,
        "template": {
         "data": {
          "bar": [
           {
            "error_x": {
             "color": "#2a3f5f"
            },
            "error_y": {
             "color": "#2a3f5f"
            },
            "marker": {
             "line": {
              "color": "#E5ECF6",
              "width": 0.5
             },
             "pattern": {
              "fillmode": "overlay",
              "size": 10,
              "solidity": 0.2
             }
            },
            "type": "bar"
           }
          ],
          "barpolar": [
           {
            "marker": {
             "line": {
              "color": "#E5ECF6",
              "width": 0.5
             },
             "pattern": {
              "fillmode": "overlay",
              "size": 10,
              "solidity": 0.2
             }
            },
            "type": "barpolar"
           }
          ],
          "carpet": [
           {
            "aaxis": {
             "endlinecolor": "#2a3f5f",
             "gridcolor": "white",
             "linecolor": "white",
             "minorgridcolor": "white",
             "startlinecolor": "#2a3f5f"
            },
            "baxis": {
             "endlinecolor": "#2a3f5f",
             "gridcolor": "white",
             "linecolor": "white",
             "minorgridcolor": "white",
             "startlinecolor": "#2a3f5f"
            },
            "type": "carpet"
           }
          ],
          "choropleth": [
           {
            "colorbar": {
             "outlinewidth": 0,
             "ticks": ""
            },
            "type": "choropleth"
           }
          ],
          "contour": [
           {
            "colorbar": {
             "outlinewidth": 0,
             "ticks": ""
            },
            "colorscale": [
             [
              0,
              "#0d0887"
             ],
             [
              0.1111111111111111,
              "#46039f"
             ],
             [
              0.2222222222222222,
              "#7201a8"
             ],
             [
              0.3333333333333333,
              "#9c179e"
             ],
             [
              0.4444444444444444,
              "#bd3786"
             ],
             [
              0.5555555555555556,
              "#d8576b"
             ],
             [
              0.6666666666666666,
              "#ed7953"
             ],
             [
              0.7777777777777778,
              "#fb9f3a"
             ],
             [
              0.8888888888888888,
              "#fdca26"
             ],
             [
              1,
              "#f0f921"
             ]
            ],
            "type": "contour"
           }
          ],
          "contourcarpet": [
           {
            "colorbar": {
             "outlinewidth": 0,
             "ticks": ""
            },
            "type": "contourcarpet"
           }
          ],
          "heatmap": [
           {
            "colorbar": {
             "outlinewidth": 0,
             "ticks": ""
            },
            "colorscale": [
             [
              0,
              "#0d0887"
             ],
             [
              0.1111111111111111,
              "#46039f"
             ],
             [
              0.2222222222222222,
              "#7201a8"
             ],
             [
              0.3333333333333333,
              "#9c179e"
             ],
             [
              0.4444444444444444,
              "#bd3786"
             ],
             [
              0.5555555555555556,
              "#d8576b"
             ],
             [
              0.6666666666666666,
              "#ed7953"
             ],
             [
              0.7777777777777778,
              "#fb9f3a"
             ],
             [
              0.8888888888888888,
              "#fdca26"
             ],
             [
              1,
              "#f0f921"
             ]
            ],
            "type": "heatmap"
           }
          ],
          "heatmapgl": [
           {
            "colorbar": {
             "outlinewidth": 0,
             "ticks": ""
            },
            "colorscale": [
             [
              0,
              "#0d0887"
             ],
             [
              0.1111111111111111,
              "#46039f"
             ],
             [
              0.2222222222222222,
              "#7201a8"
             ],
             [
              0.3333333333333333,
              "#9c179e"
             ],
             [
              0.4444444444444444,
              "#bd3786"
             ],
             [
              0.5555555555555556,
              "#d8576b"
             ],
             [
              0.6666666666666666,
              "#ed7953"
             ],
             [
              0.7777777777777778,
              "#fb9f3a"
             ],
             [
              0.8888888888888888,
              "#fdca26"
             ],
             [
              1,
              "#f0f921"
             ]
            ],
            "type": "heatmapgl"
           }
          ],
          "histogram": [
           {
            "marker": {
             "pattern": {
              "fillmode": "overlay",
              "size": 10,
              "solidity": 0.2
             }
            },
            "type": "histogram"
           }
          ],
          "histogram2d": [
           {
            "colorbar": {
             "outlinewidth": 0,
             "ticks": ""
            },
            "colorscale": [
             [
              0,
              "#0d0887"
             ],
             [
              0.1111111111111111,
              "#46039f"
             ],
             [
              0.2222222222222222,
              "#7201a8"
             ],
             [
              0.3333333333333333,
              "#9c179e"
             ],
             [
              0.4444444444444444,
              "#bd3786"
             ],
             [
              0.5555555555555556,
              "#d8576b"
             ],
             [
              0.6666666666666666,
              "#ed7953"
             ],
             [
              0.7777777777777778,
              "#fb9f3a"
             ],
             [
              0.8888888888888888,
              "#fdca26"
             ],
             [
              1,
              "#f0f921"
             ]
            ],
            "type": "histogram2d"
           }
          ],
          "histogram2dcontour": [
           {
            "colorbar": {
             "outlinewidth": 0,
             "ticks": ""
            },
            "colorscale": [
             [
              0,
              "#0d0887"
             ],
             [
              0.1111111111111111,
              "#46039f"
             ],
             [
              0.2222222222222222,
              "#7201a8"
             ],
             [
              0.3333333333333333,
              "#9c179e"
             ],
             [
              0.4444444444444444,
              "#bd3786"
             ],
             [
              0.5555555555555556,
              "#d8576b"
             ],
             [
              0.6666666666666666,
              "#ed7953"
             ],
             [
              0.7777777777777778,
              "#fb9f3a"
             ],
             [
              0.8888888888888888,
              "#fdca26"
             ],
             [
              1,
              "#f0f921"
             ]
            ],
            "type": "histogram2dcontour"
           }
          ],
          "mesh3d": [
           {
            "colorbar": {
             "outlinewidth": 0,
             "ticks": ""
            },
            "type": "mesh3d"
           }
          ],
          "parcoords": [
           {
            "line": {
             "colorbar": {
              "outlinewidth": 0,
              "ticks": ""
             }
            },
            "type": "parcoords"
           }
          ],
          "pie": [
           {
            "automargin": true,
            "type": "pie"
           }
          ],
          "scatter": [
           {
            "fillpattern": {
             "fillmode": "overlay",
             "size": 10,
             "solidity": 0.2
            },
            "type": "scatter"
           }
          ],
          "scatter3d": [
           {
            "line": {
             "colorbar": {
              "outlinewidth": 0,
              "ticks": ""
             }
            },
            "marker": {
             "colorbar": {
              "outlinewidth": 0,
              "ticks": ""
             }
            },
            "type": "scatter3d"
           }
          ],
          "scattercarpet": [
           {
            "marker": {
             "colorbar": {
              "outlinewidth": 0,
              "ticks": ""
             }
            },
            "type": "scattercarpet"
           }
          ],
          "scattergeo": [
           {
            "marker": {
             "colorbar": {
              "outlinewidth": 0,
              "ticks": ""
             }
            },
            "type": "scattergeo"
           }
          ],
          "scattergl": [
           {
            "marker": {
             "colorbar": {
              "outlinewidth": 0,
              "ticks": ""
             }
            },
            "type": "scattergl"
           }
          ],
          "scattermapbox": [
           {
            "marker": {
             "colorbar": {
              "outlinewidth": 0,
              "ticks": ""
             }
            },
            "type": "scattermapbox"
           }
          ],
          "scatterpolar": [
           {
            "marker": {
             "colorbar": {
              "outlinewidth": 0,
              "ticks": ""
             }
            },
            "type": "scatterpolar"
           }
          ],
          "scatterpolargl": [
           {
            "marker": {
             "colorbar": {
              "outlinewidth": 0,
              "ticks": ""
             }
            },
            "type": "scatterpolargl"
           }
          ],
          "scatterternary": [
           {
            "marker": {
             "colorbar": {
              "outlinewidth": 0,
              "ticks": ""
             }
            },
            "type": "scatterternary"
           }
          ],
          "surface": [
           {
            "colorbar": {
             "outlinewidth": 0,
             "ticks": ""
            },
            "colorscale": [
             [
              0,
              "#0d0887"
             ],
             [
              0.1111111111111111,
              "#46039f"
             ],
             [
              0.2222222222222222,
              "#7201a8"
             ],
             [
              0.3333333333333333,
              "#9c179e"
             ],
             [
              0.4444444444444444,
              "#bd3786"
             ],
             [
              0.5555555555555556,
              "#d8576b"
             ],
             [
              0.6666666666666666,
              "#ed7953"
             ],
             [
              0.7777777777777778,
              "#fb9f3a"
             ],
             [
              0.8888888888888888,
              "#fdca26"
             ],
             [
              1,
              "#f0f921"
             ]
            ],
            "type": "surface"
           }
          ],
          "table": [
           {
            "cells": {
             "fill": {
              "color": "#EBF0F8"
             },
             "line": {
              "color": "white"
             }
            },
            "header": {
             "fill": {
              "color": "#C8D4E3"
             },
             "line": {
              "color": "white"
             }
            },
            "type": "table"
           }
          ]
         },
         "layout": {
          "annotationdefaults": {
           "arrowcolor": "#2a3f5f",
           "arrowhead": 0,
           "arrowwidth": 1
          },
          "autotypenumbers": "strict",
          "coloraxis": {
           "colorbar": {
            "outlinewidth": 0,
            "ticks": ""
           }
          },
          "colorscale": {
           "diverging": [
            [
             0,
             "#8e0152"
            ],
            [
             0.1,
             "#c51b7d"
            ],
            [
             0.2,
             "#de77ae"
            ],
            [
             0.3,
             "#f1b6da"
            ],
            [
             0.4,
             "#fde0ef"
            ],
            [
             0.5,
             "#f7f7f7"
            ],
            [
             0.6,
             "#e6f5d0"
            ],
            [
             0.7,
             "#b8e186"
            ],
            [
             0.8,
             "#7fbc41"
            ],
            [
             0.9,
             "#4d9221"
            ],
            [
             1,
             "#276419"
            ]
           ],
           "sequential": [
            [
             0,
             "#0d0887"
            ],
            [
             0.1111111111111111,
             "#46039f"
            ],
            [
             0.2222222222222222,
             "#7201a8"
            ],
            [
             0.3333333333333333,
             "#9c179e"
            ],
            [
             0.4444444444444444,
             "#bd3786"
            ],
            [
             0.5555555555555556,
             "#d8576b"
            ],
            [
             0.6666666666666666,
             "#ed7953"
            ],
            [
             0.7777777777777778,
             "#fb9f3a"
            ],
            [
             0.8888888888888888,
             "#fdca26"
            ],
            [
             1,
             "#f0f921"
            ]
           ],
           "sequentialminus": [
            [
             0,
             "#0d0887"
            ],
            [
             0.1111111111111111,
             "#46039f"
            ],
            [
             0.2222222222222222,
             "#7201a8"
            ],
            [
             0.3333333333333333,
             "#9c179e"
            ],
            [
             0.4444444444444444,
             "#bd3786"
            ],
            [
             0.5555555555555556,
             "#d8576b"
            ],
            [
             0.6666666666666666,
             "#ed7953"
            ],
            [
             0.7777777777777778,
             "#fb9f3a"
            ],
            [
             0.8888888888888888,
             "#fdca26"
            ],
            [
             1,
             "#f0f921"
            ]
           ]
          },
          "colorway": [
           "#636efa",
           "#EF553B",
           "#00cc96",
           "#ab63fa",
           "#FFA15A",
           "#19d3f3",
           "#FF6692",
           "#B6E880",
           "#FF97FF",
           "#FECB52"
          ],
          "font": {
           "color": "#2a3f5f"
          },
          "geo": {
           "bgcolor": "white",
           "lakecolor": "white",
           "landcolor": "#E5ECF6",
           "showlakes": true,
           "showland": true,
           "subunitcolor": "white"
          },
          "hoverlabel": {
           "align": "left"
          },
          "hovermode": "closest",
          "mapbox": {
           "style": "light"
          },
          "paper_bgcolor": "white",
          "plot_bgcolor": "#E5ECF6",
          "polar": {
           "angularaxis": {
            "gridcolor": "white",
            "linecolor": "white",
            "ticks": ""
           },
           "bgcolor": "#E5ECF6",
           "radialaxis": {
            "gridcolor": "white",
            "linecolor": "white",
            "ticks": ""
           }
          },
          "scene": {
           "xaxis": {
            "backgroundcolor": "#E5ECF6",
            "gridcolor": "white",
            "gridwidth": 2,
            "linecolor": "white",
            "showbackground": true,
            "ticks": "",
            "zerolinecolor": "white"
           },
           "yaxis": {
            "backgroundcolor": "#E5ECF6",
            "gridcolor": "white",
            "gridwidth": 2,
            "linecolor": "white",
            "showbackground": true,
            "ticks": "",
            "zerolinecolor": "white"
           },
           "zaxis": {
            "backgroundcolor": "#E5ECF6",
            "gridcolor": "white",
            "gridwidth": 2,
            "linecolor": "white",
            "showbackground": true,
            "ticks": "",
            "zerolinecolor": "white"
           }
          },
          "shapedefaults": {
           "line": {
            "color": "#2a3f5f"
           }
          },
          "ternary": {
           "aaxis": {
            "gridcolor": "white",
            "linecolor": "white",
            "ticks": ""
           },
           "baxis": {
            "gridcolor": "white",
            "linecolor": "white",
            "ticks": ""
           },
           "bgcolor": "#E5ECF6",
           "caxis": {
            "gridcolor": "white",
            "linecolor": "white",
            "ticks": ""
           }
          },
          "title": {
           "x": 0.05
          },
          "xaxis": {
           "automargin": true,
           "gridcolor": "white",
           "linecolor": "white",
           "ticks": "",
           "title": {
            "standoff": 15
           },
           "zerolinecolor": "white",
           "zerolinewidth": 2
          },
          "yaxis": {
           "automargin": true,
           "gridcolor": "white",
           "linecolor": "white",
           "ticks": "",
           "title": {
            "standoff": 15
           },
           "zerolinecolor": "white",
           "zerolinewidth": 2
          }
         }
        },
        "title": {
         "text": "Comparison of RFM Segments"
        },
        "xaxis": {
         "title": {
          "text": "RFM Segments"
         }
        },
        "yaxis": {
         "title": {
          "text": "Number of Customers"
         }
        }
       }
      }
     },
     "metadata": {},
     "output_type": "display_data"
    }
   ],
   "source": [
    "\n",
    "\n",
    "bar_colors=plotly.colors.qualitative.Set2\n",
    "\n",
    "fig=go.Figure(data=[go.Bar(x=segment_counts.index,y=segment_counts.values,\n",
    "                           marker=dict(color=bar_colors))])\n",
    "\n",
    "Loyal_color='rgb(150,200,215)'\n",
    "\n",
    "fig.update_traces(marker_color=[Loyal_color if segment =='Loyal'else bar_colors[i]\n",
    "                                    for i, segment in enumerate(segment_counts.index)],\n",
    "                marker_line_color='rgb(8,48,90)',\n",
    "                marker_line_width=1,opacity=0.5)\n",
    "                \n",
    "#Update the layout\n",
    "fig.update_layout(title='Comparison of RFM Segments',\n",
    "                  xaxis_title='RFM Segments',\n",
    "                  yaxis_title='Number of Customers',\n",
    "                  showlegend=False)\n",
    "\n",
    "#Display the figure\n",
    "fig.show()"
   ]
  },
  {
   "cell_type": "code",
   "execution_count": 52,
   "metadata": {},
   "outputs": [
    {
     "data": {
      "application/vnd.plotly.v1+json": {
       "config": {
        "plotlyServerURL": "https://plot.ly"
       },
       "data": [
        {
         "marker": {
          "color": "rgb(152, 251, 152)"
         },
         "name": "Recency Score",
         "type": "bar",
         "x": [
          "Critical",
          "Dormant",
          "Inactive",
          "Loyal",
          "Potential Loyal"
         ],
         "y": [
          1.464102564102564,
          1.741747572815534,
          1,
          3.402001177163037,
          2.437090909090909
         ]
        },
        {
         "marker": {
          "color": "rgb(50, 205, 50)"
         },
         "name": "Frequency Score",
         "type": "bar",
         "x": [
          "Critical",
          "Dormant",
          "Inactive",
          "Loyal",
          "Potential Loyal"
         ],
         "y": [
          1.2717948717948717,
          1.6252427184466018,
          1,
          3.5738669805768097,
          2.2603636363636364
         ]
        },
        {
         "marker": {
          "color": "rgb(0, 100, 0)"
         },
         "name": "M_Value Score",
         "type": "bar",
         "x": [
          "Critical",
          "Dormant",
          "Inactive",
          "Loyal",
          "Potential Loyal"
         ],
         "y": [
          1.264102564102564,
          1.633009708737864,
          1,
          3.5544437904649793,
          2.301090909090909
         ]
        }
       ],
       "layout": {
        "barmode": "group",
        "showlegend": true,
        "template": {
         "data": {
          "bar": [
           {
            "error_x": {
             "color": "#2a3f5f"
            },
            "error_y": {
             "color": "#2a3f5f"
            },
            "marker": {
             "line": {
              "color": "#E5ECF6",
              "width": 0.5
             },
             "pattern": {
              "fillmode": "overlay",
              "size": 10,
              "solidity": 0.2
             }
            },
            "type": "bar"
           }
          ],
          "barpolar": [
           {
            "marker": {
             "line": {
              "color": "#E5ECF6",
              "width": 0.5
             },
             "pattern": {
              "fillmode": "overlay",
              "size": 10,
              "solidity": 0.2
             }
            },
            "type": "barpolar"
           }
          ],
          "carpet": [
           {
            "aaxis": {
             "endlinecolor": "#2a3f5f",
             "gridcolor": "white",
             "linecolor": "white",
             "minorgridcolor": "white",
             "startlinecolor": "#2a3f5f"
            },
            "baxis": {
             "endlinecolor": "#2a3f5f",
             "gridcolor": "white",
             "linecolor": "white",
             "minorgridcolor": "white",
             "startlinecolor": "#2a3f5f"
            },
            "type": "carpet"
           }
          ],
          "choropleth": [
           {
            "colorbar": {
             "outlinewidth": 0,
             "ticks": ""
            },
            "type": "choropleth"
           }
          ],
          "contour": [
           {
            "colorbar": {
             "outlinewidth": 0,
             "ticks": ""
            },
            "colorscale": [
             [
              0,
              "#0d0887"
             ],
             [
              0.1111111111111111,
              "#46039f"
             ],
             [
              0.2222222222222222,
              "#7201a8"
             ],
             [
              0.3333333333333333,
              "#9c179e"
             ],
             [
              0.4444444444444444,
              "#bd3786"
             ],
             [
              0.5555555555555556,
              "#d8576b"
             ],
             [
              0.6666666666666666,
              "#ed7953"
             ],
             [
              0.7777777777777778,
              "#fb9f3a"
             ],
             [
              0.8888888888888888,
              "#fdca26"
             ],
             [
              1,
              "#f0f921"
             ]
            ],
            "type": "contour"
           }
          ],
          "contourcarpet": [
           {
            "colorbar": {
             "outlinewidth": 0,
             "ticks": ""
            },
            "type": "contourcarpet"
           }
          ],
          "heatmap": [
           {
            "colorbar": {
             "outlinewidth": 0,
             "ticks": ""
            },
            "colorscale": [
             [
              0,
              "#0d0887"
             ],
             [
              0.1111111111111111,
              "#46039f"
             ],
             [
              0.2222222222222222,
              "#7201a8"
             ],
             [
              0.3333333333333333,
              "#9c179e"
             ],
             [
              0.4444444444444444,
              "#bd3786"
             ],
             [
              0.5555555555555556,
              "#d8576b"
             ],
             [
              0.6666666666666666,
              "#ed7953"
             ],
             [
              0.7777777777777778,
              "#fb9f3a"
             ],
             [
              0.8888888888888888,
              "#fdca26"
             ],
             [
              1,
              "#f0f921"
             ]
            ],
            "type": "heatmap"
           }
          ],
          "heatmapgl": [
           {
            "colorbar": {
             "outlinewidth": 0,
             "ticks": ""
            },
            "colorscale": [
             [
              0,
              "#0d0887"
             ],
             [
              0.1111111111111111,
              "#46039f"
             ],
             [
              0.2222222222222222,
              "#7201a8"
             ],
             [
              0.3333333333333333,
              "#9c179e"
             ],
             [
              0.4444444444444444,
              "#bd3786"
             ],
             [
              0.5555555555555556,
              "#d8576b"
             ],
             [
              0.6666666666666666,
              "#ed7953"
             ],
             [
              0.7777777777777778,
              "#fb9f3a"
             ],
             [
              0.8888888888888888,
              "#fdca26"
             ],
             [
              1,
              "#f0f921"
             ]
            ],
            "type": "heatmapgl"
           }
          ],
          "histogram": [
           {
            "marker": {
             "pattern": {
              "fillmode": "overlay",
              "size": 10,
              "solidity": 0.2
             }
            },
            "type": "histogram"
           }
          ],
          "histogram2d": [
           {
            "colorbar": {
             "outlinewidth": 0,
             "ticks": ""
            },
            "colorscale": [
             [
              0,
              "#0d0887"
             ],
             [
              0.1111111111111111,
              "#46039f"
             ],
             [
              0.2222222222222222,
              "#7201a8"
             ],
             [
              0.3333333333333333,
              "#9c179e"
             ],
             [
              0.4444444444444444,
              "#bd3786"
             ],
             [
              0.5555555555555556,
              "#d8576b"
             ],
             [
              0.6666666666666666,
              "#ed7953"
             ],
             [
              0.7777777777777778,
              "#fb9f3a"
             ],
             [
              0.8888888888888888,
              "#fdca26"
             ],
             [
              1,
              "#f0f921"
             ]
            ],
            "type": "histogram2d"
           }
          ],
          "histogram2dcontour": [
           {
            "colorbar": {
             "outlinewidth": 0,
             "ticks": ""
            },
            "colorscale": [
             [
              0,
              "#0d0887"
             ],
             [
              0.1111111111111111,
              "#46039f"
             ],
             [
              0.2222222222222222,
              "#7201a8"
             ],
             [
              0.3333333333333333,
              "#9c179e"
             ],
             [
              0.4444444444444444,
              "#bd3786"
             ],
             [
              0.5555555555555556,
              "#d8576b"
             ],
             [
              0.6666666666666666,
              "#ed7953"
             ],
             [
              0.7777777777777778,
              "#fb9f3a"
             ],
             [
              0.8888888888888888,
              "#fdca26"
             ],
             [
              1,
              "#f0f921"
             ]
            ],
            "type": "histogram2dcontour"
           }
          ],
          "mesh3d": [
           {
            "colorbar": {
             "outlinewidth": 0,
             "ticks": ""
            },
            "type": "mesh3d"
           }
          ],
          "parcoords": [
           {
            "line": {
             "colorbar": {
              "outlinewidth": 0,
              "ticks": ""
             }
            },
            "type": "parcoords"
           }
          ],
          "pie": [
           {
            "automargin": true,
            "type": "pie"
           }
          ],
          "scatter": [
           {
            "fillpattern": {
             "fillmode": "overlay",
             "size": 10,
             "solidity": 0.2
            },
            "type": "scatter"
           }
          ],
          "scatter3d": [
           {
            "line": {
             "colorbar": {
              "outlinewidth": 0,
              "ticks": ""
             }
            },
            "marker": {
             "colorbar": {
              "outlinewidth": 0,
              "ticks": ""
             }
            },
            "type": "scatter3d"
           }
          ],
          "scattercarpet": [
           {
            "marker": {
             "colorbar": {
              "outlinewidth": 0,
              "ticks": ""
             }
            },
            "type": "scattercarpet"
           }
          ],
          "scattergeo": [
           {
            "marker": {
             "colorbar": {
              "outlinewidth": 0,
              "ticks": ""
             }
            },
            "type": "scattergeo"
           }
          ],
          "scattergl": [
           {
            "marker": {
             "colorbar": {
              "outlinewidth": 0,
              "ticks": ""
             }
            },
            "type": "scattergl"
           }
          ],
          "scattermapbox": [
           {
            "marker": {
             "colorbar": {
              "outlinewidth": 0,
              "ticks": ""
             }
            },
            "type": "scattermapbox"
           }
          ],
          "scatterpolar": [
           {
            "marker": {
             "colorbar": {
              "outlinewidth": 0,
              "ticks": ""
             }
            },
            "type": "scatterpolar"
           }
          ],
          "scatterpolargl": [
           {
            "marker": {
             "colorbar": {
              "outlinewidth": 0,
              "ticks": ""
             }
            },
            "type": "scatterpolargl"
           }
          ],
          "scatterternary": [
           {
            "marker": {
             "colorbar": {
              "outlinewidth": 0,
              "ticks": ""
             }
            },
            "type": "scatterternary"
           }
          ],
          "surface": [
           {
            "colorbar": {
             "outlinewidth": 0,
             "ticks": ""
            },
            "colorscale": [
             [
              0,
              "#0d0887"
             ],
             [
              0.1111111111111111,
              "#46039f"
             ],
             [
              0.2222222222222222,
              "#7201a8"
             ],
             [
              0.3333333333333333,
              "#9c179e"
             ],
             [
              0.4444444444444444,
              "#bd3786"
             ],
             [
              0.5555555555555556,
              "#d8576b"
             ],
             [
              0.6666666666666666,
              "#ed7953"
             ],
             [
              0.7777777777777778,
              "#fb9f3a"
             ],
             [
              0.8888888888888888,
              "#fdca26"
             ],
             [
              1,
              "#f0f921"
             ]
            ],
            "type": "surface"
           }
          ],
          "table": [
           {
            "cells": {
             "fill": {
              "color": "#EBF0F8"
             },
             "line": {
              "color": "white"
             }
            },
            "header": {
             "fill": {
              "color": "#C8D4E3"
             },
             "line": {
              "color": "white"
             }
            },
            "type": "table"
           }
          ]
         },
         "layout": {
          "annotationdefaults": {
           "arrowcolor": "#2a3f5f",
           "arrowhead": 0,
           "arrowwidth": 1
          },
          "autotypenumbers": "strict",
          "coloraxis": {
           "colorbar": {
            "outlinewidth": 0,
            "ticks": ""
           }
          },
          "colorscale": {
           "diverging": [
            [
             0,
             "#8e0152"
            ],
            [
             0.1,
             "#c51b7d"
            ],
            [
             0.2,
             "#de77ae"
            ],
            [
             0.3,
             "#f1b6da"
            ],
            [
             0.4,
             "#fde0ef"
            ],
            [
             0.5,
             "#f7f7f7"
            ],
            [
             0.6,
             "#e6f5d0"
            ],
            [
             0.7,
             "#b8e186"
            ],
            [
             0.8,
             "#7fbc41"
            ],
            [
             0.9,
             "#4d9221"
            ],
            [
             1,
             "#276419"
            ]
           ],
           "sequential": [
            [
             0,
             "#0d0887"
            ],
            [
             0.1111111111111111,
             "#46039f"
            ],
            [
             0.2222222222222222,
             "#7201a8"
            ],
            [
             0.3333333333333333,
             "#9c179e"
            ],
            [
             0.4444444444444444,
             "#bd3786"
            ],
            [
             0.5555555555555556,
             "#d8576b"
            ],
            [
             0.6666666666666666,
             "#ed7953"
            ],
            [
             0.7777777777777778,
             "#fb9f3a"
            ],
            [
             0.8888888888888888,
             "#fdca26"
            ],
            [
             1,
             "#f0f921"
            ]
           ],
           "sequentialminus": [
            [
             0,
             "#0d0887"
            ],
            [
             0.1111111111111111,
             "#46039f"
            ],
            [
             0.2222222222222222,
             "#7201a8"
            ],
            [
             0.3333333333333333,
             "#9c179e"
            ],
            [
             0.4444444444444444,
             "#bd3786"
            ],
            [
             0.5555555555555556,
             "#d8576b"
            ],
            [
             0.6666666666666666,
             "#ed7953"
            ],
            [
             0.7777777777777778,
             "#fb9f3a"
            ],
            [
             0.8888888888888888,
             "#fdca26"
            ],
            [
             1,
             "#f0f921"
            ]
           ]
          },
          "colorway": [
           "#636efa",
           "#EF553B",
           "#00cc96",
           "#ab63fa",
           "#FFA15A",
           "#19d3f3",
           "#FF6692",
           "#B6E880",
           "#FF97FF",
           "#FECB52"
          ],
          "font": {
           "color": "#2a3f5f"
          },
          "geo": {
           "bgcolor": "white",
           "lakecolor": "white",
           "landcolor": "#E5ECF6",
           "showlakes": true,
           "showland": true,
           "subunitcolor": "white"
          },
          "hoverlabel": {
           "align": "left"
          },
          "hovermode": "closest",
          "mapbox": {
           "style": "light"
          },
          "paper_bgcolor": "white",
          "plot_bgcolor": "#E5ECF6",
          "polar": {
           "angularaxis": {
            "gridcolor": "white",
            "linecolor": "white",
            "ticks": ""
           },
           "bgcolor": "#E5ECF6",
           "radialaxis": {
            "gridcolor": "white",
            "linecolor": "white",
            "ticks": ""
           }
          },
          "scene": {
           "xaxis": {
            "backgroundcolor": "#E5ECF6",
            "gridcolor": "white",
            "gridwidth": 2,
            "linecolor": "white",
            "showbackground": true,
            "ticks": "",
            "zerolinecolor": "white"
           },
           "yaxis": {
            "backgroundcolor": "#E5ECF6",
            "gridcolor": "white",
            "gridwidth": 2,
            "linecolor": "white",
            "showbackground": true,
            "ticks": "",
            "zerolinecolor": "white"
           },
           "zaxis": {
            "backgroundcolor": "#E5ECF6",
            "gridcolor": "white",
            "gridwidth": 2,
            "linecolor": "white",
            "showbackground": true,
            "ticks": "",
            "zerolinecolor": "white"
           }
          },
          "shapedefaults": {
           "line": {
            "color": "#2a3f5f"
           }
          },
          "ternary": {
           "aaxis": {
            "gridcolor": "white",
            "linecolor": "white",
            "ticks": ""
           },
           "baxis": {
            "gridcolor": "white",
            "linecolor": "white",
            "ticks": ""
           },
           "bgcolor": "#E5ECF6",
           "caxis": {
            "gridcolor": "white",
            "linecolor": "white",
            "ticks": ""
           }
          },
          "title": {
           "x": 0.05
          },
          "xaxis": {
           "automargin": true,
           "gridcolor": "white",
           "linecolor": "white",
           "ticks": "",
           "title": {
            "standoff": 15
           },
           "zerolinecolor": "white",
           "zerolinewidth": 2
          },
          "yaxis": {
           "automargin": true,
           "gridcolor": "white",
           "linecolor": "white",
           "ticks": "",
           "title": {
            "standoff": 15
           },
           "zerolinecolor": "white",
           "zerolinewidth": 2
          }
         }
        },
        "title": {
         "text": "Comparison of the RFM Segments based on Recency, Frequency and Monetary Value Scores"
        },
        "xaxis": {
         "title": {
          "text": "RFM Segments"
         }
        },
        "yaxis": {
         "title": {
          "text": "Score"
         }
        }
       }
      }
     },
     "metadata": {},
     "output_type": "display_data"
    }
   ],
   "source": [
    "#custom shade of green\n",
    "colors=['rgb(152, 251, 152)','rgb(50, 205, 50)','rgb(0, 100, 0)']\n",
    "\n",
    "# Assuming segment_scores is your DataFrame\n",
    "segment_scores=RFM.groupby('RFM_Customer_Segments')[['R','F','M']].mean().reset_index()\n",
    "\n",
    "fig =go.Figure()\n",
    "\n",
    "#Add bars for Recency score\n",
    "fig.add_trace(go.Bar(\n",
    "    x=segment_scores['RFM_Customer_Segments'],\n",
    "    y=segment_scores['R'],\n",
    "    name='Recency Score',\n",
    "    marker_color=colors[0]    \n",
    "))\n",
    "\n",
    "#Add bars for FRequency score\n",
    "fig.add_trace(go.Bar(\n",
    "    x=segment_scores['RFM_Customer_Segments'],\n",
    "    y=segment_scores['F'],\n",
    "    name='Frequency Score',\n",
    "    marker_color=colors[1]    \n",
    "))\n",
    "\n",
    "#Add bars for Monetary Value Score\n",
    "fig.add_trace(go.Bar(\n",
    "    x=segment_scores['RFM_Customer_Segments'],\n",
    "    y=segment_scores['M'],\n",
    "    name='M_Value Score',\n",
    "    marker_color=colors[2]    \n",
    "))\n",
    "#Update the layout\n",
    "fig.update_layout(\n",
    "    title='Comparison of the RFM Segments based on Recency, Frequency and Monetary Value Scores',\n",
    "    xaxis_title='RFM Segments',\n",
    "    yaxis_title='Score',\n",
    "    barmode='group',\n",
    "    showlegend=True\n",
    ")\n",
    "\n",
    "#Display the grouped bar chart\n",
    "fig.show()"
   ]
  }
 ],
 "metadata": {
  "kernelspec": {
   "display_name": ".venv",
   "language": "python",
   "name": "python3"
  },
  "language_info": {
   "codemirror_mode": {
    "name": "ipython",
    "version": 3
   },
   "file_extension": ".py",
   "mimetype": "text/x-python",
   "name": "python",
   "nbconvert_exporter": "python",
   "pygments_lexer": "ipython3",
   "version": "3.12.5"
  }
 },
 "nbformat": 4,
 "nbformat_minor": 2
}
